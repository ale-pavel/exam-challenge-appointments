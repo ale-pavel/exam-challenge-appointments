{
 "cells": [
  {
   "cell_type": "code",
   "execution_count": 1,
   "metadata": {},
   "outputs": [],
   "source": [
    "#!pip install -r requirements.txt"
   ]
  },
  {
   "cell_type": "code",
   "execution_count": 2,
   "metadata": {},
   "outputs": [],
   "source": [
    "import pandas as pd\n",
    "import numpy as np\n",
    "\n",
    "import seaborn as sns\n",
    "%matplotlib inline\n",
    "import matplotlib.pyplot as plt"
   ]
  },
  {
   "cell_type": "code",
   "execution_count": 3,
   "metadata": {},
   "outputs": [],
   "source": [
    "train_data = pd.read_csv('train.csv')\n",
    "test_data = pd.read_csv('test.csv')"
   ]
  },
  {
   "cell_type": "code",
   "execution_count": 4,
   "metadata": {},
   "outputs": [
    {
     "name": "stdout",
     "output_type": "stream",
     "text": [
      "(70736, 14)\n",
      "(17685, 14)\n"
     ]
    }
   ],
   "source": [
    "print(train_data.shape)\n",
    "print(test_data.shape)"
   ]
  },
  {
   "cell_type": "markdown",
   "metadata": {},
   "source": [
    "# Preprocessing"
   ]
  },
  {
   "cell_type": "markdown",
   "metadata": {},
   "source": [
    "## Drop delle colonne ritenute superflue, separazione train/test in X, y"
   ]
  },
  {
   "cell_type": "code",
   "execution_count": 5,
   "metadata": {},
   "outputs": [],
   "source": [
    "X_train = train_data.drop(columns=['No-show', 'AppointmentID', 'PatientId', 'Gender', 'Alcoholism', 'Handcap'])\n",
    "y_train = train_data['No-show']\n",
    "\n",
    "X_test = test_data.drop(columns=['No-show', 'AppointmentID', 'PatientId', 'Gender', 'Alcoholism', 'Handcap'])\n",
    "y_test = test_data['No-show']"
   ]
  },
  {
   "cell_type": "markdown",
   "metadata": {},
   "source": [
    "## Conversione dei valori Yes/No di No-show in 1/0"
   ]
  },
  {
   "cell_type": "code",
   "execution_count": 6,
   "metadata": {},
   "outputs": [],
   "source": [
    "y_train = y_train.replace(['Yes', 'No'], [1, 0])\n",
    "y_test = y_test.replace(['Yes', 'No'], [1, 0])"
   ]
  },
  {
   "cell_type": "markdown",
   "metadata": {},
   "source": [
    "## Pulizia dati da possibili valori nulli o non conformi"
   ]
  },
  {
   "cell_type": "code",
   "execution_count": 7,
   "metadata": {},
   "outputs": [
    {
     "data": {
      "text/plain": [
       "ScheduledDay      object\n",
       "AppointmentDay    object\n",
       "Age                int64\n",
       "Neighbourhood     object\n",
       "Scholarship        int64\n",
       "Hipertension       int64\n",
       "Diabetes           int64\n",
       "SMS_received       int64\n",
       "dtype: object"
      ]
     },
     "execution_count": 7,
     "metadata": {},
     "output_type": "execute_result"
    }
   ],
   "source": [
    "X_train.dtypes"
   ]
  },
  {
   "cell_type": "code",
   "execution_count": 8,
   "metadata": {},
   "outputs": [],
   "source": [
    "num_columns = ['Scholarship', 'Hipertension', 'Diabetes', 'SMS_received']"
   ]
  },
  {
   "cell_type": "code",
   "execution_count": 9,
   "metadata": {},
   "outputs": [],
   "source": [
    "X_train = X_train.replace(['', ' ', '?'], np.nan)\n",
    "X_test = X_test.replace(['', ' ', '?'], np.nan)\n",
    "\n",
    "X_train = X_train.replace(np.nan, 0)\n",
    "X_test = X_test.replace(np.nan, 0)"
   ]
  },
  {
   "cell_type": "markdown",
   "metadata": {},
   "source": [
    "## Conversione delle colonne datetime"
   ]
  },
  {
   "cell_type": "code",
   "execution_count": 10,
   "metadata": {},
   "outputs": [],
   "source": [
    "X_train_date = X_train.astype({'ScheduledDay': 'datetime64[D]', 'AppointmentDay': 'datetime64[D]'})\n",
    "X_test_date = X_test.astype({'ScheduledDay': 'datetime64[D]', 'AppointmentDay': 'datetime64[D]'})"
   ]
  },
  {
   "cell_type": "code",
   "execution_count": 11,
   "metadata": {},
   "outputs": [],
   "source": [
    "X_train_datediff = X_train_date['AppointmentDay'] - X_train_date['ScheduledDay']\n",
    "X_test_datediff = X_test_date['AppointmentDay'] - X_test_date['ScheduledDay']"
   ]
  },
  {
   "cell_type": "code",
   "execution_count": 12,
   "metadata": {},
   "outputs": [
    {
     "data": {
      "text/plain": [
       "0         2\n",
       "1        32\n",
       "2         0\n",
       "3        14\n",
       "4        21\n",
       "         ..\n",
       "17680     0\n",
       "17681    22\n",
       "17682     1\n",
       "17683    23\n",
       "17684     0\n",
       "Length: 17685, dtype: int64"
      ]
     },
     "execution_count": 12,
     "metadata": {},
     "output_type": "execute_result"
    }
   ],
   "source": [
    "X_train_datediff = X_train_datediff.astype('timedelta64[D]')\n",
    "X_test_datediff = X_test_datediff.astype('timedelta64[D]')\n",
    "X_train_datediff = X_train_datediff.astype('int64')\n",
    "X_test_datediff = X_test_datediff.astype('int64')\n",
    "X_test_datediff"
   ]
  },
  {
   "cell_type": "code",
   "execution_count": 13,
   "metadata": {},
   "outputs": [],
   "source": [
    "X_train_daydiff = X_train_date\n",
    "X_train_daydiff['DaysToAppointment'] = X_train_datediff\n",
    "\n",
    "X_test_daydiff = X_test_date\n",
    "X_test_daydiff['DaysToAppointment'] = X_test_datediff"
   ]
  },
  {
   "cell_type": "code",
   "execution_count": 14,
   "metadata": {},
   "outputs": [],
   "source": [
    "X_train_daydiff['AppointmentDay'] = X_train_daydiff['AppointmentDay'].dt.dayofweek\n",
    "X_train_daydiff['ScheduledDay'] = X_train_daydiff['ScheduledDay'].dt.dayofweek\n",
    "\n",
    "X_test_daydiff['AppointmentDay'] = X_test_daydiff['AppointmentDay'].dt.dayofweek\n",
    "X_test_daydiff['ScheduledDay'] = X_test_daydiff['ScheduledDay'].dt.dayofweek"
   ]
  },
  {
   "cell_type": "code",
   "execution_count": 15,
   "metadata": {},
   "outputs": [
    {
     "data": {
      "text/plain": [
       "ScheduledDay          int64\n",
       "AppointmentDay        int64\n",
       "Age                   int64\n",
       "Neighbourhood        object\n",
       "Scholarship           int64\n",
       "Hipertension          int64\n",
       "Diabetes              int64\n",
       "SMS_received          int64\n",
       "DaysToAppointment     int64\n",
       "dtype: object"
      ]
     },
     "execution_count": 15,
     "metadata": {},
     "output_type": "execute_result"
    }
   ],
   "source": [
    "X_train_daydiff.dtypes"
   ]
  },
  {
   "cell_type": "code",
   "execution_count": 16,
   "metadata": {},
   "outputs": [
    {
     "data": {
      "text/html": [
       "<div>\n",
       "<style scoped>\n",
       "    .dataframe tbody tr th:only-of-type {\n",
       "        vertical-align: middle;\n",
       "    }\n",
       "\n",
       "    .dataframe tbody tr th {\n",
       "        vertical-align: top;\n",
       "    }\n",
       "\n",
       "    .dataframe thead th {\n",
       "        text-align: right;\n",
       "    }\n",
       "</style>\n",
       "<table border=\"1\" class=\"dataframe\">\n",
       "  <thead>\n",
       "    <tr style=\"text-align: right;\">\n",
       "      <th></th>\n",
       "      <th>ScheduledDay</th>\n",
       "      <th>AppointmentDay</th>\n",
       "      <th>Age</th>\n",
       "      <th>Neighbourhood</th>\n",
       "      <th>Scholarship</th>\n",
       "      <th>Hipertension</th>\n",
       "      <th>Diabetes</th>\n",
       "      <th>SMS_received</th>\n",
       "      <th>DaysToAppointment</th>\n",
       "    </tr>\n",
       "  </thead>\n",
       "  <tbody>\n",
       "    <tr>\n",
       "      <th>0</th>\n",
       "      <td>4</td>\n",
       "      <td>4</td>\n",
       "      <td>21</td>\n",
       "      <td>SÃO CRISTÓVÃO</td>\n",
       "      <td>0</td>\n",
       "      <td>0</td>\n",
       "      <td>0</td>\n",
       "      <td>0</td>\n",
       "      <td>0</td>\n",
       "    </tr>\n",
       "    <tr>\n",
       "      <th>1</th>\n",
       "      <td>3</td>\n",
       "      <td>4</td>\n",
       "      <td>95</td>\n",
       "      <td>CENTRO</td>\n",
       "      <td>0</td>\n",
       "      <td>1</td>\n",
       "      <td>0</td>\n",
       "      <td>0</td>\n",
       "      <td>1</td>\n",
       "    </tr>\n",
       "    <tr>\n",
       "      <th>2</th>\n",
       "      <td>2</td>\n",
       "      <td>3</td>\n",
       "      <td>71</td>\n",
       "      <td>CRUZAMENTO</td>\n",
       "      <td>0</td>\n",
       "      <td>0</td>\n",
       "      <td>0</td>\n",
       "      <td>0</td>\n",
       "      <td>1</td>\n",
       "    </tr>\n",
       "    <tr>\n",
       "      <th>3</th>\n",
       "      <td>2</td>\n",
       "      <td>4</td>\n",
       "      <td>18</td>\n",
       "      <td>CARATOÍRA</td>\n",
       "      <td>0</td>\n",
       "      <td>0</td>\n",
       "      <td>0</td>\n",
       "      <td>0</td>\n",
       "      <td>2</td>\n",
       "    </tr>\n",
       "    <tr>\n",
       "      <th>4</th>\n",
       "      <td>2</td>\n",
       "      <td>2</td>\n",
       "      <td>45</td>\n",
       "      <td>PRAIA DO SUÁ</td>\n",
       "      <td>1</td>\n",
       "      <td>0</td>\n",
       "      <td>0</td>\n",
       "      <td>0</td>\n",
       "      <td>0</td>\n",
       "    </tr>\n",
       "  </tbody>\n",
       "</table>\n",
       "</div>"
      ],
      "text/plain": [
       "   ScheduledDay  AppointmentDay  Age  Neighbourhood  Scholarship  \\\n",
       "0             4               4   21  SÃO CRISTÓVÃO            0   \n",
       "1             3               4   95         CENTRO            0   \n",
       "2             2               3   71     CRUZAMENTO            0   \n",
       "3             2               4   18      CARATOÍRA            0   \n",
       "4             2               2   45   PRAIA DO SUÁ            1   \n",
       "\n",
       "   Hipertension  Diabetes  SMS_received  DaysToAppointment  \n",
       "0             0         0             0                  0  \n",
       "1             1         0             0                  1  \n",
       "2             0         0             0                  1  \n",
       "3             0         0             0                  2  \n",
       "4             0         0             0                  0  "
      ]
     },
     "execution_count": 16,
     "metadata": {},
     "output_type": "execute_result"
    }
   ],
   "source": [
    "X_train_daydiff.head()"
   ]
  },
  {
   "cell_type": "markdown",
   "metadata": {},
   "source": [
    "## Codifica delle classi di Neighbourhood (LabelEncoding)\n",
    "\n",
    "In caso di classe poco frequente (<1250 pazienti in un neighbourhood) essa viene codificata con \"Other\", questo anche per i dati di test, così da evitare possibili errori nel LabelEncoding per nuove classi non viste in precedenza (nel fit). I valori di neighbour iniettati sono ordinati per la probabilità di No-show del train set di ogni neighbourhood (vedere notebook di preparazione)."
   ]
  },
  {
   "cell_type": "code",
   "execution_count": 17,
   "metadata": {},
   "outputs": [],
   "source": [
    "neighbour_count = X_train_daydiff['Neighbourhood'].value_counts()\n",
    "\n",
    "def neighbour_bin(name):\n",
    "    if (not name in neighbour_count.index):\n",
    "        return 'Other'\n",
    "    elif (neighbour_count[name]) < 1250:\n",
    "        return 'Other'\n",
    "    else:\n",
    "        return name"
   ]
  },
  {
   "cell_type": "code",
   "execution_count": 18,
   "metadata": {},
   "outputs": [],
   "source": [
    "X_train_daydiff['Neighbourhood'] = X_train_daydiff['Neighbourhood'].apply(lambda n: neighbour_bin(n))\n",
    "X_test_daydiff['Neighbourhood'] = X_test_daydiff['Neighbourhood'].apply(lambda n: neighbour_bin(n))"
   ]
  },
  {
   "cell_type": "code",
   "execution_count": 19,
   "metadata": {},
   "outputs": [
    {
     "data": {
      "text/html": [
       "<div>\n",
       "<style scoped>\n",
       "    .dataframe tbody tr th:only-of-type {\n",
       "        vertical-align: middle;\n",
       "    }\n",
       "\n",
       "    .dataframe tbody tr th {\n",
       "        vertical-align: top;\n",
       "    }\n",
       "\n",
       "    .dataframe thead th {\n",
       "        text-align: right;\n",
       "    }\n",
       "</style>\n",
       "<table border=\"1\" class=\"dataframe\">\n",
       "  <thead>\n",
       "    <tr style=\"text-align: right;\">\n",
       "      <th></th>\n",
       "      <th>ScheduledDay</th>\n",
       "      <th>AppointmentDay</th>\n",
       "      <th>Age</th>\n",
       "      <th>Neighbourhood</th>\n",
       "      <th>Scholarship</th>\n",
       "      <th>Hipertension</th>\n",
       "      <th>Diabetes</th>\n",
       "      <th>SMS_received</th>\n",
       "      <th>DaysToAppointment</th>\n",
       "    </tr>\n",
       "  </thead>\n",
       "  <tbody>\n",
       "    <tr>\n",
       "      <th>0</th>\n",
       "      <td>4</td>\n",
       "      <td>4</td>\n",
       "      <td>21</td>\n",
       "      <td>Other</td>\n",
       "      <td>0</td>\n",
       "      <td>0</td>\n",
       "      <td>0</td>\n",
       "      <td>0</td>\n",
       "      <td>0</td>\n",
       "    </tr>\n",
       "    <tr>\n",
       "      <th>1</th>\n",
       "      <td>3</td>\n",
       "      <td>4</td>\n",
       "      <td>95</td>\n",
       "      <td>CENTRO</td>\n",
       "      <td>0</td>\n",
       "      <td>1</td>\n",
       "      <td>0</td>\n",
       "      <td>0</td>\n",
       "      <td>1</td>\n",
       "    </tr>\n",
       "    <tr>\n",
       "      <th>2</th>\n",
       "      <td>2</td>\n",
       "      <td>3</td>\n",
       "      <td>71</td>\n",
       "      <td>Other</td>\n",
       "      <td>0</td>\n",
       "      <td>0</td>\n",
       "      <td>0</td>\n",
       "      <td>0</td>\n",
       "      <td>1</td>\n",
       "    </tr>\n",
       "    <tr>\n",
       "      <th>3</th>\n",
       "      <td>2</td>\n",
       "      <td>4</td>\n",
       "      <td>18</td>\n",
       "      <td>CARATOÍRA</td>\n",
       "      <td>0</td>\n",
       "      <td>0</td>\n",
       "      <td>0</td>\n",
       "      <td>0</td>\n",
       "      <td>2</td>\n",
       "    </tr>\n",
       "    <tr>\n",
       "      <th>4</th>\n",
       "      <td>2</td>\n",
       "      <td>2</td>\n",
       "      <td>45</td>\n",
       "      <td>Other</td>\n",
       "      <td>1</td>\n",
       "      <td>0</td>\n",
       "      <td>0</td>\n",
       "      <td>0</td>\n",
       "      <td>0</td>\n",
       "    </tr>\n",
       "  </tbody>\n",
       "</table>\n",
       "</div>"
      ],
      "text/plain": [
       "   ScheduledDay  AppointmentDay  Age Neighbourhood  Scholarship  Hipertension  \\\n",
       "0             4               4   21         Other            0             0   \n",
       "1             3               4   95        CENTRO            0             1   \n",
       "2             2               3   71         Other            0             0   \n",
       "3             2               4   18     CARATOÍRA            0             0   \n",
       "4             2               2   45         Other            1             0   \n",
       "\n",
       "   Diabetes  SMS_received  DaysToAppointment  \n",
       "0         0             0                  0  \n",
       "1         0             0                  1  \n",
       "2         0             0                  1  \n",
       "3         0             0                  2  \n",
       "4         0             0                  0  "
      ]
     },
     "execution_count": 19,
     "metadata": {},
     "output_type": "execute_result"
    }
   ],
   "source": [
    "X_train_daydiff.head()"
   ]
  },
  {
   "cell_type": "code",
   "execution_count": 20,
   "metadata": {},
   "outputs": [
    {
     "data": {
      "text/html": [
       "<div>\n",
       "<style scoped>\n",
       "    .dataframe tbody tr th:only-of-type {\n",
       "        vertical-align: middle;\n",
       "    }\n",
       "\n",
       "    .dataframe tbody tr th {\n",
       "        vertical-align: top;\n",
       "    }\n",
       "\n",
       "    .dataframe thead th {\n",
       "        text-align: right;\n",
       "    }\n",
       "</style>\n",
       "<table border=\"1\" class=\"dataframe\">\n",
       "  <thead>\n",
       "    <tr style=\"text-align: right;\">\n",
       "      <th></th>\n",
       "      <th>No-show</th>\n",
       "    </tr>\n",
       "    <tr>\n",
       "      <th>Neighbourhood</th>\n",
       "      <th></th>\n",
       "    </tr>\n",
       "  </thead>\n",
       "  <tbody>\n",
       "    <tr>\n",
       "      <th>ITARARÉ</th>\n",
       "      <td>0.249779</td>\n",
       "    </tr>\n",
       "    <tr>\n",
       "      <th>JESUS DE NAZARETH</th>\n",
       "      <td>0.242088</td>\n",
       "    </tr>\n",
       "    <tr>\n",
       "      <th>ILHA DO PRÍNCIPE</th>\n",
       "      <td>0.235940</td>\n",
       "    </tr>\n",
       "    <tr>\n",
       "      <th>ANDORINHAS</th>\n",
       "      <td>0.228975</td>\n",
       "    </tr>\n",
       "    <tr>\n",
       "      <th>CARATOÍRA</th>\n",
       "      <td>0.225826</td>\n",
       "    </tr>\n",
       "  </tbody>\n",
       "</table>\n",
       "</div>"
      ],
      "text/plain": [
       "                    No-show\n",
       "Neighbourhood              \n",
       "ITARARÉ            0.249779\n",
       "JESUS DE NAZARETH  0.242088\n",
       "ILHA DO PRÍNCIPE   0.235940\n",
       "ANDORINHAS         0.228975\n",
       "CARATOÍRA          0.225826"
      ]
     },
     "execution_count": 20,
     "metadata": {},
     "output_type": "execute_result"
    }
   ],
   "source": [
    "train_full = pd.concat([y_train, X_train_daydiff], axis=1)\n",
    "ordered = train_full[['Neighbourhood', 'No-show']].groupby(['Neighbourhood']).mean().sort_values(by='No-show', ascending=False)\n",
    "ordered.head()"
   ]
  },
  {
   "cell_type": "code",
   "execution_count": 21,
   "metadata": {},
   "outputs": [
    {
     "name": "stdout",
     "output_type": "stream",
     "text": [
      "   Neighbourhood   No-show\n",
      "15         Other  0.197107\n"
     ]
    },
    {
     "data": {
      "text/html": [
       "<div>\n",
       "<style scoped>\n",
       "    .dataframe tbody tr th:only-of-type {\n",
       "        vertical-align: middle;\n",
       "    }\n",
       "\n",
       "    .dataframe tbody tr th {\n",
       "        vertical-align: top;\n",
       "    }\n",
       "\n",
       "    .dataframe thead th {\n",
       "        text-align: right;\n",
       "    }\n",
       "</style>\n",
       "<table border=\"1\" class=\"dataframe\">\n",
       "  <thead>\n",
       "    <tr style=\"text-align: right;\">\n",
       "      <th></th>\n",
       "      <th>Neighbourhood</th>\n",
       "      <th>No-show</th>\n",
       "    </tr>\n",
       "  </thead>\n",
       "  <tbody>\n",
       "    <tr>\n",
       "      <th>0</th>\n",
       "      <td>ITARARÉ</td>\n",
       "      <td>0.249779</td>\n",
       "    </tr>\n",
       "    <tr>\n",
       "      <th>1</th>\n",
       "      <td>JESUS DE NAZARETH</td>\n",
       "      <td>0.242088</td>\n",
       "    </tr>\n",
       "    <tr>\n",
       "      <th>2</th>\n",
       "      <td>ILHA DO PRÍNCIPE</td>\n",
       "      <td>0.235940</td>\n",
       "    </tr>\n",
       "    <tr>\n",
       "      <th>3</th>\n",
       "      <td>ANDORINHAS</td>\n",
       "      <td>0.228975</td>\n",
       "    </tr>\n",
       "    <tr>\n",
       "      <th>4</th>\n",
       "      <td>CARATOÍRA</td>\n",
       "      <td>0.225826</td>\n",
       "    </tr>\n",
       "  </tbody>\n",
       "</table>\n",
       "</div>"
      ],
      "text/plain": [
       "       Neighbourhood   No-show\n",
       "0            ITARARÉ  0.249779\n",
       "1  JESUS DE NAZARETH  0.242088\n",
       "2   ILHA DO PRÍNCIPE  0.235940\n",
       "3         ANDORINHAS  0.228975\n",
       "4          CARATOÍRA  0.225826"
      ]
     },
     "execution_count": 21,
     "metadata": {},
     "output_type": "execute_result"
    }
   ],
   "source": [
    "df_ordered = pd.DataFrame(data=ordered)\n",
    "df_ordered = df_ordered.reset_index()\n",
    "print(df_ordered[df_ordered['Neighbourhood']=='Other'])\n",
    "df_ordered.head()"
   ]
  },
  {
   "cell_type": "code",
   "execution_count": 22,
   "metadata": {},
   "outputs": [
    {
     "data": {
      "text/plain": [
       "19"
      ]
     },
     "execution_count": 22,
     "metadata": {},
     "output_type": "execute_result"
    }
   ],
   "source": [
    "df_ordered[df_ordered['Neighbourhood'] == 'JABOUR'].index[0]"
   ]
  },
  {
   "cell_type": "code",
   "execution_count": 23,
   "metadata": {},
   "outputs": [],
   "source": [
    "def lookup_neighbour_order(name):\n",
    "    return df_ordered[df_ordered['Neighbourhood'] == name].index[0]"
   ]
  },
  {
   "cell_type": "code",
   "execution_count": 24,
   "metadata": {},
   "outputs": [
    {
     "data": {
      "text/plain": [
       "0        15\n",
       "1         8\n",
       "2        15\n",
       "3         4\n",
       "4        15\n",
       "         ..\n",
       "70731     0\n",
       "70732    22\n",
       "70733    16\n",
       "70734    15\n",
       "70735    20\n",
       "Name: Neighbourhood, Length: 70736, dtype: int64"
      ]
     },
     "execution_count": 24,
     "metadata": {},
     "output_type": "execute_result"
    }
   ],
   "source": [
    "series_labeled = X_train_daydiff['Neighbourhood'].apply(lambda n: lookup_neighbour_order(n))\n",
    "series_labeled"
   ]
  },
  {
   "cell_type": "code",
   "execution_count": 25,
   "metadata": {},
   "outputs": [
    {
     "data": {
      "text/plain": [
       "array([15,  8,  4, 14,  5, 10,  6, 18, 19, 16, 12, 22, 13, 17,  0,  1, 20,\n",
       "       11, 21,  3,  9,  2,  7], dtype=int64)"
      ]
     },
     "execution_count": 25,
     "metadata": {},
     "output_type": "execute_result"
    }
   ],
   "source": [
    "series_labeled.unique()"
   ]
  },
  {
   "cell_type": "code",
   "execution_count": 26,
   "metadata": {},
   "outputs": [
    {
     "data": {
      "text/html": [
       "<div>\n",
       "<style scoped>\n",
       "    .dataframe tbody tr th:only-of-type {\n",
       "        vertical-align: middle;\n",
       "    }\n",
       "\n",
       "    .dataframe tbody tr th {\n",
       "        vertical-align: top;\n",
       "    }\n",
       "\n",
       "    .dataframe thead th {\n",
       "        text-align: right;\n",
       "    }\n",
       "</style>\n",
       "<table border=\"1\" class=\"dataframe\">\n",
       "  <thead>\n",
       "    <tr style=\"text-align: right;\">\n",
       "      <th></th>\n",
       "      <th>ScheduledDay</th>\n",
       "      <th>AppointmentDay</th>\n",
       "      <th>Age</th>\n",
       "      <th>Neighbourhood</th>\n",
       "      <th>Scholarship</th>\n",
       "      <th>Hipertension</th>\n",
       "      <th>Diabetes</th>\n",
       "      <th>SMS_received</th>\n",
       "      <th>DaysToAppointment</th>\n",
       "    </tr>\n",
       "  </thead>\n",
       "  <tbody>\n",
       "    <tr>\n",
       "      <th>0</th>\n",
       "      <td>4</td>\n",
       "      <td>4</td>\n",
       "      <td>21</td>\n",
       "      <td>Other</td>\n",
       "      <td>0</td>\n",
       "      <td>0</td>\n",
       "      <td>0</td>\n",
       "      <td>0</td>\n",
       "      <td>0</td>\n",
       "    </tr>\n",
       "    <tr>\n",
       "      <th>1</th>\n",
       "      <td>3</td>\n",
       "      <td>4</td>\n",
       "      <td>95</td>\n",
       "      <td>CENTRO</td>\n",
       "      <td>0</td>\n",
       "      <td>1</td>\n",
       "      <td>0</td>\n",
       "      <td>0</td>\n",
       "      <td>1</td>\n",
       "    </tr>\n",
       "    <tr>\n",
       "      <th>2</th>\n",
       "      <td>2</td>\n",
       "      <td>3</td>\n",
       "      <td>71</td>\n",
       "      <td>Other</td>\n",
       "      <td>0</td>\n",
       "      <td>0</td>\n",
       "      <td>0</td>\n",
       "      <td>0</td>\n",
       "      <td>1</td>\n",
       "    </tr>\n",
       "    <tr>\n",
       "      <th>3</th>\n",
       "      <td>2</td>\n",
       "      <td>4</td>\n",
       "      <td>18</td>\n",
       "      <td>CARATOÍRA</td>\n",
       "      <td>0</td>\n",
       "      <td>0</td>\n",
       "      <td>0</td>\n",
       "      <td>0</td>\n",
       "      <td>2</td>\n",
       "    </tr>\n",
       "    <tr>\n",
       "      <th>4</th>\n",
       "      <td>2</td>\n",
       "      <td>2</td>\n",
       "      <td>45</td>\n",
       "      <td>Other</td>\n",
       "      <td>1</td>\n",
       "      <td>0</td>\n",
       "      <td>0</td>\n",
       "      <td>0</td>\n",
       "      <td>0</td>\n",
       "    </tr>\n",
       "  </tbody>\n",
       "</table>\n",
       "</div>"
      ],
      "text/plain": [
       "   ScheduledDay  AppointmentDay  Age Neighbourhood  Scholarship  Hipertension  \\\n",
       "0             4               4   21         Other            0             0   \n",
       "1             3               4   95        CENTRO            0             1   \n",
       "2             2               3   71         Other            0             0   \n",
       "3             2               4   18     CARATOÍRA            0             0   \n",
       "4             2               2   45         Other            1             0   \n",
       "\n",
       "   Diabetes  SMS_received  DaysToAppointment  \n",
       "0         0             0                  0  \n",
       "1         0             0                  1  \n",
       "2         0             0                  1  \n",
       "3         0             0                  2  \n",
       "4         0             0                  0  "
      ]
     },
     "execution_count": 26,
     "metadata": {},
     "output_type": "execute_result"
    }
   ],
   "source": [
    "X_train_daydiff.head()"
   ]
  },
  {
   "cell_type": "code",
   "execution_count": 27,
   "metadata": {},
   "outputs": [],
   "source": [
    "test_series_labeled = X_test_daydiff['Neighbourhood'].apply(lambda n: lookup_neighbour_order(n))"
   ]
  },
  {
   "cell_type": "code",
   "execution_count": 28,
   "metadata": {},
   "outputs": [
    {
     "data": {
      "text/html": [
       "<div>\n",
       "<style scoped>\n",
       "    .dataframe tbody tr th:only-of-type {\n",
       "        vertical-align: middle;\n",
       "    }\n",
       "\n",
       "    .dataframe tbody tr th {\n",
       "        vertical-align: top;\n",
       "    }\n",
       "\n",
       "    .dataframe thead th {\n",
       "        text-align: right;\n",
       "    }\n",
       "</style>\n",
       "<table border=\"1\" class=\"dataframe\">\n",
       "  <thead>\n",
       "    <tr style=\"text-align: right;\">\n",
       "      <th></th>\n",
       "      <th>ScheduledDay</th>\n",
       "      <th>AppointmentDay</th>\n",
       "      <th>Age</th>\n",
       "      <th>Neighbourhood</th>\n",
       "      <th>Scholarship</th>\n",
       "      <th>Hipertension</th>\n",
       "      <th>Diabetes</th>\n",
       "      <th>SMS_received</th>\n",
       "      <th>DaysToAppointment</th>\n",
       "    </tr>\n",
       "  </thead>\n",
       "  <tbody>\n",
       "    <tr>\n",
       "      <th>0</th>\n",
       "      <td>4</td>\n",
       "      <td>4</td>\n",
       "      <td>21</td>\n",
       "      <td>15</td>\n",
       "      <td>0</td>\n",
       "      <td>0</td>\n",
       "      <td>0</td>\n",
       "      <td>0</td>\n",
       "      <td>0</td>\n",
       "    </tr>\n",
       "    <tr>\n",
       "      <th>1</th>\n",
       "      <td>3</td>\n",
       "      <td>4</td>\n",
       "      <td>95</td>\n",
       "      <td>8</td>\n",
       "      <td>0</td>\n",
       "      <td>1</td>\n",
       "      <td>0</td>\n",
       "      <td>0</td>\n",
       "      <td>1</td>\n",
       "    </tr>\n",
       "    <tr>\n",
       "      <th>2</th>\n",
       "      <td>2</td>\n",
       "      <td>3</td>\n",
       "      <td>71</td>\n",
       "      <td>15</td>\n",
       "      <td>0</td>\n",
       "      <td>0</td>\n",
       "      <td>0</td>\n",
       "      <td>0</td>\n",
       "      <td>1</td>\n",
       "    </tr>\n",
       "    <tr>\n",
       "      <th>3</th>\n",
       "      <td>2</td>\n",
       "      <td>4</td>\n",
       "      <td>18</td>\n",
       "      <td>4</td>\n",
       "      <td>0</td>\n",
       "      <td>0</td>\n",
       "      <td>0</td>\n",
       "      <td>0</td>\n",
       "      <td>2</td>\n",
       "    </tr>\n",
       "    <tr>\n",
       "      <th>4</th>\n",
       "      <td>2</td>\n",
       "      <td>2</td>\n",
       "      <td>45</td>\n",
       "      <td>15</td>\n",
       "      <td>1</td>\n",
       "      <td>0</td>\n",
       "      <td>0</td>\n",
       "      <td>0</td>\n",
       "      <td>0</td>\n",
       "    </tr>\n",
       "    <tr>\n",
       "      <th>...</th>\n",
       "      <td>...</td>\n",
       "      <td>...</td>\n",
       "      <td>...</td>\n",
       "      <td>...</td>\n",
       "      <td>...</td>\n",
       "      <td>...</td>\n",
       "      <td>...</td>\n",
       "      <td>...</td>\n",
       "      <td>...</td>\n",
       "    </tr>\n",
       "    <tr>\n",
       "      <th>70731</th>\n",
       "      <td>2</td>\n",
       "      <td>3</td>\n",
       "      <td>30</td>\n",
       "      <td>0</td>\n",
       "      <td>0</td>\n",
       "      <td>1</td>\n",
       "      <td>0</td>\n",
       "      <td>1</td>\n",
       "      <td>8</td>\n",
       "    </tr>\n",
       "    <tr>\n",
       "      <th>70732</th>\n",
       "      <td>1</td>\n",
       "      <td>1</td>\n",
       "      <td>1</td>\n",
       "      <td>22</td>\n",
       "      <td>0</td>\n",
       "      <td>0</td>\n",
       "      <td>0</td>\n",
       "      <td>0</td>\n",
       "      <td>0</td>\n",
       "    </tr>\n",
       "    <tr>\n",
       "      <th>70733</th>\n",
       "      <td>4</td>\n",
       "      <td>2</td>\n",
       "      <td>43</td>\n",
       "      <td>16</td>\n",
       "      <td>0</td>\n",
       "      <td>0</td>\n",
       "      <td>0</td>\n",
       "      <td>1</td>\n",
       "      <td>61</td>\n",
       "    </tr>\n",
       "    <tr>\n",
       "      <th>70734</th>\n",
       "      <td>0</td>\n",
       "      <td>2</td>\n",
       "      <td>17</td>\n",
       "      <td>15</td>\n",
       "      <td>0</td>\n",
       "      <td>0</td>\n",
       "      <td>0</td>\n",
       "      <td>0</td>\n",
       "      <td>2</td>\n",
       "    </tr>\n",
       "    <tr>\n",
       "      <th>70735</th>\n",
       "      <td>3</td>\n",
       "      <td>3</td>\n",
       "      <td>37</td>\n",
       "      <td>20</td>\n",
       "      <td>0</td>\n",
       "      <td>0</td>\n",
       "      <td>0</td>\n",
       "      <td>0</td>\n",
       "      <td>0</td>\n",
       "    </tr>\n",
       "  </tbody>\n",
       "</table>\n",
       "<p>70736 rows × 9 columns</p>\n",
       "</div>"
      ],
      "text/plain": [
       "       ScheduledDay  AppointmentDay  Age  Neighbourhood  Scholarship  \\\n",
       "0                 4               4   21             15            0   \n",
       "1                 3               4   95              8            0   \n",
       "2                 2               3   71             15            0   \n",
       "3                 2               4   18              4            0   \n",
       "4                 2               2   45             15            1   \n",
       "...             ...             ...  ...            ...          ...   \n",
       "70731             2               3   30              0            0   \n",
       "70732             1               1    1             22            0   \n",
       "70733             4               2   43             16            0   \n",
       "70734             0               2   17             15            0   \n",
       "70735             3               3   37             20            0   \n",
       "\n",
       "       Hipertension  Diabetes  SMS_received  DaysToAppointment  \n",
       "0                 0         0             0                  0  \n",
       "1                 1         0             0                  1  \n",
       "2                 0         0             0                  1  \n",
       "3                 0         0             0                  2  \n",
       "4                 0         0             0                  0  \n",
       "...             ...       ...           ...                ...  \n",
       "70731             1         0             1                  8  \n",
       "70732             0         0             0                  0  \n",
       "70733             0         0             1                 61  \n",
       "70734             0         0             0                  2  \n",
       "70735             0         0             0                  0  \n",
       "\n",
       "[70736 rows x 9 columns]"
      ]
     },
     "execution_count": 28,
     "metadata": {},
     "output_type": "execute_result"
    }
   ],
   "source": [
    "X_train_daydiff['Neighbourhood'] = series_labeled\n",
    "X_test_daydiff['Neighbourhood'] = test_series_labeled\n",
    "X_train_daydiff"
   ]
  },
  {
   "cell_type": "code",
   "execution_count": 29,
   "metadata": {},
   "outputs": [
    {
     "data": {
      "text/plain": [
       "15    26823\n",
       "16     4991\n",
       "9      3639\n",
       "10     2870\n",
       "21     2497\n",
       "0      2258\n",
       "8      2116\n",
       "22     2020\n",
       "18     1989\n",
       "1      1801\n",
       "20     1777\n",
       "14     1773\n",
       "12     1658\n",
       "4      1634\n",
       "19     1608\n",
       "11     1599\n",
       "2      1458\n",
       "7      1439\n",
       "13     1427\n",
       "3      1415\n",
       "17     1403\n",
       "5      1289\n",
       "6      1252\n",
       "Name: Neighbourhood, dtype: int64"
      ]
     },
     "execution_count": 29,
     "metadata": {},
     "output_type": "execute_result"
    }
   ],
   "source": [
    "X_train_daydiff.Neighbourhood.value_counts()"
   ]
  },
  {
   "cell_type": "code",
   "execution_count": 30,
   "metadata": {},
   "outputs": [],
   "source": [
    "X_train_temp = X_train_daydiff\n",
    "X_test_temp = X_test_daydiff"
   ]
  },
  {
   "cell_type": "code",
   "execution_count": 31,
   "metadata": {},
   "outputs": [],
   "source": [
    "X_train_temp = X_train_temp.drop(columns=['ScheduledDay'])\n",
    "X_test_temp = X_test_temp.drop(columns=['ScheduledDay'])"
   ]
  },
  {
   "cell_type": "markdown",
   "metadata": {},
   "source": [
    "### Matrice di correlazione delle feature"
   ]
  },
  {
   "cell_type": "code",
   "execution_count": 32,
   "metadata": {},
   "outputs": [],
   "source": [
    "X_train_full = pd.concat([y_train, X_train_temp], axis=1)"
   ]
  },
  {
   "cell_type": "code",
   "execution_count": 33,
   "metadata": {},
   "outputs": [
    {
     "data": {
      "image/png": "[encoded data removed]",
      "text/plain": [
       "<Figure size 576x432 with 2 Axes>"
      ]
     },
     "metadata": {
      "needs_background": "light"
     },
     "output_type": "display_data"
    }
   ],
   "source": [
    "fig, ax = plt.subplots(figsize=(8,6))\n",
    "sns.heatmap(X_train_full.corr(), annot=False)\n",
    "plt.show()"
   ]
  },
  {
   "cell_type": "markdown",
   "metadata": {},
   "source": [
    "# Scelta dei modelli, training e fit"
   ]
  },
  {
   "cell_type": "code",
   "execution_count": 34,
   "metadata": {},
   "outputs": [],
   "source": [
    "from sklearn.tree import DecisionTreeClassifier\n",
    "from sklearn.linear_model import LogisticRegression\n",
    "from sklearn.ensemble import RandomForestClassifier\n",
    "from sklearn.neighbors import KNeighborsClassifier\n",
    "from sklearn.preprocessing import OneHotEncoder\n",
    "from sklearn.impute import SimpleImputer"
   ]
  },
  {
   "cell_type": "code",
   "execution_count": 35,
   "metadata": {},
   "outputs": [],
   "source": [
    "X_train = X_train_temp\n",
    "X_test = X_test_temp"
   ]
  },
  {
   "cell_type": "markdown",
   "metadata": {},
   "source": [
    "### GridSearchCV e Pipeline\n",
    "\n",
    "La GridSearchCV è utile per stimare i migliori parametri possibili per un insieme di modelli, contemporaneamente effettuanto Cross Validation per ottenere score più precisi. \n",
    "\n",
    "Effettua una ricerca nello spazio dei parametri dei classificatori indicati, facendo fit su tutte le possibili combinazioni specificate tramite la lista dizionari params. \n",
    "\n",
    "Infine sceglie il miglior modello e suoi migliori parametri da una tabella che calcola man mano (gridsearch.cv_results_) dove ci sono i ranking di tutte le possibili scelte effettuate.\n",
    "\n",
    "GridSearchCV prende come parametri la Pipeline (su cui fare fit_transform/transform a seconda dei dati di train/test) e il numero di permutazioni da effettuare nella Cross Validation (impostata a 2 per ridurre i tempi di training)."
   ]
  },
  {
   "cell_type": "code",
   "execution_count": 36,
   "metadata": {},
   "outputs": [],
   "source": [
    "from sklearn.pipeline import Pipeline\n",
    "pipe = Pipeline([\n",
    "        ('inputer', SimpleImputer(strategy='median')),\n",
    "        ('model', DecisionTreeClassifier())\n",
    "        ])"
   ]
  },
  {
   "cell_type": "code",
   "execution_count": 47,
   "metadata": {},
   "outputs": [],
   "source": [
    "params = [\n",
    "            {'model': [DecisionTreeClassifier()],\n",
    "            'model__max_depth': np.arange(1,15)},\n",
    "            {'model': [LogisticRegression()],\n",
    "            'model__max_iter': [1000],\n",
    "            'model__penalty': ['l2'], #[['l1', 'l2']]\n",
    "            'model__C': np.logspace(0, 4, 15)},\n",
    "            #{'model': [RandomForestClassifier()],\n",
    "            #'model__n_estimators': [10, 100, 1000],\n",
    "            #'model__max_features': [1, 2, 3]},\n",
    "            {'model': [KNeighborsClassifier()],\n",
    "             'model__n_neighbors': np.arange(2,6),\n",
    "             'model__leaf_size': list(range(10,30)),\n",
    "             'model__p': [1, 2]}\n",
    "            ]"
   ]
  },
  {
   "cell_type": "code",
   "execution_count": 48,
   "metadata": {
    "scrolled": false
   },
   "outputs": [
    {
     "name": "stdout",
     "output_type": "stream",
     "text": [
      "Fitting 2 folds for each of 189 candidates, totalling 378 fits\n"
     ]
    },
    {
     "name": "stderr",
     "output_type": "stream",
     "text": [
      "[Parallel(n_jobs=1)]: Using backend SequentialBackend with 1 concurrent workers.\n"
     ]
    },
    {
     "name": "stdout",
     "output_type": "stream",
     "text": [
      "Score finale di test:  0.7918009612666101\n"
     ]
    },
    {
     "name": "stderr",
     "output_type": "stream",
     "text": [
      "[Parallel(n_jobs=1)]: Done 378 out of 378 | elapsed:  9.1min finished\n"
     ]
    }
   ],
   "source": [
    "from sklearn.model_selection import GridSearchCV\n",
    "gridsearch = GridSearchCV(pipe, params, cv=2, verbose=1).fit(X_train, y_train) #specificare cv=5\n",
    "print('Score finale di test: ', gridsearch.score(X_test, y_test))"
   ]
  },
  {
   "cell_type": "code",
   "execution_count": 49,
   "metadata": {
    "scrolled": false
   },
   "outputs": [
    {
     "data": {
      "text/html": [
       "<div>\n",
       "<style scoped>\n",
       "    .dataframe tbody tr th:only-of-type {\n",
       "        vertical-align: middle;\n",
       "    }\n",
       "\n",
       "    .dataframe tbody tr th {\n",
       "        vertical-align: top;\n",
       "    }\n",
       "\n",
       "    .dataframe thead th {\n",
       "        text-align: right;\n",
       "    }\n",
       "</style>\n",
       "<table border=\"1\" class=\"dataframe\">\n",
       "  <thead>\n",
       "    <tr style=\"text-align: right;\">\n",
       "      <th></th>\n",
       "      <th>params</th>\n",
       "      <th>mean_test_score</th>\n",
       "      <th>rank_test_score</th>\n",
       "    </tr>\n",
       "  </thead>\n",
       "  <tbody>\n",
       "    <tr>\n",
       "      <th>2</th>\n",
       "      <td>{'model': DecisionTreeClassifier(max_depth=3),...</td>\n",
       "      <td>0.799268</td>\n",
       "      <td>1</td>\n",
       "    </tr>\n",
       "    <tr>\n",
       "      <th>3</th>\n",
       "      <td>{'model': DecisionTreeClassifier(max_depth=3),...</td>\n",
       "      <td>0.799268</td>\n",
       "      <td>1</td>\n",
       "    </tr>\n",
       "    <tr>\n",
       "      <th>0</th>\n",
       "      <td>{'model': DecisionTreeClassifier(max_depth=3),...</td>\n",
       "      <td>0.799254</td>\n",
       "      <td>3</td>\n",
       "    </tr>\n",
       "    <tr>\n",
       "      <th>1</th>\n",
       "      <td>{'model': DecisionTreeClassifier(max_depth=3),...</td>\n",
       "      <td>0.799254</td>\n",
       "      <td>3</td>\n",
       "    </tr>\n",
       "    <tr>\n",
       "      <th>4</th>\n",
       "      <td>{'model': DecisionTreeClassifier(max_depth=3),...</td>\n",
       "      <td>0.798943</td>\n",
       "      <td>5</td>\n",
       "    </tr>\n",
       "    <tr>\n",
       "      <th>5</th>\n",
       "      <td>{'model': DecisionTreeClassifier(max_depth=3),...</td>\n",
       "      <td>0.798377</td>\n",
       "      <td>6</td>\n",
       "    </tr>\n",
       "    <tr>\n",
       "      <th>6</th>\n",
       "      <td>{'model': DecisionTreeClassifier(max_depth=3),...</td>\n",
       "      <td>0.797896</td>\n",
       "      <td>7</td>\n",
       "    </tr>\n",
       "    <tr>\n",
       "      <th>7</th>\n",
       "      <td>{'model': DecisionTreeClassifier(max_depth=3),...</td>\n",
       "      <td>0.796794</td>\n",
       "      <td>8</td>\n",
       "    </tr>\n",
       "    <tr>\n",
       "      <th>16</th>\n",
       "      <td>{'model': LogisticRegression(), 'model__C': 3....</td>\n",
       "      <td>0.796313</td>\n",
       "      <td>9</td>\n",
       "    </tr>\n",
       "    <tr>\n",
       "      <th>15</th>\n",
       "      <td>{'model': LogisticRegression(), 'model__C': 1....</td>\n",
       "      <td>0.796313</td>\n",
       "      <td>9</td>\n",
       "    </tr>\n",
       "  </tbody>\n",
       "</table>\n",
       "</div>"
      ],
      "text/plain": [
       "                                               params  mean_test_score  \\\n",
       "2   {'model': DecisionTreeClassifier(max_depth=3),...         0.799268   \n",
       "3   {'model': DecisionTreeClassifier(max_depth=3),...         0.799268   \n",
       "0   {'model': DecisionTreeClassifier(max_depth=3),...         0.799254   \n",
       "1   {'model': DecisionTreeClassifier(max_depth=3),...         0.799254   \n",
       "4   {'model': DecisionTreeClassifier(max_depth=3),...         0.798943   \n",
       "5   {'model': DecisionTreeClassifier(max_depth=3),...         0.798377   \n",
       "6   {'model': DecisionTreeClassifier(max_depth=3),...         0.797896   \n",
       "7   {'model': DecisionTreeClassifier(max_depth=3),...         0.796794   \n",
       "16  {'model': LogisticRegression(), 'model__C': 3....         0.796313   \n",
       "15  {'model': LogisticRegression(), 'model__C': 1....         0.796313   \n",
       "\n",
       "    rank_test_score  \n",
       "2                 1  \n",
       "3                 1  \n",
       "0                 3  \n",
       "1                 3  \n",
       "4                 5  \n",
       "5                 6  \n",
       "6                 7  \n",
       "7                 8  \n",
       "16                9  \n",
       "15                9  "
      ]
     },
     "execution_count": 49,
     "metadata": {},
     "output_type": "execute_result"
    }
   ],
   "source": [
    "gs = pd.DataFrame(gridsearch.cv_results_)\n",
    "gs[['params', 'mean_test_score', 'rank_test_score']].sort_values(by='rank_test_score', ascending=True).head(10)"
   ]
  },
  {
   "cell_type": "code",
   "execution_count": 50,
   "metadata": {},
   "outputs": [
    {
     "data": {
      "text/plain": [
       "{'memory': None,\n",
       " 'steps': [('inputer', SimpleImputer(strategy='median')),\n",
       "  ('model', DecisionTreeClassifier(max_depth=3))],\n",
       " 'verbose': False,\n",
       " 'inputer': SimpleImputer(strategy='median'),\n",
       " 'model': DecisionTreeClassifier(max_depth=3),\n",
       " 'inputer__add_indicator': False,\n",
       " 'inputer__copy': True,\n",
       " 'inputer__fill_value': None,\n",
       " 'inputer__missing_values': nan,\n",
       " 'inputer__strategy': 'median',\n",
       " 'inputer__verbose': 0,\n",
       " 'model__ccp_alpha': 0.0,\n",
       " 'model__class_weight': None,\n",
       " 'model__criterion': 'gini',\n",
       " 'model__max_depth': 3,\n",
       " 'model__max_features': None,\n",
       " 'model__max_leaf_nodes': None,\n",
       " 'model__min_impurity_decrease': 0.0,\n",
       " 'model__min_impurity_split': None,\n",
       " 'model__min_samples_leaf': 1,\n",
       " 'model__min_samples_split': 2,\n",
       " 'model__min_weight_fraction_leaf': 0.0,\n",
       " 'model__presort': 'deprecated',\n",
       " 'model__random_state': None,\n",
       " 'model__splitter': 'best'}"
      ]
     },
     "execution_count": 50,
     "metadata": {},
     "output_type": "execute_result"
    }
   ],
   "source": [
    "gridsearch.best_estimator_.get_params()"
   ]
  },
  {
   "cell_type": "code",
   "execution_count": 55,
   "metadata": {},
   "outputs": [
    {
     "data": {
      "text/plain": [
       "Text(0.5, 1.0, 'DecisionTreeClassifier feature importance')"
      ]
     },
     "execution_count": 55,
     "metadata": {},
     "output_type": "execute_result"
    },
    {
     "data": {
      "image/png": "[encoded data removed]",
      "text/plain": [
       "<Figure size 576x432 with 1 Axes>"
      ]
     },
     "metadata": {},
     "output_type": "display_data"
    }
   ],
   "source": [
    "sns.set_style(\"whitegrid\")\n",
    "\n",
    "fig, axes = plt.subplots(nrows = 1, ncols = 1, sharex=\"all\", figsize=(8,6))\n",
    "\n",
    "indices = np.argsort( gridsearch.best_estimator_[1].feature_importances_)[::-1][:40]\n",
    "g = sns.barplot(y=X_train.columns[indices][:40],x = gridsearch.best_estimator_[1].feature_importances_[indices][:40] , orient='h')\n",
    "g.set_xlabel(\"Relative importance\",fontsize=12)\n",
    "g.set_ylabel(\"Features\",fontsize=12)\n",
    "g.tick_params(labelsize=9)\n",
    "g.set_title('DecisionTreeClassifier' + \" feature importance\")"
   ]
  },
  {
   "cell_type": "markdown",
   "metadata": {},
   "source": [
    "## Uso dei modelli senza pipeline\n",
    "\n",
    "I risultati sono paragonabili in termini di accuracy rispetto ai parametri trovati dalla GridSearch"
   ]
  },
  {
   "cell_type": "markdown",
   "metadata": {},
   "source": [
    "## DecisionTree"
   ]
  },
  {
   "cell_type": "code",
   "execution_count": 38,
   "metadata": {},
   "outputs": [
    {
     "data": {
      "text/plain": [
       "DecisionTreeClassifier(max_depth=6, random_state=1)"
      ]
     },
     "execution_count": 38,
     "metadata": {},
     "output_type": "execute_result"
    }
   ],
   "source": [
    "max_loop_depth = 40\n",
    "max_score = 0\n",
    "best_depth = 0\n",
    "\n",
    "for depth in range(1, max_loop_depth):\n",
    "    model = DecisionTreeClassifier(max_depth=depth, random_state=1)\n",
    "    model.fit(X_train, y_train)\n",
    "    score = model.score(X_test, y_test)\n",
    "    if(score > max_score):\n",
    "        max_score = score\n",
    "        best_depth = depth\n",
    "    \n",
    "best_model = DecisionTreeClassifier(max_depth=best_depth, random_state=1)\n",
    "best_model.fit(X_train, y_train)"
   ]
  },
  {
   "cell_type": "code",
   "execution_count": 39,
   "metadata": {},
   "outputs": [
    {
     "data": {
      "text/plain": [
       "Text(0.5, 1.0, 'DecisionTreeClassifier feature importance')"
      ]
     },
     "execution_count": 39,
     "metadata": {},
     "output_type": "execute_result"
    },
    {
     "data": {
      "image/png": "[encoded data removed]",
      "text/plain": [
       "<Figure size 432x288 with 1 Axes>"
      ]
     },
     "metadata": {
      "needs_background": "light"
     },
     "output_type": "display_data"
    }
   ],
   "source": [
    "fig, axes = plt.subplots(nrows = 1, ncols = 1, sharex=\"all\", figsize=(6, 4))\n",
    "\n",
    "indices = np.argsort(best_model.feature_importances_)[::-1][:40]\n",
    "g = sns.barplot(y=X_train.columns[indices][:40],x = best_model.feature_importances_[indices][:40] , orient='h')\n",
    "g.set_xlabel(\"Relative importance\",fontsize=12)\n",
    "g.set_ylabel(\"Features\",fontsize=12)\n",
    "g.tick_params(labelsize=9)\n",
    "g.set_title('DecisionTreeClassifier' + \" feature importance\")"
   ]
  },
  {
   "cell_type": "code",
   "execution_count": 40,
   "metadata": {},
   "outputs": [
    {
     "name": "stdout",
     "output_type": "stream",
     "text": [
      "Training Accuracy:  79.94514815652568 %\n",
      "Testing Accuracy:  79.29318631608709 %\n"
     ]
    }
   ],
   "source": [
    "print('Training Accuracy: ', best_model.score(X_train, y_train) * 100, '%')\n",
    "print('Testing Accuracy: ', best_model.score(X_test, y_test) * 100, '%')"
   ]
  },
  {
   "cell_type": "markdown",
   "metadata": {},
   "source": [
    "## LogisticRegression"
   ]
  },
  {
   "cell_type": "code",
   "execution_count": 41,
   "metadata": {},
   "outputs": [
    {
     "data": {
      "text/plain": [
       "LogisticRegression(max_iter=1000, random_state=1)"
      ]
     },
     "execution_count": 41,
     "metadata": {},
     "output_type": "execute_result"
    }
   ],
   "source": [
    "model = LogisticRegression(max_iter=1000, random_state=1)\n",
    "model.fit(X_train, y_train)"
   ]
  },
  {
   "cell_type": "code",
   "execution_count": 42,
   "metadata": {},
   "outputs": [
    {
     "name": "stdout",
     "output_type": "stream",
     "text": [
      "Training Accuracy:  79.63130513458493 %\n",
      "Testing Accuracy:  78.84648006785412 %\n"
     ]
    }
   ],
   "source": [
    "print('Training Accuracy: ', model.score(X_train, y_train) * 100, '%')\n",
    "print('Testing Accuracy: ', model.score(X_test, y_test) * 100, '%')"
   ]
  },
  {
   "cell_type": "code",
   "execution_count": null,
   "metadata": {},
   "outputs": [],
   "source": []
  }
 ],
 "metadata": {
  "kernelspec": {
   "display_name": "Python 3",
   "language": "python",
   "name": "python3"
  },
  "language_info": {
   "codemirror_mode": {
    "name": "ipython",
    "version": 3
   },
   "file_extension": ".py",
   "mimetype": "text/x-python",
   "name": "python",
   "nbconvert_exporter": "python",
   "pygments_lexer": "ipython3",
   "version": "3.7.0"
  }
 },
 "nbformat": 4,
 "nbformat_minor": 4
}
