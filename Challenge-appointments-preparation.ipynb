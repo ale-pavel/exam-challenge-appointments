{
 "cells": [
  {
   "cell_type": "code",
   "execution_count": 1,
   "metadata": {},
   "outputs": [],
   "source": [
    "#!pip install -r requirements.txt"
   ]
  },
  {
   "cell_type": "code",
   "execution_count": 2,
   "metadata": {},
   "outputs": [],
   "source": [
    "import pandas as pd\n",
    "import numpy as np\n",
    "\n",
    "import seaborn as sns\n",
    "%matplotlib inline\n",
    "import matplotlib.pyplot as plt"
   ]
  },
  {
   "cell_type": "code",
   "execution_count": 3,
   "metadata": {},
   "outputs": [],
   "source": [
    "appointments = pd.read_csv('appointment_data.csv')\n",
    "#appointments = pd.read_csv('appointment_data.csv', na_values=['', ' '])\n",
    "#appointments = appointments.replace(['', ' '], [np.nan, np.nan])"
   ]
  },
  {
   "cell_type": "markdown",
   "metadata": {},
   "source": [
    "## Split del dataset in train e test (train/test.csv) e salvataggio su disco"
   ]
  },
  {
   "cell_type": "code",
   "execution_count": 4,
   "metadata": {},
   "outputs": [],
   "source": [
    "from sklearn.model_selection import train_test_split"
   ]
  },
  {
   "cell_type": "code",
   "execution_count": 5,
   "metadata": {},
   "outputs": [],
   "source": [
    "train_data, test_data = train_test_split(appointments, train_size=0.8, test_size=0.2, random_state=9)"
   ]
  },
  {
   "cell_type": "code",
   "execution_count": 6,
   "metadata": {},
   "outputs": [
    {
     "name": "stdout",
     "output_type": "stream",
     "text": [
      "(70736, 14)\n",
      "(17685, 14)\n"
     ]
    }
   ],
   "source": [
    "print(train_data.shape)\n",
    "print(test_data.shape)"
   ]
  },
  {
   "cell_type": "code",
   "execution_count": 7,
   "metadata": {},
   "outputs": [],
   "source": [
    "train_data.to_csv('train.csv', index=False)\n",
    "test_data.to_csv('test.csv', index=False)"
   ]
  },
  {
   "cell_type": "markdown",
   "metadata": {},
   "source": [
    "## Data exploration"
   ]
  },
  {
   "cell_type": "code",
   "execution_count": 8,
   "metadata": {},
   "outputs": [
    {
     "data": {
      "text/plain": [
       "(88421, 14)"
      ]
     },
     "execution_count": 8,
     "metadata": {},
     "output_type": "execute_result"
    }
   ],
   "source": [
    "appointments.shape"
   ]
  },
  {
   "cell_type": "code",
   "execution_count": 9,
   "metadata": {},
   "outputs": [
    {
     "name": "stdout",
     "output_type": "stream",
     "text": [
      "<class 'pandas.core.frame.DataFrame'>\n",
      "RangeIndex: 88421 entries, 0 to 88420\n",
      "Data columns (total 14 columns):\n",
      " #   Column          Non-Null Count  Dtype  \n",
      "---  ------          --------------  -----  \n",
      " 0   No-show         88421 non-null  object \n",
      " 1   PatientId       88421 non-null  float64\n",
      " 2   AppointmentID   88421 non-null  int64  \n",
      " 3   Gender          88421 non-null  object \n",
      " 4   ScheduledDay    88421 non-null  object \n",
      " 5   AppointmentDay  88421 non-null  object \n",
      " 6   Age             88421 non-null  int64  \n",
      " 7   Neighbourhood   88421 non-null  object \n",
      " 8   Scholarship     88421 non-null  int64  \n",
      " 9   Hipertension    88421 non-null  int64  \n",
      " 10  Diabetes        88421 non-null  int64  \n",
      " 11  Alcoholism      88421 non-null  int64  \n",
      " 12  Handcap         88421 non-null  int64  \n",
      " 13  SMS_received    88421 non-null  int64  \n",
      "dtypes: float64(1), int64(8), object(5)\n",
      "memory usage: 9.4+ MB\n"
     ]
    }
   ],
   "source": [
    "appointments.info()"
   ]
  },
  {
   "cell_type": "code",
   "execution_count": 24,
   "metadata": {},
   "outputs": [
    {
     "data": {
      "text/html": [
       "<div>\n",
       "<style scoped>\n",
       "    .dataframe tbody tr th:only-of-type {\n",
       "        vertical-align: middle;\n",
       "    }\n",
       "\n",
       "    .dataframe tbody tr th {\n",
       "        vertical-align: top;\n",
       "    }\n",
       "\n",
       "    .dataframe thead th {\n",
       "        text-align: right;\n",
       "    }\n",
       "</style>\n",
       "<table border=\"1\" class=\"dataframe\">\n",
       "  <thead>\n",
       "    <tr style=\"text-align: right;\">\n",
       "      <th></th>\n",
       "      <th>PatientId</th>\n",
       "      <th>AppointmentID</th>\n",
       "      <th>Age</th>\n",
       "      <th>Scholarship</th>\n",
       "      <th>Hipertension</th>\n",
       "      <th>Diabetes</th>\n",
       "      <th>Alcoholism</th>\n",
       "      <th>Handcap</th>\n",
       "      <th>SMS_received</th>\n",
       "      <th>numberAppointments</th>\n",
       "    </tr>\n",
       "  </thead>\n",
       "  <tbody>\n",
       "    <tr>\n",
       "      <th>count</th>\n",
       "      <td>8.842100e+04</td>\n",
       "      <td>8.842100e+04</td>\n",
       "      <td>88421.000000</td>\n",
       "      <td>88421.000000</td>\n",
       "      <td>88421.000000</td>\n",
       "      <td>88421.000000</td>\n",
       "      <td>88421.000000</td>\n",
       "      <td>88421.000000</td>\n",
       "      <td>88421.000000</td>\n",
       "      <td>88421.000000</td>\n",
       "    </tr>\n",
       "    <tr>\n",
       "      <th>mean</th>\n",
       "      <td>1.484798e+14</td>\n",
       "      <td>5.675391e+06</td>\n",
       "      <td>37.124631</td>\n",
       "      <td>0.099230</td>\n",
       "      <td>0.198064</td>\n",
       "      <td>0.072324</td>\n",
       "      <td>0.030638</td>\n",
       "      <td>0.022393</td>\n",
       "      <td>0.321553</td>\n",
       "      <td>3.045668</td>\n",
       "    </tr>\n",
       "    <tr>\n",
       "      <th>std</th>\n",
       "      <td>2.570830e+14</td>\n",
       "      <td>7.133018e+04</td>\n",
       "      <td>23.104321</td>\n",
       "      <td>0.298972</td>\n",
       "      <td>0.398543</td>\n",
       "      <td>0.259026</td>\n",
       "      <td>0.172335</td>\n",
       "      <td>0.162529</td>\n",
       "      <td>0.467075</td>\n",
       "      <td>5.360570</td>\n",
       "    </tr>\n",
       "    <tr>\n",
       "      <th>min</th>\n",
       "      <td>3.921784e+04</td>\n",
       "      <td>5.030230e+06</td>\n",
       "      <td>0.000000</td>\n",
       "      <td>0.000000</td>\n",
       "      <td>0.000000</td>\n",
       "      <td>0.000000</td>\n",
       "      <td>0.000000</td>\n",
       "      <td>0.000000</td>\n",
       "      <td>0.000000</td>\n",
       "      <td>1.000000</td>\n",
       "    </tr>\n",
       "    <tr>\n",
       "      <th>25%</th>\n",
       "      <td>4.166843e+12</td>\n",
       "      <td>5.640477e+06</td>\n",
       "      <td>18.000000</td>\n",
       "      <td>0.000000</td>\n",
       "      <td>0.000000</td>\n",
       "      <td>0.000000</td>\n",
       "      <td>0.000000</td>\n",
       "      <td>0.000000</td>\n",
       "      <td>0.000000</td>\n",
       "      <td>1.000000</td>\n",
       "    </tr>\n",
       "    <tr>\n",
       "      <th>50%</th>\n",
       "      <td>3.212196e+13</td>\n",
       "      <td>5.680756e+06</td>\n",
       "      <td>37.000000</td>\n",
       "      <td>0.000000</td>\n",
       "      <td>0.000000</td>\n",
       "      <td>0.000000</td>\n",
       "      <td>0.000000</td>\n",
       "      <td>0.000000</td>\n",
       "      <td>0.000000</td>\n",
       "      <td>2.000000</td>\n",
       "    </tr>\n",
       "    <tr>\n",
       "      <th>75%</th>\n",
       "      <td>9.464814e+13</td>\n",
       "      <td>5.725565e+06</td>\n",
       "      <td>55.000000</td>\n",
       "      <td>0.000000</td>\n",
       "      <td>0.000000</td>\n",
       "      <td>0.000000</td>\n",
       "      <td>0.000000</td>\n",
       "      <td>0.000000</td>\n",
       "      <td>1.000000</td>\n",
       "      <td>3.000000</td>\n",
       "    </tr>\n",
       "    <tr>\n",
       "      <th>max</th>\n",
       "      <td>9.999816e+14</td>\n",
       "      <td>5.790481e+06</td>\n",
       "      <td>115.000000</td>\n",
       "      <td>1.000000</td>\n",
       "      <td>1.000000</td>\n",
       "      <td>1.000000</td>\n",
       "      <td>1.000000</td>\n",
       "      <td>4.000000</td>\n",
       "      <td>1.000000</td>\n",
       "      <td>71.000000</td>\n",
       "    </tr>\n",
       "  </tbody>\n",
       "</table>\n",
       "</div>"
      ],
      "text/plain": [
       "          PatientId  AppointmentID           Age   Scholarship  Hipertension  \\\n",
       "count  8.842100e+04   8.842100e+04  88421.000000  88421.000000  88421.000000   \n",
       "mean   1.484798e+14   5.675391e+06     37.124631      0.099230      0.198064   \n",
       "std    2.570830e+14   7.133018e+04     23.104321      0.298972      0.398543   \n",
       "min    3.921784e+04   5.030230e+06      0.000000      0.000000      0.000000   \n",
       "25%    4.166843e+12   5.640477e+06     18.000000      0.000000      0.000000   \n",
       "50%    3.212196e+13   5.680756e+06     37.000000      0.000000      0.000000   \n",
       "75%    9.464814e+13   5.725565e+06     55.000000      0.000000      0.000000   \n",
       "max    9.999816e+14   5.790481e+06    115.000000      1.000000      1.000000   \n",
       "\n",
       "           Diabetes    Alcoholism       Handcap  SMS_received  \\\n",
       "count  88421.000000  88421.000000  88421.000000  88421.000000   \n",
       "mean       0.072324      0.030638      0.022393      0.321553   \n",
       "std        0.259026      0.172335      0.162529      0.467075   \n",
       "min        0.000000      0.000000      0.000000      0.000000   \n",
       "25%        0.000000      0.000000      0.000000      0.000000   \n",
       "50%        0.000000      0.000000      0.000000      0.000000   \n",
       "75%        0.000000      0.000000      0.000000      1.000000   \n",
       "max        1.000000      1.000000      4.000000      1.000000   \n",
       "\n",
       "       numberAppointments  \n",
       "count        88421.000000  \n",
       "mean             3.045668  \n",
       "std              5.360570  \n",
       "min              1.000000  \n",
       "25%              1.000000  \n",
       "50%              2.000000  \n",
       "75%              3.000000  \n",
       "max             71.000000  "
      ]
     },
     "execution_count": 24,
     "metadata": {},
     "output_type": "execute_result"
    }
   ],
   "source": [
    "appointments.describe()"
   ]
  },
  {
   "cell_type": "code",
   "execution_count": 11,
   "metadata": {},
   "outputs": [
    {
     "data": {
      "text/html": [
       "<div>\n",
       "<style scoped>\n",
       "    .dataframe tbody tr th:only-of-type {\n",
       "        vertical-align: middle;\n",
       "    }\n",
       "\n",
       "    .dataframe tbody tr th {\n",
       "        vertical-align: top;\n",
       "    }\n",
       "\n",
       "    .dataframe thead th {\n",
       "        text-align: right;\n",
       "    }\n",
       "</style>\n",
       "<table border=\"1\" class=\"dataframe\">\n",
       "  <thead>\n",
       "    <tr style=\"text-align: right;\">\n",
       "      <th></th>\n",
       "      <th>No-show</th>\n",
       "      <th>PatientId</th>\n",
       "      <th>AppointmentID</th>\n",
       "      <th>Gender</th>\n",
       "      <th>ScheduledDay</th>\n",
       "      <th>AppointmentDay</th>\n",
       "      <th>Age</th>\n",
       "      <th>Neighbourhood</th>\n",
       "      <th>Scholarship</th>\n",
       "      <th>Hipertension</th>\n",
       "      <th>Diabetes</th>\n",
       "      <th>Alcoholism</th>\n",
       "      <th>Handcap</th>\n",
       "      <th>SMS_received</th>\n",
       "    </tr>\n",
       "  </thead>\n",
       "  <tbody>\n",
       "    <tr>\n",
       "      <th>0</th>\n",
       "      <td>No</td>\n",
       "      <td>1.328492e+12</td>\n",
       "      <td>5687610</td>\n",
       "      <td>F</td>\n",
       "      <td>2016-05-11T16:00:16Z</td>\n",
       "      <td>2016-05-19T00:00:00Z</td>\n",
       "      <td>25</td>\n",
       "      <td>MATA DA PRAIA</td>\n",
       "      <td>0</td>\n",
       "      <td>0</td>\n",
       "      <td>0</td>\n",
       "      <td>0</td>\n",
       "      <td>0</td>\n",
       "      <td>0</td>\n",
       "    </tr>\n",
       "    <tr>\n",
       "      <th>1</th>\n",
       "      <td>No</td>\n",
       "      <td>3.881869e+14</td>\n",
       "      <td>5694484</td>\n",
       "      <td>M</td>\n",
       "      <td>2016-05-13T08:41:27Z</td>\n",
       "      <td>2016-05-17T00:00:00Z</td>\n",
       "      <td>62</td>\n",
       "      <td>FRADINHOS</td>\n",
       "      <td>0</td>\n",
       "      <td>0</td>\n",
       "      <td>0</td>\n",
       "      <td>0</td>\n",
       "      <td>0</td>\n",
       "      <td>0</td>\n",
       "    </tr>\n",
       "    <tr>\n",
       "      <th>2</th>\n",
       "      <td>Yes</td>\n",
       "      <td>9.118992e+12</td>\n",
       "      <td>5500939</td>\n",
       "      <td>F</td>\n",
       "      <td>2016-03-22T11:09:38Z</td>\n",
       "      <td>2016-05-09T00:00:00Z</td>\n",
       "      <td>65</td>\n",
       "      <td>JARDIM CAMBURI</td>\n",
       "      <td>0</td>\n",
       "      <td>0</td>\n",
       "      <td>0</td>\n",
       "      <td>0</td>\n",
       "      <td>0</td>\n",
       "      <td>0</td>\n",
       "    </tr>\n",
       "    <tr>\n",
       "      <th>3</th>\n",
       "      <td>No</td>\n",
       "      <td>1.843618e+14</td>\n",
       "      <td>5639080</td>\n",
       "      <td>M</td>\n",
       "      <td>2016-04-29T08:42:15Z</td>\n",
       "      <td>2016-04-29T00:00:00Z</td>\n",
       "      <td>41</td>\n",
       "      <td>MARIA ORTIZ</td>\n",
       "      <td>0</td>\n",
       "      <td>0</td>\n",
       "      <td>0</td>\n",
       "      <td>0</td>\n",
       "      <td>0</td>\n",
       "      <td>0</td>\n",
       "    </tr>\n",
       "    <tr>\n",
       "      <th>4</th>\n",
       "      <td>No</td>\n",
       "      <td>5.783198e+13</td>\n",
       "      <td>5671566</td>\n",
       "      <td>M</td>\n",
       "      <td>2016-05-06T18:47:52Z</td>\n",
       "      <td>2016-05-09T00:00:00Z</td>\n",
       "      <td>61</td>\n",
       "      <td>MARUÍPE</td>\n",
       "      <td>0</td>\n",
       "      <td>1</td>\n",
       "      <td>0</td>\n",
       "      <td>1</td>\n",
       "      <td>0</td>\n",
       "      <td>0</td>\n",
       "    </tr>\n",
       "    <tr>\n",
       "      <th>5</th>\n",
       "      <td>No</td>\n",
       "      <td>6.516246e+13</td>\n",
       "      <td>5600056</td>\n",
       "      <td>F</td>\n",
       "      <td>2016-04-19T09:52:22Z</td>\n",
       "      <td>2016-05-16T00:00:00Z</td>\n",
       "      <td>11</td>\n",
       "      <td>DO QUADRO</td>\n",
       "      <td>1</td>\n",
       "      <td>0</td>\n",
       "      <td>0</td>\n",
       "      <td>0</td>\n",
       "      <td>0</td>\n",
       "      <td>0</td>\n",
       "    </tr>\n",
       "    <tr>\n",
       "      <th>6</th>\n",
       "      <td>No</td>\n",
       "      <td>6.559800e+12</td>\n",
       "      <td>5640931</td>\n",
       "      <td>M</td>\n",
       "      <td>2016-04-29T11:44:39Z</td>\n",
       "      <td>2016-05-04T00:00:00Z</td>\n",
       "      <td>45</td>\n",
       "      <td>CRUZAMENTO</td>\n",
       "      <td>0</td>\n",
       "      <td>0</td>\n",
       "      <td>0</td>\n",
       "      <td>0</td>\n",
       "      <td>0</td>\n",
       "      <td>1</td>\n",
       "    </tr>\n",
       "    <tr>\n",
       "      <th>7</th>\n",
       "      <td>No</td>\n",
       "      <td>1.432925e+12</td>\n",
       "      <td>5730450</td>\n",
       "      <td>M</td>\n",
       "      <td>2016-05-24T08:37:44Z</td>\n",
       "      <td>2016-06-07T00:00:00Z</td>\n",
       "      <td>9</td>\n",
       "      <td>MÁRIO CYPRESTE</td>\n",
       "      <td>0</td>\n",
       "      <td>0</td>\n",
       "      <td>0</td>\n",
       "      <td>0</td>\n",
       "      <td>0</td>\n",
       "      <td>1</td>\n",
       "    </tr>\n",
       "    <tr>\n",
       "      <th>8</th>\n",
       "      <td>No</td>\n",
       "      <td>9.741488e+14</td>\n",
       "      <td>5771325</td>\n",
       "      <td>M</td>\n",
       "      <td>2016-06-03T12:24:24Z</td>\n",
       "      <td>2016-06-03T00:00:00Z</td>\n",
       "      <td>79</td>\n",
       "      <td>SOLON BORGES</td>\n",
       "      <td>0</td>\n",
       "      <td>0</td>\n",
       "      <td>0</td>\n",
       "      <td>0</td>\n",
       "      <td>0</td>\n",
       "      <td>0</td>\n",
       "    </tr>\n",
       "    <tr>\n",
       "      <th>9</th>\n",
       "      <td>No</td>\n",
       "      <td>5.458152e+12</td>\n",
       "      <td>5671279</td>\n",
       "      <td>M</td>\n",
       "      <td>2016-05-06T16:09:35Z</td>\n",
       "      <td>2016-05-10T00:00:00Z</td>\n",
       "      <td>60</td>\n",
       "      <td>TABUAZEIRO</td>\n",
       "      <td>0</td>\n",
       "      <td>1</td>\n",
       "      <td>0</td>\n",
       "      <td>0</td>\n",
       "      <td>0</td>\n",
       "      <td>1</td>\n",
       "    </tr>\n",
       "  </tbody>\n",
       "</table>\n",
       "</div>"
      ],
      "text/plain": [
       "  No-show     PatientId  AppointmentID Gender          ScheduledDay  \\\n",
       "0      No  1.328492e+12        5687610      F  2016-05-11T16:00:16Z   \n",
       "1      No  3.881869e+14        5694484      M  2016-05-13T08:41:27Z   \n",
       "2     Yes  9.118992e+12        5500939      F  2016-03-22T11:09:38Z   \n",
       "3      No  1.843618e+14        5639080      M  2016-04-29T08:42:15Z   \n",
       "4      No  5.783198e+13        5671566      M  2016-05-06T18:47:52Z   \n",
       "5      No  6.516246e+13        5600056      F  2016-04-19T09:52:22Z   \n",
       "6      No  6.559800e+12        5640931      M  2016-04-29T11:44:39Z   \n",
       "7      No  1.432925e+12        5730450      M  2016-05-24T08:37:44Z   \n",
       "8      No  9.741488e+14        5771325      M  2016-06-03T12:24:24Z   \n",
       "9      No  5.458152e+12        5671279      M  2016-05-06T16:09:35Z   \n",
       "\n",
       "         AppointmentDay  Age   Neighbourhood  Scholarship  Hipertension  \\\n",
       "0  2016-05-19T00:00:00Z   25   MATA DA PRAIA            0             0   \n",
       "1  2016-05-17T00:00:00Z   62       FRADINHOS            0             0   \n",
       "2  2016-05-09T00:00:00Z   65  JARDIM CAMBURI            0             0   \n",
       "3  2016-04-29T00:00:00Z   41     MARIA ORTIZ            0             0   \n",
       "4  2016-05-09T00:00:00Z   61         MARUÍPE            0             1   \n",
       "5  2016-05-16T00:00:00Z   11       DO QUADRO            1             0   \n",
       "6  2016-05-04T00:00:00Z   45      CRUZAMENTO            0             0   \n",
       "7  2016-06-07T00:00:00Z    9  MÁRIO CYPRESTE            0             0   \n",
       "8  2016-06-03T00:00:00Z   79    SOLON BORGES            0             0   \n",
       "9  2016-05-10T00:00:00Z   60      TABUAZEIRO            0             1   \n",
       "\n",
       "   Diabetes  Alcoholism  Handcap  SMS_received  \n",
       "0         0           0        0             0  \n",
       "1         0           0        0             0  \n",
       "2         0           0        0             0  \n",
       "3         0           0        0             0  \n",
       "4         0           1        0             0  \n",
       "5         0           0        0             0  \n",
       "6         0           0        0             1  \n",
       "7         0           0        0             1  \n",
       "8         0           0        0             0  \n",
       "9         0           0        0             1  "
      ]
     },
     "execution_count": 11,
     "metadata": {},
     "output_type": "execute_result"
    }
   ],
   "source": [
    "appointments.head(10)"
   ]
  },
  {
   "cell_type": "markdown",
   "metadata": {},
   "source": [
    "Ci sono molti più pazienti che non si presentano all'appuntamento"
   ]
  },
  {
   "cell_type": "code",
   "execution_count": 12,
   "metadata": {},
   "outputs": [
    {
     "data": {
      "text/plain": [
       "Text(0.5, 1.0, 'showed up patients')"
      ]
     },
     "execution_count": 12,
     "metadata": {},
     "output_type": "execute_result"
    },
    {
     "data": {
      "image/png": "[encoded data removed]",
      "text/plain": [
       "<Figure size 432x288 with 1 Axes>"
      ]
     },
     "metadata": {
      "needs_background": "light"
     },
     "output_type": "display_data"
    }
   ],
   "source": [
    "appointments['No-show'].value_counts().plot(kind='bar').set_title('showed up patients')"
   ]
  },
  {
   "cell_type": "markdown",
   "metadata": {},
   "source": [
    "Controllo i possibili valori assunti dalle feature, ricordando lo shape del dataset"
   ]
  },
  {
   "cell_type": "code",
   "execution_count": 13,
   "metadata": {},
   "outputs": [
    {
     "data": {
      "text/plain": [
       "(88421, 14)"
      ]
     },
     "execution_count": 13,
     "metadata": {},
     "output_type": "execute_result"
    }
   ],
   "source": [
    "appointments.shape"
   ]
  },
  {
   "cell_type": "code",
   "execution_count": 14,
   "metadata": {},
   "outputs": [
    {
     "data": {
      "text/plain": [
       "No-show               2\n",
       "PatientId         54105\n",
       "AppointmentID     88421\n",
       "Gender                2\n",
       "ScheduledDay      83840\n",
       "AppointmentDay       27\n",
       "Age                 103\n",
       "Neighbourhood        81\n",
       "Scholarship           2\n",
       "Hipertension          2\n",
       "Diabetes              2\n",
       "Alcoholism            2\n",
       "Handcap               5\n",
       "SMS_received          2\n",
       "dtype: int64"
      ]
     },
     "execution_count": 14,
     "metadata": {},
     "output_type": "execute_result"
    }
   ],
   "source": [
    "appointments.nunique()"
   ]
  },
  {
   "cell_type": "markdown",
   "metadata": {},
   "source": [
    "Gli ID dei pazienti non sono univoci. E' tuttavia consentito che un paziente prenoti più visite, e sembrerebbe essere così. La maggior parte dei pazienti fa una sola visita, e i pazienti con più visite ciascuno sono molti di meno"
   ]
  },
  {
   "cell_type": "code",
   "execution_count": 15,
   "metadata": {},
   "outputs": [
    {
     "data": {
      "text/plain": [
       "Text(0.5, 0, 'Number of times a PatientID appears in the data')"
      ]
     },
     "execution_count": 15,
     "metadata": {},
     "output_type": "execute_result"
    },
    {
     "data": {
      "image/png": "[encoded data removed]",
      "text/plain": [
       "<Figure size 864x432 with 1 Axes>"
      ]
     },
     "metadata": {
      "needs_background": "light"
     },
     "output_type": "display_data"
    }
   ],
   "source": [
    "fig = plt.figure(figsize=(12,6))\n",
    "sns.countplot(appointments.PatientId.value_counts())\n",
    "plt.xlabel('Number of times a PatientID appears in the data')"
   ]
  },
  {
   "cell_type": "markdown",
   "metadata": {},
   "source": [
    "Ci sono alcuni ID dei pazienti che non sono formattati correttamente (5 rows). Da convertire in interi per conservare le osservazioni/feature"
   ]
  },
  {
   "cell_type": "code",
   "execution_count": 17,
   "metadata": {},
   "outputs": [
    {
     "data": {
      "text/plain": [
       "88416"
      ]
     },
     "execution_count": 17,
     "metadata": {},
     "output_type": "execute_result"
    }
   ],
   "source": [
    "appointments.PatientId.apply(float.is_integer).sum()"
   ]
  },
  {
   "cell_type": "code",
   "execution_count": 18,
   "metadata": {},
   "outputs": [
    {
     "data": {
      "text/html": [
       "<div>\n",
       "<style scoped>\n",
       "    .dataframe tbody tr th:only-of-type {\n",
       "        vertical-align: middle;\n",
       "    }\n",
       "\n",
       "    .dataframe tbody tr th {\n",
       "        vertical-align: top;\n",
       "    }\n",
       "\n",
       "    .dataframe thead th {\n",
       "        text-align: right;\n",
       "    }\n",
       "</style>\n",
       "<table border=\"1\" class=\"dataframe\">\n",
       "  <thead>\n",
       "    <tr style=\"text-align: right;\">\n",
       "      <th></th>\n",
       "      <th>No-show</th>\n",
       "      <th>PatientId</th>\n",
       "      <th>AppointmentID</th>\n",
       "      <th>Gender</th>\n",
       "      <th>ScheduledDay</th>\n",
       "      <th>AppointmentDay</th>\n",
       "      <th>Age</th>\n",
       "      <th>Neighbourhood</th>\n",
       "      <th>Scholarship</th>\n",
       "      <th>Hipertension</th>\n",
       "      <th>Diabetes</th>\n",
       "      <th>Alcoholism</th>\n",
       "      <th>Handcap</th>\n",
       "      <th>SMS_received</th>\n",
       "    </tr>\n",
       "  </thead>\n",
       "  <tbody>\n",
       "    <tr>\n",
       "      <th>29449</th>\n",
       "      <td>No</td>\n",
       "      <td>39217.84439</td>\n",
       "      <td>5751990</td>\n",
       "      <td>F</td>\n",
       "      <td>2016-05-31T10:56:41Z</td>\n",
       "      <td>2016-06-03T00:00:00Z</td>\n",
       "      <td>44</td>\n",
       "      <td>PRAIA DO SUÁ</td>\n",
       "      <td>0</td>\n",
       "      <td>0</td>\n",
       "      <td>0</td>\n",
       "      <td>0</td>\n",
       "      <td>0</td>\n",
       "      <td>0</td>\n",
       "    </tr>\n",
       "    <tr>\n",
       "      <th>49021</th>\n",
       "      <td>No</td>\n",
       "      <td>141724.16655</td>\n",
       "      <td>5637648</td>\n",
       "      <td>M</td>\n",
       "      <td>2016-04-29T07:13:36Z</td>\n",
       "      <td>2016-05-02T00:00:00Z</td>\n",
       "      <td>12</td>\n",
       "      <td>FORTE SÃO JOÃO</td>\n",
       "      <td>0</td>\n",
       "      <td>0</td>\n",
       "      <td>0</td>\n",
       "      <td>0</td>\n",
       "      <td>0</td>\n",
       "      <td>0</td>\n",
       "    </tr>\n",
       "    <tr>\n",
       "      <th>52650</th>\n",
       "      <td>No</td>\n",
       "      <td>93779.52927</td>\n",
       "      <td>5712759</td>\n",
       "      <td>F</td>\n",
       "      <td>2016-05-18T09:12:29Z</td>\n",
       "      <td>2016-05-18T00:00:00Z</td>\n",
       "      <td>33</td>\n",
       "      <td>CENTRO</td>\n",
       "      <td>0</td>\n",
       "      <td>0</td>\n",
       "      <td>0</td>\n",
       "      <td>0</td>\n",
       "      <td>0</td>\n",
       "      <td>0</td>\n",
       "    </tr>\n",
       "    <tr>\n",
       "      <th>75314</th>\n",
       "      <td>No</td>\n",
       "      <td>537615.28476</td>\n",
       "      <td>5637728</td>\n",
       "      <td>F</td>\n",
       "      <td>2016-04-29T07:19:57Z</td>\n",
       "      <td>2016-05-06T00:00:00Z</td>\n",
       "      <td>14</td>\n",
       "      <td>FORTE SÃO JOÃO</td>\n",
       "      <td>0</td>\n",
       "      <td>0</td>\n",
       "      <td>0</td>\n",
       "      <td>0</td>\n",
       "      <td>0</td>\n",
       "      <td>1</td>\n",
       "    </tr>\n",
       "    <tr>\n",
       "      <th>79477</th>\n",
       "      <td>No</td>\n",
       "      <td>43741.75652</td>\n",
       "      <td>5760144</td>\n",
       "      <td>M</td>\n",
       "      <td>2016-06-01T14:22:58Z</td>\n",
       "      <td>2016-06-01T00:00:00Z</td>\n",
       "      <td>39</td>\n",
       "      <td>MARIA ORTIZ</td>\n",
       "      <td>0</td>\n",
       "      <td>0</td>\n",
       "      <td>1</td>\n",
       "      <td>0</td>\n",
       "      <td>0</td>\n",
       "      <td>0</td>\n",
       "    </tr>\n",
       "  </tbody>\n",
       "</table>\n",
       "</div>"
      ],
      "text/plain": [
       "      No-show     PatientId  AppointmentID Gender          ScheduledDay  \\\n",
       "29449      No   39217.84439        5751990      F  2016-05-31T10:56:41Z   \n",
       "49021      No  141724.16655        5637648      M  2016-04-29T07:13:36Z   \n",
       "52650      No   93779.52927        5712759      F  2016-05-18T09:12:29Z   \n",
       "75314      No  537615.28476        5637728      F  2016-04-29T07:19:57Z   \n",
       "79477      No   43741.75652        5760144      M  2016-06-01T14:22:58Z   \n",
       "\n",
       "             AppointmentDay  Age   Neighbourhood  Scholarship  Hipertension  \\\n",
       "29449  2016-06-03T00:00:00Z   44    PRAIA DO SUÁ            0             0   \n",
       "49021  2016-05-02T00:00:00Z   12  FORTE SÃO JOÃO            0             0   \n",
       "52650  2016-05-18T00:00:00Z   33          CENTRO            0             0   \n",
       "75314  2016-05-06T00:00:00Z   14  FORTE SÃO JOÃO            0             0   \n",
       "79477  2016-06-01T00:00:00Z   39     MARIA ORTIZ            0             0   \n",
       "\n",
       "       Diabetes  Alcoholism  Handcap  SMS_received  \n",
       "29449         0           0        0             0  \n",
       "49021         0           0        0             0  \n",
       "52650         0           0        0             0  \n",
       "75314         0           0        0             1  \n",
       "79477         1           0        0             0  "
      ]
     },
     "execution_count": 18,
     "metadata": {},
     "output_type": "execute_result"
    }
   ],
   "source": [
    "appointments[appointments.PatientId.apply(float.is_integer) == False]"
   ]
  },
  {
   "cell_type": "markdown",
   "metadata": {},
   "source": [
    "Gli AppointmentID sono invece univoci"
   ]
  },
  {
   "cell_type": "code",
   "execution_count": 19,
   "metadata": {},
   "outputs": [
    {
     "data": {
      "text/plain": [
       "5769215    1\n",
       "5767893    1\n",
       "5698251    1\n",
       "5688012    1\n",
       "5685965    1\n",
       "          ..\n",
       "5545273    1\n",
       "5541179    1\n",
       "5682492    1\n",
       "5684541    1\n",
       "5771266    1\n",
       "Name: AppointmentID, Length: 88421, dtype: int64"
      ]
     },
     "execution_count": 19,
     "metadata": {},
     "output_type": "execute_result"
    }
   ],
   "source": [
    "appointments.AppointmentID.value_counts()"
   ]
  },
  {
   "cell_type": "code",
   "execution_count": 20,
   "metadata": {},
   "outputs": [
    {
     "data": {
      "text/plain": [
       "array(['F', 'M'], dtype=object)"
      ]
     },
     "execution_count": 20,
     "metadata": {},
     "output_type": "execute_result"
    }
   ],
   "source": [
    "appointments.Gender.unique()"
   ]
  },
  {
   "cell_type": "markdown",
   "metadata": {},
   "source": [
    "Alcuni valori di età sono pari a 0, potrebbero essere valori mancanti (quasi certamente, oppure visite a neonati?)"
   ]
  },
  {
   "cell_type": "code",
   "execution_count": 21,
   "metadata": {},
   "outputs": [
    {
     "data": {
      "text/plain": [
       "0      2820\n",
       "1      1811\n",
       "52     1401\n",
       "38     1320\n",
       "2      1316\n",
       "       ... \n",
       "98        6\n",
       "100       4\n",
       "115       4\n",
       "102       2\n",
       "99        1\n",
       "Name: Age, Length: 103, dtype: int64"
      ]
     },
     "execution_count": 21,
     "metadata": {},
     "output_type": "execute_result"
    }
   ],
   "source": [
    "appointments.Age.value_counts()"
   ]
  },
  {
   "cell_type": "code",
   "execution_count": 22,
   "metadata": {},
   "outputs": [
    {
     "data": {
      "image/png": "[encoded data removed]",
      "text/plain": [
       "<Figure size 1152x576 with 1 Axes>"
      ]
     },
     "metadata": {
      "needs_background": "light"
     },
     "output_type": "display_data"
    }
   ],
   "source": [
    "fig = plt.figure(figsize=(16,8))\n",
    "chart = sns.countplot(appointments.Age)\n",
    "#chart.set_xticklabels(chart.get_xticklabels(), rotation=45)"
   ]
  },
  {
   "cell_type": "code",
   "execution_count": 23,
   "metadata": {},
   "outputs": [
    {
     "data": {
      "image/png": "[encoded data removed]",
      "text/plain": [
       "<Figure size 1152x576 with 1 Axes>"
      ]
     },
     "metadata": {
      "needs_background": "light"
     },
     "output_type": "display_data"
    }
   ],
   "source": [
    "fig = plt.figure(figsize=(16,8))\n",
    "chart = sns.distplot(appointments.Age)"
   ]
  },
  {
   "cell_type": "markdown",
   "metadata": {},
   "source": [
    "Il valore di età pari a 0 sembra corrispondere a neonati, in quanto il numero di questi pazienti è ridotto (2820 su 88k) e nessuno di loro ha nelle colonne Hipertension, Diabetes, Alcoholism un valore di 1.\n",
    "\n",
    "Nessuno di loro ha un valore diverso da 0 per quanto riguarda Handcap, e ciò potrebbe essere perché è effettivamente la prima visita del neonato (dove potrebbe essere diagnosticato)."
   ]
  },
  {
   "cell_type": "code",
   "execution_count": 24,
   "metadata": {},
   "outputs": [
    {
     "data": {
      "text/plain": [
       "(2820, 14)"
      ]
     },
     "execution_count": 24,
     "metadata": {},
     "output_type": "execute_result"
    }
   ],
   "source": [
    "appointments[appointments['Age'] == 0].shape"
   ]
  },
  {
   "cell_type": "code",
   "execution_count": 25,
   "metadata": {},
   "outputs": [
    {
     "data": {
      "text/plain": [
       "Scholarship      43\n",
       "Hipertension      0\n",
       "Diabetes          0\n",
       "Alcoholism        0\n",
       "Handcap           0\n",
       "SMS_received    729\n",
       "dtype: int64"
      ]
     },
     "execution_count": 25,
     "metadata": {},
     "output_type": "execute_result"
    }
   ],
   "source": [
    "appointments[appointments['Age'] == 0][['Scholarship', 'Hipertension', 'Diabetes', 'Alcoholism', 'Handcap', 'SMS_received']].sum()"
   ]
  },
  {
   "cell_type": "markdown",
   "metadata": {},
   "source": [
    "I valori del quartiere della visita sono corretti (senza nulli o altro). Hanno anche una certa distribuzione."
   ]
  },
  {
   "cell_type": "code",
   "execution_count": 26,
   "metadata": {},
   "outputs": [
    {
     "name": "stdout",
     "output_type": "stream",
     "text": [
      "['AEROPORTO', 'ANDORINHAS', 'ANTÔNIO HONÓRIO', 'ARIOVALDO FAVALESSA', 'BARRO VERMELHO', 'BELA VISTA', 'BENTO FERREIRA', 'BOA VISTA', 'BONFIM', 'CARATOÍRA', 'CENTRO', 'COMDUSA', 'CONQUISTA', 'CONSOLAÇÃO', 'CRUZAMENTO', 'DA PENHA', 'DE LOURDES', 'DO CABRAL', 'DO MOSCOSO', 'DO QUADRO', 'ENSEADA DO SUÁ', 'ESTRELINHA', 'FONTE GRANDE', 'FORTE SÃO JOÃO', 'FRADINHOS', 'GOIABEIRAS', 'GRANDE VITÓRIA', 'GURIGICA', 'HORTO', 'ILHA DAS CAIEIRAS', 'ILHA DE SANTA MARIA', 'ILHA DO BOI', 'ILHA DO FRADE', 'ILHA DO PRÍNCIPE', 'ILHAS OCEÂNICAS DE TRINDADE', 'INHANGUETÁ', 'ITARARÉ', 'JABOUR', 'JARDIM CAMBURI', 'JARDIM DA PENHA', 'JESUS DE NAZARETH', 'JOANA D´ARC', 'JUCUTUQUARA', 'MARIA ORTIZ', 'MARUÍPE', 'MATA DA PRAIA', 'MONTE BELO', 'MORADA DE CAMBURI', 'MÁRIO CYPRESTE', 'NAZARETH', 'NOVA PALESTINA', 'PARQUE INDUSTRIAL', 'PARQUE MOSCOSO', 'PIEDADE', 'PONTAL DE CAMBURI', 'PRAIA DO CANTO', 'PRAIA DO SUÁ', 'REDENÇÃO', 'REPÚBLICA', 'RESISTÊNCIA', 'ROMÃO', 'SANTA CECÍLIA', 'SANTA CLARA', 'SANTA HELENA', 'SANTA LUÍZA', 'SANTA LÚCIA', 'SANTA MARTHA', 'SANTA TEREZA', 'SANTO ANDRÉ', 'SANTO ANTÔNIO', 'SANTOS DUMONT', 'SANTOS REIS', 'SEGURANÇA DO LAR', 'SOLON BORGES', 'SÃO BENEDITO', 'SÃO CRISTÓVÃO', 'SÃO JOSÉ', 'SÃO PEDRO', 'TABUAZEIRO', 'UNIVERSITÁRIO', 'VILA RUBIM']\n",
      "81\n"
     ]
    }
   ],
   "source": [
    "print(sorted(appointments.Neighbourhood.unique()))\n",
    "print(appointments.Neighbourhood.nunique())"
   ]
  },
  {
   "cell_type": "code",
   "execution_count": 27,
   "metadata": {},
   "outputs": [
    {
     "data": {
      "text/plain": [
       "JARDIM CAMBURI                 6208\n",
       "MARIA ORTIZ                    4603\n",
       "RESISTÊNCIA                    3564\n",
       "JARDIM DA PENHA                3093\n",
       "ITARARÉ                        2810\n",
       "                               ... \n",
       "ILHA DO BOI                      30\n",
       "ILHA DO FRADE                     8\n",
       "AEROPORTO                         8\n",
       "ILHAS OCEÂNICAS DE TRINDADE       2\n",
       "PARQUE INDUSTRIAL                 1\n",
       "Name: Neighbourhood, Length: 81, dtype: int64"
      ]
     },
     "execution_count": 27,
     "metadata": {},
     "output_type": "execute_result"
    }
   ],
   "source": [
    "appointments.Neighbourhood.value_counts()"
   ]
  },
  {
   "cell_type": "code",
   "execution_count": 28,
   "metadata": {},
   "outputs": [
    {
     "data": {
      "text/plain": [
       "<matplotlib.axes._subplots.AxesSubplot at 0x1b1c956fdd8>"
      ]
     },
     "execution_count": 28,
     "metadata": {},
     "output_type": "execute_result"
    },
    {
     "data": {
      "image/png": "[encoded data removed]",
      "text/plain": [
       "<Figure size 432x288 with 1 Axes>"
      ]
     },
     "metadata": {
      "needs_background": "light"
     },
     "output_type": "display_data"
    }
   ],
   "source": [
    "sns.countplot(appointments.Neighbourhood)"
   ]
  },
  {
   "cell_type": "code",
   "execution_count": 29,
   "metadata": {},
   "outputs": [
    {
     "data": {
      "text/plain": [
       "array([0, 1], dtype=int64)"
      ]
     },
     "execution_count": 29,
     "metadata": {},
     "output_type": "execute_result"
    }
   ],
   "source": [
    "appointments.Scholarship.unique()"
   ]
  },
  {
   "cell_type": "code",
   "execution_count": 30,
   "metadata": {},
   "outputs": [
    {
     "data": {
      "text/plain": [
       "array([0, 1], dtype=int64)"
      ]
     },
     "execution_count": 30,
     "metadata": {},
     "output_type": "execute_result"
    }
   ],
   "source": [
    "appointments.Hipertension.unique()"
   ]
  },
  {
   "cell_type": "code",
   "execution_count": 31,
   "metadata": {},
   "outputs": [
    {
     "data": {
      "text/plain": [
       "array([0, 1], dtype=int64)"
      ]
     },
     "execution_count": 31,
     "metadata": {},
     "output_type": "execute_result"
    }
   ],
   "source": [
    "appointments.Diabetes.unique()"
   ]
  },
  {
   "cell_type": "code",
   "execution_count": 32,
   "metadata": {},
   "outputs": [
    {
     "data": {
      "text/plain": [
       "array([0, 1], dtype=int64)"
      ]
     },
     "execution_count": 32,
     "metadata": {},
     "output_type": "execute_result"
    }
   ],
   "source": [
    "appointments.Alcoholism.unique()"
   ]
  },
  {
   "cell_type": "code",
   "execution_count": 33,
   "metadata": {},
   "outputs": [
    {
     "data": {
      "text/plain": [
       "array([0, 1], dtype=int64)"
      ]
     },
     "execution_count": 33,
     "metadata": {},
     "output_type": "execute_result"
    }
   ],
   "source": [
    "appointments.SMS_received.unique()"
   ]
  },
  {
   "cell_type": "markdown",
   "metadata": {},
   "source": [
    "I valori della feature Handcap sono 5 diversi (0,1,2,3,4), forse categorici. Cosa rappresenterebbero? La percentuale di disabilità?"
   ]
  },
  {
   "cell_type": "code",
   "execution_count": 34,
   "metadata": {},
   "outputs": [
    {
     "data": {
      "text/plain": [
       "array([0, 1, 3, 2, 4], dtype=int64)"
      ]
     },
     "execution_count": 34,
     "metadata": {},
     "output_type": "execute_result"
    }
   ],
   "source": [
    "appointments.Handcap.unique()"
   ]
  },
  {
   "cell_type": "code",
   "execution_count": 35,
   "metadata": {},
   "outputs": [
    {
     "data": {
      "text/plain": [
       "0    86621\n",
       "1     1637\n",
       "2      149\n",
       "3       11\n",
       "4        3\n",
       "Name: Handcap, dtype: int64"
      ]
     },
     "execution_count": 35,
     "metadata": {},
     "output_type": "execute_result"
    }
   ],
   "source": [
    "appointments.Handcap.value_counts()"
   ]
  },
  {
   "cell_type": "code",
   "execution_count": 36,
   "metadata": {},
   "outputs": [
    {
     "data": {
      "text/plain": [
       "<matplotlib.axes._subplots.AxesSubplot at 0x1b1c9246ba8>"
      ]
     },
     "execution_count": 36,
     "metadata": {},
     "output_type": "execute_result"
    },
    {
     "data": {
      "image/png": "[encoded data removed]",
      "text/plain": [
       "<Figure size 432x288 with 1 Axes>"
      ]
     },
     "metadata": {
      "needs_background": "light"
     },
     "output_type": "display_data"
    }
   ],
   "source": [
    "sns.countplot(appointments.Handcap)"
   ]
  },
  {
   "cell_type": "markdown",
   "metadata": {},
   "source": [
    "## Alcune modifiche di preprocessing"
   ]
  },
  {
   "cell_type": "code",
   "execution_count": 37,
   "metadata": {},
   "outputs": [],
   "source": [
    "app_edit = appointments.replace(['Yes', 'No'], [1, 0])"
   ]
  },
  {
   "cell_type": "code",
   "execution_count": 38,
   "metadata": {},
   "outputs": [
    {
     "data": {
      "text/plain": [
       "No-show             int64\n",
       "PatientId         float64\n",
       "AppointmentID       int64\n",
       "Gender             object\n",
       "ScheduledDay       object\n",
       "AppointmentDay     object\n",
       "Age                 int64\n",
       "Neighbourhood      object\n",
       "Scholarship         int64\n",
       "Hipertension        int64\n",
       "Diabetes            int64\n",
       "Alcoholism          int64\n",
       "Handcap             int64\n",
       "SMS_received        int64\n",
       "dtype: object"
      ]
     },
     "execution_count": 38,
     "metadata": {},
     "output_type": "execute_result"
    }
   ],
   "source": [
    "app_edit.dtypes"
   ]
  },
  {
   "cell_type": "code",
   "execution_count": 39,
   "metadata": {},
   "outputs": [],
   "source": [
    "app_edit = app_edit.replace(['', ' '], [np.nan, np.nan])"
   ]
  },
  {
   "cell_type": "code",
   "execution_count": 40,
   "metadata": {},
   "outputs": [
    {
     "data": {
      "text/plain": [
       "0"
      ]
     },
     "execution_count": 40,
     "metadata": {},
     "output_type": "execute_result"
    }
   ],
   "source": [
    "app_edit.isnull().sum().sum()"
   ]
  },
  {
   "cell_type": "code",
   "execution_count": 41,
   "metadata": {},
   "outputs": [],
   "source": [
    "app_edit = app_edit.drop(columns=['AppointmentID'])"
   ]
  },
  {
   "cell_type": "code",
   "execution_count": 42,
   "metadata": {},
   "outputs": [],
   "source": [
    "app_edit = app_edit.replace(['M', 'F'], [0, 1])"
   ]
  },
  {
   "cell_type": "markdown",
   "metadata": {},
   "source": [
    "## Analisi rispetto alla probabilità di No-show"
   ]
  },
  {
   "cell_type": "markdown",
   "metadata": {},
   "source": [
    "La correlation matrix delle feature è ancora incompleta, vanno prima convertite in valori interi"
   ]
  },
  {
   "cell_type": "code",
   "execution_count": 43,
   "metadata": {},
   "outputs": [
    {
     "data": {
      "image/png": "[encoded data removed]",
      "text/plain": [
       "<Figure size 576x432 with 2 Axes>"
      ]
     },
     "metadata": {
      "needs_background": "light"
     },
     "output_type": "display_data"
    }
   ],
   "source": [
    "fig, ax = plt.subplots(figsize=(8,6))\n",
    "sns.heatmap(app_edit.corr(), annot=False)\n",
    "plt.show()"
   ]
  },
  {
   "cell_type": "markdown",
   "metadata": {},
   "source": [
    "### Gender\n",
    "\n",
    "Risulta ininfluente sulla probabilità di No-show, drop"
   ]
  },
  {
   "cell_type": "code",
   "execution_count": 44,
   "metadata": {},
   "outputs": [
    {
     "data": {
      "text/html": [
       "<div>\n",
       "<style scoped>\n",
       "    .dataframe tbody tr th:only-of-type {\n",
       "        vertical-align: middle;\n",
       "    }\n",
       "\n",
       "    .dataframe tbody tr th {\n",
       "        vertical-align: top;\n",
       "    }\n",
       "\n",
       "    .dataframe thead th {\n",
       "        text-align: right;\n",
       "    }\n",
       "</style>\n",
       "<table border=\"1\" class=\"dataframe\">\n",
       "  <thead>\n",
       "    <tr style=\"text-align: right;\">\n",
       "      <th></th>\n",
       "      <th>No-show</th>\n",
       "    </tr>\n",
       "    <tr>\n",
       "      <th>Gender</th>\n",
       "      <th></th>\n",
       "    </tr>\n",
       "  </thead>\n",
       "  <tbody>\n",
       "    <tr>\n",
       "      <th>1</th>\n",
       "      <td>0.203753</td>\n",
       "    </tr>\n",
       "    <tr>\n",
       "      <th>0</th>\n",
       "      <td>0.199425</td>\n",
       "    </tr>\n",
       "  </tbody>\n",
       "</table>\n",
       "</div>"
      ],
      "text/plain": [
       "         No-show\n",
       "Gender          \n",
       "1       0.203753\n",
       "0       0.199425"
      ]
     },
     "execution_count": 44,
     "metadata": {},
     "output_type": "execute_result"
    },
    {
     "data": {
      "image/png": "[encoded data removed]",
      "text/plain": [
       "<Figure size 864x288 with 2 Axes>"
      ]
     },
     "metadata": {
      "needs_background": "light"
     },
     "output_type": "display_data"
    }
   ],
   "source": [
    "fig, ax = plt.subplots(1, 2, figsize=(12, 4))\n",
    "\n",
    "sns.countplot(x='Gender', hue='No-show', data=app_edit, ax=ax[0])\n",
    "app_edit[['Gender', 'No-show']].groupby(['Gender']).count().sort_values(by='No-show', ascending=False)\n",
    "\n",
    "sns.barplot(x='Gender', y='No-show', data=app_edit, ax=ax[1])\n",
    "app_edit[['Gender', 'No-show']].groupby(['Gender']).mean().sort_values(by='No-show', ascending=False)"
   ]
  },
  {
   "cell_type": "markdown",
   "metadata": {},
   "source": [
    "### Age\n",
    "\n",
    "Nell'intervallo 15-35 anni sembra essere più alta la probabilità, seppur non di molto. Viceversa dai 45 anni in poi è meno probabile che il paziente non si presenti alla visita (anche a 0 anni, prima visita obbligatoria?)."
   ]
  },
  {
   "cell_type": "code",
   "execution_count": 45,
   "metadata": {},
   "outputs": [
    {
     "data": {
      "image/png": "[encoded data removed]",
      "text/plain": [
       "<Figure size 864x432 with 1 Axes>"
      ]
     },
     "metadata": {
      "needs_background": "light"
     },
     "output_type": "display_data"
    }
   ],
   "source": [
    "fig = plt.figure(figsize=(12,6))\n",
    "axis = sns.distplot(app_edit.loc[(app_edit['No-show'] == 1),'Age'] , color='g', label='No-show=Yes')\n",
    "axis = sns.distplot(app_edit.loc[(app_edit['No-show'] == 0),'Age'] , color='b', label='No-show=No')\n",
    "plt.title('Distribuzione Età pazienti - No-show vs. show', fontsize = 20)\n",
    "plt.legend()\n",
    "plt.xlabel(\"Età del paziente\", fontsize = 12)\n",
    "plt.ylabel('Frequenza', fontsize = 12);"
   ]
  },
  {
   "cell_type": "markdown",
   "metadata": {},
   "source": [
    "### Tempo in giorni prima di effettuare la visita (tempo tra prenotazione e visita)\n",
    "\n",
    "All'aumentare dei giorni di attesa aumenta anche la probabilità di No-show. Da notare come nel dataset ci siano valori negativi, corrispondenti ad appuntamenti fissati \"indietro nel tempo\", tutti con No-show. Può essere opportuno aggiungere una feature per segnalare questi casi (1/0 se avviene o meno)"
   ]
  },
  {
   "cell_type": "code",
   "execution_count": 46,
   "metadata": {},
   "outputs": [],
   "source": [
    "app_edit_date = app_edit.astype({'ScheduledDay': 'datetime64[D]', 'AppointmentDay': 'datetime64[D]'})"
   ]
  },
  {
   "cell_type": "code",
   "execution_count": 47,
   "metadata": {},
   "outputs": [
    {
     "data": {
      "text/plain": [
       "0         8\n",
       "1         4\n",
       "2        48\n",
       "3         0\n",
       "4         3\n",
       "         ..\n",
       "88416     5\n",
       "88417    36\n",
       "88418     6\n",
       "88419     0\n",
       "88420    12\n",
       "Length: 88421, dtype: int64"
      ]
     },
     "execution_count": 47,
     "metadata": {},
     "output_type": "execute_result"
    }
   ],
   "source": [
    "col_datediff = app_edit_date['AppointmentDay'] - app_edit_date['ScheduledDay']\n",
    "col_datediff = col_datediff.astype('timedelta64[D]')\n",
    "col_datediff = col_datediff.astype('int64')\n",
    "col_datediff"
   ]
  },
  {
   "cell_type": "code",
   "execution_count": 48,
   "metadata": {},
   "outputs": [
    {
     "data": {
      "text/plain": [
       "array([  8,   4,  48,   0,   3,  27,   5,  14,  28,  64,   2,  18,   6,\n",
       "        19,  34,  33,  15,  17,  11,  21,  13,   7,  26, 155,  32,   1,\n",
       "        31,  69,   9,  12,  16,  24,  38,  36,  20,  50,  30,  35,  29,\n",
       "        37,  25,  42,  66,  23,  49,  22,  56,  10,  41,  43,  47,  91,\n",
       "        75,  61,  57,  65,  40,  62,  45,  53,  68,  76,  63,  52,  46,\n",
       "        58,  39,  51,  85, 102,  55,  84,  60,  90,  71,  70,  88,  78,\n",
       "        67,  44,  59, 179,  89,  74,  77,  87,  54, 115,  73, 169,  79,\n",
       "        81,  80,  93, 108, 107,  72, 111, 104, 139,  86,  92, 176, 132,\n",
       "       133,  97,  83,  98,  95, 105, 119, 142, 112, 162,  94,  96, 122,\n",
       "       126, 151, 125, 109, 123, 103,  -1, 127,  -6, 101, 110,  82, 146],\n",
       "      dtype=int64)"
      ]
     },
     "execution_count": 48,
     "metadata": {},
     "output_type": "execute_result"
    }
   ],
   "source": [
    "col_datediff.unique()"
   ]
  },
  {
   "cell_type": "code",
   "execution_count": 49,
   "metadata": {},
   "outputs": [],
   "source": [
    "app_edit_daydiff = app_edit_date\n",
    "app_edit_daydiff['DaysToAppointment'] = col_datediff"
   ]
  },
  {
   "cell_type": "code",
   "execution_count": 50,
   "metadata": {},
   "outputs": [
    {
     "data": {
      "text/html": [
       "<div>\n",
       "<style scoped>\n",
       "    .dataframe tbody tr th:only-of-type {\n",
       "        vertical-align: middle;\n",
       "    }\n",
       "\n",
       "    .dataframe tbody tr th {\n",
       "        vertical-align: top;\n",
       "    }\n",
       "\n",
       "    .dataframe thead th {\n",
       "        text-align: right;\n",
       "    }\n",
       "</style>\n",
       "<table border=\"1\" class=\"dataframe\">\n",
       "  <thead>\n",
       "    <tr style=\"text-align: right;\">\n",
       "      <th></th>\n",
       "      <th>No-show</th>\n",
       "      <th>PatientId</th>\n",
       "      <th>Gender</th>\n",
       "      <th>ScheduledDay</th>\n",
       "      <th>AppointmentDay</th>\n",
       "      <th>Age</th>\n",
       "      <th>Neighbourhood</th>\n",
       "      <th>Scholarship</th>\n",
       "      <th>Hipertension</th>\n",
       "      <th>Diabetes</th>\n",
       "      <th>Alcoholism</th>\n",
       "      <th>Handcap</th>\n",
       "      <th>SMS_received</th>\n",
       "      <th>DaysToAppointment</th>\n",
       "    </tr>\n",
       "  </thead>\n",
       "  <tbody>\n",
       "    <tr>\n",
       "      <th>53716</th>\n",
       "      <td>1</td>\n",
       "      <td>7.839273e+12</td>\n",
       "      <td>0</td>\n",
       "      <td>2016-05-10</td>\n",
       "      <td>2016-05-09</td>\n",
       "      <td>38</td>\n",
       "      <td>RESISTÊNCIA</td>\n",
       "      <td>0</td>\n",
       "      <td>0</td>\n",
       "      <td>0</td>\n",
       "      <td>0</td>\n",
       "      <td>1</td>\n",
       "      <td>0</td>\n",
       "      <td>-1</td>\n",
       "    </tr>\n",
       "    <tr>\n",
       "      <th>60856</th>\n",
       "      <td>1</td>\n",
       "      <td>9.982316e+14</td>\n",
       "      <td>1</td>\n",
       "      <td>2016-05-11</td>\n",
       "      <td>2016-05-05</td>\n",
       "      <td>81</td>\n",
       "      <td>SANTO ANTÔNIO</td>\n",
       "      <td>0</td>\n",
       "      <td>0</td>\n",
       "      <td>0</td>\n",
       "      <td>0</td>\n",
       "      <td>0</td>\n",
       "      <td>0</td>\n",
       "      <td>-6</td>\n",
       "    </tr>\n",
       "    <tr>\n",
       "      <th>70097</th>\n",
       "      <td>1</td>\n",
       "      <td>2.425226e+13</td>\n",
       "      <td>1</td>\n",
       "      <td>2016-05-05</td>\n",
       "      <td>2016-05-04</td>\n",
       "      <td>22</td>\n",
       "      <td>CONSOLAÇÃO</td>\n",
       "      <td>0</td>\n",
       "      <td>0</td>\n",
       "      <td>0</td>\n",
       "      <td>0</td>\n",
       "      <td>0</td>\n",
       "      <td>0</td>\n",
       "      <td>-1</td>\n",
       "    </tr>\n",
       "  </tbody>\n",
       "</table>\n",
       "</div>"
      ],
      "text/plain": [
       "       No-show     PatientId  Gender ScheduledDay AppointmentDay  Age  \\\n",
       "53716        1  7.839273e+12       0   2016-05-10     2016-05-09   38   \n",
       "60856        1  9.982316e+14       1   2016-05-11     2016-05-05   81   \n",
       "70097        1  2.425226e+13       1   2016-05-05     2016-05-04   22   \n",
       "\n",
       "       Neighbourhood  Scholarship  Hipertension  Diabetes  Alcoholism  \\\n",
       "53716    RESISTÊNCIA            0             0         0           0   \n",
       "60856  SANTO ANTÔNIO            0             0         0           0   \n",
       "70097     CONSOLAÇÃO            0             0         0           0   \n",
       "\n",
       "       Handcap  SMS_received  DaysToAppointment  \n",
       "53716        1             0                 -1  \n",
       "60856        0             0                 -6  \n",
       "70097        0             0                 -1  "
      ]
     },
     "execution_count": 50,
     "metadata": {},
     "output_type": "execute_result"
    }
   ],
   "source": [
    "app_edit_daydiff[app_edit_daydiff['DaysToAppointment'] < 0]"
   ]
  },
  {
   "cell_type": "code",
   "execution_count": 51,
   "metadata": {},
   "outputs": [
    {
     "data": {
      "image/png": "[encoded data removed]",
      "text/plain": [
       "<Figure size 864x432 with 1 Axes>"
      ]
     },
     "metadata": {
      "needs_background": "light"
     },
     "output_type": "display_data"
    }
   ],
   "source": [
    "fig = plt.figure(figsize=(12,6))\n",
    "axis = sns.distplot(app_edit_daydiff.loc[(app_edit['No-show'] == 1),'DaysToAppointment'] , color='g', label='No-show=Yes')\n",
    "axis = sns.distplot(app_edit_daydiff.loc[(app_edit['No-show'] == 0),'DaysToAppointment'] , color='b', label='No-show=No')\n",
    "plt.title('Giorni di attesa - No-show vs. show', fontsize = 20)\n",
    "plt.legend()\n",
    "plt.xlabel(\"Giorni di attesa prima della visita\", fontsize = 12)\n",
    "plt.ylabel('Frequenza', fontsize = 12);"
   ]
  },
  {
   "cell_type": "markdown",
   "metadata": {},
   "source": [
    "### Giorno della settimane dell'appuntamento e dello schedule\n",
    "\n",
    "."
   ]
  },
  {
   "cell_type": "code",
   "execution_count": 157,
   "metadata": {},
   "outputs": [
    {
     "data": {
      "text/html": [
       "<div>\n",
       "<style scoped>\n",
       "    .dataframe tbody tr th:only-of-type {\n",
       "        vertical-align: middle;\n",
       "    }\n",
       "\n",
       "    .dataframe tbody tr th {\n",
       "        vertical-align: top;\n",
       "    }\n",
       "\n",
       "    .dataframe thead th {\n",
       "        text-align: right;\n",
       "    }\n",
       "</style>\n",
       "<table border=\"1\" class=\"dataframe\">\n",
       "  <thead>\n",
       "    <tr style=\"text-align: right;\">\n",
       "      <th></th>\n",
       "      <th>No-show</th>\n",
       "      <th>PatientId</th>\n",
       "      <th>Gender</th>\n",
       "      <th>ScheduledDay</th>\n",
       "      <th>AppointmentDay</th>\n",
       "      <th>Age</th>\n",
       "      <th>Neighbourhood</th>\n",
       "      <th>Scholarship</th>\n",
       "      <th>Hipertension</th>\n",
       "      <th>Diabetes</th>\n",
       "      <th>Alcoholism</th>\n",
       "      <th>Handcap</th>\n",
       "      <th>SMS_received</th>\n",
       "      <th>DaysToAppointment</th>\n",
       "    </tr>\n",
       "  </thead>\n",
       "  <tbody>\n",
       "    <tr>\n",
       "      <th>0</th>\n",
       "      <td>0</td>\n",
       "      <td>1.328492e+12</td>\n",
       "      <td>1</td>\n",
       "      <td>2</td>\n",
       "      <td>3</td>\n",
       "      <td>25</td>\n",
       "      <td>MATA DA PRAIA</td>\n",
       "      <td>0</td>\n",
       "      <td>0</td>\n",
       "      <td>0</td>\n",
       "      <td>0</td>\n",
       "      <td>0</td>\n",
       "      <td>0</td>\n",
       "      <td>8</td>\n",
       "    </tr>\n",
       "    <tr>\n",
       "      <th>1</th>\n",
       "      <td>0</td>\n",
       "      <td>3.881869e+14</td>\n",
       "      <td>0</td>\n",
       "      <td>4</td>\n",
       "      <td>1</td>\n",
       "      <td>62</td>\n",
       "      <td>FRADINHOS</td>\n",
       "      <td>0</td>\n",
       "      <td>0</td>\n",
       "      <td>0</td>\n",
       "      <td>0</td>\n",
       "      <td>0</td>\n",
       "      <td>0</td>\n",
       "      <td>4</td>\n",
       "    </tr>\n",
       "    <tr>\n",
       "      <th>2</th>\n",
       "      <td>1</td>\n",
       "      <td>9.118992e+12</td>\n",
       "      <td>1</td>\n",
       "      <td>1</td>\n",
       "      <td>0</td>\n",
       "      <td>65</td>\n",
       "      <td>JARDIM CAMBURI</td>\n",
       "      <td>0</td>\n",
       "      <td>0</td>\n",
       "      <td>0</td>\n",
       "      <td>0</td>\n",
       "      <td>0</td>\n",
       "      <td>0</td>\n",
       "      <td>48</td>\n",
       "    </tr>\n",
       "    <tr>\n",
       "      <th>3</th>\n",
       "      <td>0</td>\n",
       "      <td>1.843618e+14</td>\n",
       "      <td>0</td>\n",
       "      <td>4</td>\n",
       "      <td>4</td>\n",
       "      <td>41</td>\n",
       "      <td>MARIA ORTIZ</td>\n",
       "      <td>0</td>\n",
       "      <td>0</td>\n",
       "      <td>0</td>\n",
       "      <td>0</td>\n",
       "      <td>0</td>\n",
       "      <td>0</td>\n",
       "      <td>0</td>\n",
       "    </tr>\n",
       "    <tr>\n",
       "      <th>4</th>\n",
       "      <td>0</td>\n",
       "      <td>5.783198e+13</td>\n",
       "      <td>0</td>\n",
       "      <td>4</td>\n",
       "      <td>0</td>\n",
       "      <td>61</td>\n",
       "      <td>MARUÍPE</td>\n",
       "      <td>0</td>\n",
       "      <td>1</td>\n",
       "      <td>0</td>\n",
       "      <td>1</td>\n",
       "      <td>0</td>\n",
       "      <td>0</td>\n",
       "      <td>3</td>\n",
       "    </tr>\n",
       "  </tbody>\n",
       "</table>\n",
       "</div>"
      ],
      "text/plain": [
       "   No-show     PatientId  Gender  ScheduledDay  AppointmentDay  Age  \\\n",
       "0        0  1.328492e+12       1             2               3   25   \n",
       "1        0  3.881869e+14       0             4               1   62   \n",
       "2        1  9.118992e+12       1             1               0   65   \n",
       "3        0  1.843618e+14       0             4               4   41   \n",
       "4        0  5.783198e+13       0             4               0   61   \n",
       "\n",
       "    Neighbourhood  Scholarship  Hipertension  Diabetes  Alcoholism  Handcap  \\\n",
       "0   MATA DA PRAIA            0             0         0           0        0   \n",
       "1       FRADINHOS            0             0         0           0        0   \n",
       "2  JARDIM CAMBURI            0             0         0           0        0   \n",
       "3     MARIA ORTIZ            0             0         0           0        0   \n",
       "4         MARUÍPE            0             1         0           1        0   \n",
       "\n",
       "   SMS_received  DaysToAppointment  \n",
       "0             0                  8  \n",
       "1             0                  4  \n",
       "2             0                 48  \n",
       "3             0                  0  \n",
       "4             0                  3  "
      ]
     },
     "execution_count": 157,
     "metadata": {},
     "output_type": "execute_result"
    }
   ],
   "source": [
    "app_edit_daydiff.head()"
   ]
  },
  {
   "cell_type": "code",
   "execution_count": 146,
   "metadata": {},
   "outputs": [
    {
     "data": {
      "text/html": [
       "<div>\n",
       "<style scoped>\n",
       "    .dataframe tbody tr th:only-of-type {\n",
       "        vertical-align: middle;\n",
       "    }\n",
       "\n",
       "    .dataframe tbody tr th {\n",
       "        vertical-align: top;\n",
       "    }\n",
       "\n",
       "    .dataframe thead th {\n",
       "        text-align: right;\n",
       "    }\n",
       "</style>\n",
       "<table border=\"1\" class=\"dataframe\">\n",
       "  <thead>\n",
       "    <tr style=\"text-align: right;\">\n",
       "      <th></th>\n",
       "      <th>No-show</th>\n",
       "      <th>PatientId</th>\n",
       "      <th>Gender</th>\n",
       "      <th>ScheduledDay</th>\n",
       "      <th>AppointmentDay</th>\n",
       "      <th>Age</th>\n",
       "      <th>Neighbourhood</th>\n",
       "      <th>Scholarship</th>\n",
       "      <th>Hipertension</th>\n",
       "      <th>Diabetes</th>\n",
       "      <th>Alcoholism</th>\n",
       "      <th>Handcap</th>\n",
       "      <th>SMS_received</th>\n",
       "      <th>DaysToAppointment</th>\n",
       "    </tr>\n",
       "  </thead>\n",
       "  <tbody>\n",
       "    <tr>\n",
       "      <th>0</th>\n",
       "      <td>0</td>\n",
       "      <td>1.328492e+12</td>\n",
       "      <td>1</td>\n",
       "      <td>2016-05-11</td>\n",
       "      <td>3</td>\n",
       "      <td>25</td>\n",
       "      <td>MATA DA PRAIA</td>\n",
       "      <td>0</td>\n",
       "      <td>0</td>\n",
       "      <td>0</td>\n",
       "      <td>0</td>\n",
       "      <td>0</td>\n",
       "      <td>0</td>\n",
       "      <td>8</td>\n",
       "    </tr>\n",
       "    <tr>\n",
       "      <th>1</th>\n",
       "      <td>0</td>\n",
       "      <td>3.881869e+14</td>\n",
       "      <td>0</td>\n",
       "      <td>2016-05-13</td>\n",
       "      <td>1</td>\n",
       "      <td>62</td>\n",
       "      <td>FRADINHOS</td>\n",
       "      <td>0</td>\n",
       "      <td>0</td>\n",
       "      <td>0</td>\n",
       "      <td>0</td>\n",
       "      <td>0</td>\n",
       "      <td>0</td>\n",
       "      <td>4</td>\n",
       "    </tr>\n",
       "    <tr>\n",
       "      <th>2</th>\n",
       "      <td>1</td>\n",
       "      <td>9.118992e+12</td>\n",
       "      <td>1</td>\n",
       "      <td>2016-03-22</td>\n",
       "      <td>0</td>\n",
       "      <td>65</td>\n",
       "      <td>JARDIM CAMBURI</td>\n",
       "      <td>0</td>\n",
       "      <td>0</td>\n",
       "      <td>0</td>\n",
       "      <td>0</td>\n",
       "      <td>0</td>\n",
       "      <td>0</td>\n",
       "      <td>48</td>\n",
       "    </tr>\n",
       "    <tr>\n",
       "      <th>3</th>\n",
       "      <td>0</td>\n",
       "      <td>1.843618e+14</td>\n",
       "      <td>0</td>\n",
       "      <td>2016-04-29</td>\n",
       "      <td>4</td>\n",
       "      <td>41</td>\n",
       "      <td>MARIA ORTIZ</td>\n",
       "      <td>0</td>\n",
       "      <td>0</td>\n",
       "      <td>0</td>\n",
       "      <td>0</td>\n",
       "      <td>0</td>\n",
       "      <td>0</td>\n",
       "      <td>0</td>\n",
       "    </tr>\n",
       "    <tr>\n",
       "      <th>4</th>\n",
       "      <td>0</td>\n",
       "      <td>5.783198e+13</td>\n",
       "      <td>0</td>\n",
       "      <td>2016-05-06</td>\n",
       "      <td>0</td>\n",
       "      <td>61</td>\n",
       "      <td>MARUÍPE</td>\n",
       "      <td>0</td>\n",
       "      <td>1</td>\n",
       "      <td>0</td>\n",
       "      <td>1</td>\n",
       "      <td>0</td>\n",
       "      <td>0</td>\n",
       "      <td>3</td>\n",
       "    </tr>\n",
       "  </tbody>\n",
       "</table>\n",
       "</div>"
      ],
      "text/plain": [
       "   No-show     PatientId  Gender ScheduledDay  AppointmentDay  Age  \\\n",
       "0        0  1.328492e+12       1   2016-05-11               3   25   \n",
       "1        0  3.881869e+14       0   2016-05-13               1   62   \n",
       "2        1  9.118992e+12       1   2016-03-22               0   65   \n",
       "3        0  1.843618e+14       0   2016-04-29               4   41   \n",
       "4        0  5.783198e+13       0   2016-05-06               0   61   \n",
       "\n",
       "    Neighbourhood  Scholarship  Hipertension  Diabetes  Alcoholism  Handcap  \\\n",
       "0   MATA DA PRAIA            0             0         0           0        0   \n",
       "1       FRADINHOS            0             0         0           0        0   \n",
       "2  JARDIM CAMBURI            0             0         0           0        0   \n",
       "3     MARIA ORTIZ            0             0         0           0        0   \n",
       "4         MARUÍPE            0             1         0           1        0   \n",
       "\n",
       "   SMS_received  DaysToAppointment  \n",
       "0             0                  8  \n",
       "1             0                  4  \n",
       "2             0                 48  \n",
       "3             0                  0  \n",
       "4             0                  3  "
      ]
     },
     "execution_count": 146,
     "metadata": {},
     "output_type": "execute_result"
    }
   ],
   "source": [
    "app_edit_daydiff['AppointmentDay'] = app_edit_daydiff['AppointmentDay'].dt.dayofweek\n",
    "app_edit_daydiff.head()"
   ]
  },
  {
   "cell_type": "code",
   "execution_count": 158,
   "metadata": {},
   "outputs": [
    {
     "data": {
      "text/html": [
       "<div>\n",
       "<style scoped>\n",
       "    .dataframe tbody tr th:only-of-type {\n",
       "        vertical-align: middle;\n",
       "    }\n",
       "\n",
       "    .dataframe tbody tr th {\n",
       "        vertical-align: top;\n",
       "    }\n",
       "\n",
       "    .dataframe thead th {\n",
       "        text-align: right;\n",
       "    }\n",
       "</style>\n",
       "<table border=\"1\" class=\"dataframe\">\n",
       "  <thead>\n",
       "    <tr style=\"text-align: right;\">\n",
       "      <th></th>\n",
       "      <th>No-show</th>\n",
       "    </tr>\n",
       "    <tr>\n",
       "      <th>AppointmentDay</th>\n",
       "      <th></th>\n",
       "    </tr>\n",
       "  </thead>\n",
       "  <tbody>\n",
       "    <tr>\n",
       "      <th>2016-05-04T00:00:00Z</th>\n",
       "      <td>0.236277</td>\n",
       "    </tr>\n",
       "    <tr>\n",
       "      <th>2016-05-20T00:00:00Z</th>\n",
       "      <td>0.231884</td>\n",
       "    </tr>\n",
       "    <tr>\n",
       "      <th>2016-05-14T00:00:00Z</th>\n",
       "      <td>0.230769</td>\n",
       "    </tr>\n",
       "    <tr>\n",
       "      <th>2016-05-10T00:00:00Z</th>\n",
       "      <td>0.227763</td>\n",
       "    </tr>\n",
       "    <tr>\n",
       "      <th>2016-05-16T00:00:00Z</th>\n",
       "      <td>0.227560</td>\n",
       "    </tr>\n",
       "    <tr>\n",
       "      <th>2016-05-13T00:00:00Z</th>\n",
       "      <td>0.226782</td>\n",
       "    </tr>\n",
       "    <tr>\n",
       "      <th>2016-05-09T00:00:00Z</th>\n",
       "      <td>0.224263</td>\n",
       "    </tr>\n",
       "    <tr>\n",
       "      <th>2016-05-17T00:00:00Z</th>\n",
       "      <td>0.216600</td>\n",
       "    </tr>\n",
       "    <tr>\n",
       "      <th>2016-05-06T00:00:00Z</th>\n",
       "      <td>0.211208</td>\n",
       "    </tr>\n",
       "    <tr>\n",
       "      <th>2016-05-19T00:00:00Z</th>\n",
       "      <td>0.210158</td>\n",
       "    </tr>\n",
       "    <tr>\n",
       "      <th>2016-05-18T00:00:00Z</th>\n",
       "      <td>0.205891</td>\n",
       "    </tr>\n",
       "    <tr>\n",
       "      <th>2016-05-30T00:00:00Z</th>\n",
       "      <td>0.203051</td>\n",
       "    </tr>\n",
       "    <tr>\n",
       "      <th>2016-04-29T00:00:00Z</th>\n",
       "      <td>0.200078</td>\n",
       "    </tr>\n",
       "    <tr>\n",
       "      <th>2016-05-02T00:00:00Z</th>\n",
       "      <td>0.199427</td>\n",
       "    </tr>\n",
       "    <tr>\n",
       "      <th>2016-05-24T00:00:00Z</th>\n",
       "      <td>0.198190</td>\n",
       "    </tr>\n",
       "    <tr>\n",
       "      <th>2016-05-11T00:00:00Z</th>\n",
       "      <td>0.197372</td>\n",
       "    </tr>\n",
       "    <tr>\n",
       "      <th>2016-05-03T00:00:00Z</th>\n",
       "      <td>0.195487</td>\n",
       "    </tr>\n",
       "    <tr>\n",
       "      <th>2016-06-03T00:00:00Z</th>\n",
       "      <td>0.194016</td>\n",
       "    </tr>\n",
       "    <tr>\n",
       "      <th>2016-05-05T00:00:00Z</th>\n",
       "      <td>0.191829</td>\n",
       "    </tr>\n",
       "    <tr>\n",
       "      <th>2016-05-25T00:00:00Z</th>\n",
       "      <td>0.189841</td>\n",
       "    </tr>\n",
       "    <tr>\n",
       "      <th>2016-06-02T00:00:00Z</th>\n",
       "      <td>0.188259</td>\n",
       "    </tr>\n",
       "    <tr>\n",
       "      <th>2016-06-06T00:00:00Z</th>\n",
       "      <td>0.187433</td>\n",
       "    </tr>\n",
       "    <tr>\n",
       "      <th>2016-05-12T00:00:00Z</th>\n",
       "      <td>0.186769</td>\n",
       "    </tr>\n",
       "    <tr>\n",
       "      <th>2016-06-07T00:00:00Z</th>\n",
       "      <td>0.186047</td>\n",
       "    </tr>\n",
       "    <tr>\n",
       "      <th>2016-05-31T00:00:00Z</th>\n",
       "      <td>0.184842</td>\n",
       "    </tr>\n",
       "    <tr>\n",
       "      <th>2016-06-08T00:00:00Z</th>\n",
       "      <td>0.171936</td>\n",
       "    </tr>\n",
       "    <tr>\n",
       "      <th>2016-06-01T00:00:00Z</th>\n",
       "      <td>0.171675</td>\n",
       "    </tr>\n",
       "  </tbody>\n",
       "</table>\n",
       "</div>"
      ],
      "text/plain": [
       "                       No-show\n",
       "AppointmentDay                \n",
       "2016-05-04T00:00:00Z  0.236277\n",
       "2016-05-20T00:00:00Z  0.231884\n",
       "2016-05-14T00:00:00Z  0.230769\n",
       "2016-05-10T00:00:00Z  0.227763\n",
       "2016-05-16T00:00:00Z  0.227560\n",
       "2016-05-13T00:00:00Z  0.226782\n",
       "2016-05-09T00:00:00Z  0.224263\n",
       "2016-05-17T00:00:00Z  0.216600\n",
       "2016-05-06T00:00:00Z  0.211208\n",
       "2016-05-19T00:00:00Z  0.210158\n",
       "2016-05-18T00:00:00Z  0.205891\n",
       "2016-05-30T00:00:00Z  0.203051\n",
       "2016-04-29T00:00:00Z  0.200078\n",
       "2016-05-02T00:00:00Z  0.199427\n",
       "2016-05-24T00:00:00Z  0.198190\n",
       "2016-05-11T00:00:00Z  0.197372\n",
       "2016-05-03T00:00:00Z  0.195487\n",
       "2016-06-03T00:00:00Z  0.194016\n",
       "2016-05-05T00:00:00Z  0.191829\n",
       "2016-05-25T00:00:00Z  0.189841\n",
       "2016-06-02T00:00:00Z  0.188259\n",
       "2016-06-06T00:00:00Z  0.187433\n",
       "2016-05-12T00:00:00Z  0.186769\n",
       "2016-06-07T00:00:00Z  0.186047\n",
       "2016-05-31T00:00:00Z  0.184842\n",
       "2016-06-08T00:00:00Z  0.171936\n",
       "2016-06-01T00:00:00Z  0.171675"
      ]
     },
     "execution_count": 158,
     "metadata": {},
     "output_type": "execute_result"
    },
    {
     "data": {
      "image/png": "[encoded data removed]",
      "text/plain": [
       "<Figure size 864x288 with 2 Axes>"
      ]
     },
     "metadata": {
      "needs_background": "light"
     },
     "output_type": "display_data"
    }
   ],
   "source": [
    "fig, ax = plt.subplots(1, 2, figsize=(12, 4))\n",
    "\n",
    "sns.countplot(x='AppointmentDay', hue='No-show', data=app_edit_daydiff, ax=ax[0])\n",
    "app_edit[['AppointmentDay', 'No-show']].groupby(['AppointmentDay']).count().sort_values(by='No-show', ascending=False)\n",
    "\n",
    "sns.barplot(x='AppointmentDay', y='No-show', data=app_edit_daydiff, ax=ax[1])\n",
    "app_edit[['AppointmentDay', 'No-show']].groupby(['AppointmentDay']).mean().sort_values(by='No-show', ascending=False)"
   ]
  },
  {
   "cell_type": "code",
   "execution_count": 161,
   "metadata": {},
   "outputs": [
    {
     "ename": "AttributeError",
     "evalue": "Can only use .dt accessor with datetimelike values",
     "output_type": "error",
     "traceback": [
      "\u001b[1;31m---------------------------------------------------------------------------\u001b[0m",
      "\u001b[1;31mAttributeError\u001b[0m                            Traceback (most recent call last)",
      "\u001b[1;32m<ipython-input-161-5efb58f70442>\u001b[0m in \u001b[0;36m<module>\u001b[1;34m\u001b[0m\n\u001b[1;32m----> 1\u001b[1;33m \u001b[0mapp_edit_daydiff\u001b[0m\u001b[1;33m[\u001b[0m\u001b[1;34m'ScheduledDay'\u001b[0m\u001b[1;33m]\u001b[0m \u001b[1;33m=\u001b[0m \u001b[0mapp_edit_daydiff\u001b[0m\u001b[1;33m[\u001b[0m\u001b[1;34m'ScheduledDay'\u001b[0m\u001b[1;33m]\u001b[0m\u001b[1;33m.\u001b[0m\u001b[0mdt\u001b[0m\u001b[1;33m.\u001b[0m\u001b[0mdayofweek\u001b[0m\u001b[1;33m\u001b[0m\u001b[0m\n\u001b[0m\u001b[0;32m      2\u001b[0m \u001b[0mapp_edit_daydiff\u001b[0m\u001b[1;33m.\u001b[0m\u001b[0mhead\u001b[0m\u001b[1;33m(\u001b[0m\u001b[1;33m)\u001b[0m\u001b[1;33m\u001b[0m\u001b[0m\n",
      "\u001b[1;32mc:\\python3\\lib\\site-packages\\pandas\\core\\generic.py\u001b[0m in \u001b[0;36m__getattr__\u001b[1;34m(self, name)\u001b[0m\n\u001b[0;32m   5268\u001b[0m             \u001b[1;32mor\u001b[0m \u001b[0mname\u001b[0m \u001b[1;32min\u001b[0m \u001b[0mself\u001b[0m\u001b[1;33m.\u001b[0m\u001b[0m_accessors\u001b[0m\u001b[1;33m\u001b[0m\u001b[0m\n\u001b[0;32m   5269\u001b[0m         ):\n\u001b[1;32m-> 5270\u001b[1;33m             \u001b[1;32mreturn\u001b[0m \u001b[0mobject\u001b[0m\u001b[1;33m.\u001b[0m\u001b[0m__getattribute__\u001b[0m\u001b[1;33m(\u001b[0m\u001b[0mself\u001b[0m\u001b[1;33m,\u001b[0m \u001b[0mname\u001b[0m\u001b[1;33m)\u001b[0m\u001b[1;33m\u001b[0m\u001b[0m\n\u001b[0m\u001b[0;32m   5271\u001b[0m         \u001b[1;32melse\u001b[0m\u001b[1;33m:\u001b[0m\u001b[1;33m\u001b[0m\u001b[0m\n\u001b[0;32m   5272\u001b[0m             \u001b[1;32mif\u001b[0m \u001b[0mself\u001b[0m\u001b[1;33m.\u001b[0m\u001b[0m_info_axis\u001b[0m\u001b[1;33m.\u001b[0m\u001b[0m_can_hold_identifiers_and_holds_name\u001b[0m\u001b[1;33m(\u001b[0m\u001b[0mname\u001b[0m\u001b[1;33m)\u001b[0m\u001b[1;33m:\u001b[0m\u001b[1;33m\u001b[0m\u001b[0m\n",
      "\u001b[1;32mc:\\python3\\lib\\site-packages\\pandas\\core\\accessor.py\u001b[0m in \u001b[0;36m__get__\u001b[1;34m(self, obj, cls)\u001b[0m\n\u001b[0;32m    185\u001b[0m             \u001b[1;31m# we're accessing the attribute of the class, i.e., Dataset.geo\u001b[0m\u001b[1;33m\u001b[0m\u001b[1;33m\u001b[0m\u001b[0m\n\u001b[0;32m    186\u001b[0m             \u001b[1;32mreturn\u001b[0m \u001b[0mself\u001b[0m\u001b[1;33m.\u001b[0m\u001b[0m_accessor\u001b[0m\u001b[1;33m\u001b[0m\u001b[0m\n\u001b[1;32m--> 187\u001b[1;33m         \u001b[0maccessor_obj\u001b[0m \u001b[1;33m=\u001b[0m \u001b[0mself\u001b[0m\u001b[1;33m.\u001b[0m\u001b[0m_accessor\u001b[0m\u001b[1;33m(\u001b[0m\u001b[0mobj\u001b[0m\u001b[1;33m)\u001b[0m\u001b[1;33m\u001b[0m\u001b[0m\n\u001b[0m\u001b[0;32m    188\u001b[0m         \u001b[1;31m# Replace the property with the accessor object. Inspired by:\u001b[0m\u001b[1;33m\u001b[0m\u001b[1;33m\u001b[0m\u001b[0m\n\u001b[0;32m    189\u001b[0m         \u001b[1;31m# http://www.pydanny.com/cached-property.html\u001b[0m\u001b[1;33m\u001b[0m\u001b[1;33m\u001b[0m\u001b[0m\n",
      "\u001b[1;32mc:\\python3\\lib\\site-packages\\pandas\\core\\indexes\\accessors.py\u001b[0m in \u001b[0;36m__new__\u001b[1;34m(cls, data)\u001b[0m\n\u001b[0;32m    336\u001b[0m             \u001b[1;32mreturn\u001b[0m \u001b[0mDatetimeProperties\u001b[0m\u001b[1;33m(\u001b[0m\u001b[0mdata\u001b[0m\u001b[1;33m,\u001b[0m \u001b[0morig\u001b[0m\u001b[1;33m)\u001b[0m\u001b[1;33m\u001b[0m\u001b[0m\n\u001b[0;32m    337\u001b[0m \u001b[1;33m\u001b[0m\u001b[0m\n\u001b[1;32m--> 338\u001b[1;33m         \u001b[1;32mraise\u001b[0m \u001b[0mAttributeError\u001b[0m\u001b[1;33m(\u001b[0m\u001b[1;34m\"Can only use .dt accessor with datetimelike values\"\u001b[0m\u001b[1;33m)\u001b[0m\u001b[1;33m\u001b[0m\u001b[0m\n\u001b[0m",
      "\u001b[1;31mAttributeError\u001b[0m: Can only use .dt accessor with datetimelike values"
     ]
    }
   ],
   "source": [
    "app_edit_daydiff['ScheduledDay'] = app_edit_daydiff['ScheduledDay'].dt.dayofweek\n",
    "app_edit_daydiff.head()"
   ]
  },
  {
   "cell_type": "code",
   "execution_count": 160,
   "metadata": {},
   "outputs": [
    {
     "data": {
      "text/html": [
       "<div>\n",
       "<style scoped>\n",
       "    .dataframe tbody tr th:only-of-type {\n",
       "        vertical-align: middle;\n",
       "    }\n",
       "\n",
       "    .dataframe tbody tr th {\n",
       "        vertical-align: top;\n",
       "    }\n",
       "\n",
       "    .dataframe thead th {\n",
       "        text-align: right;\n",
       "    }\n",
       "</style>\n",
       "<table border=\"1\" class=\"dataframe\">\n",
       "  <thead>\n",
       "    <tr style=\"text-align: right;\">\n",
       "      <th></th>\n",
       "      <th>No-show</th>\n",
       "    </tr>\n",
       "    <tr>\n",
       "      <th>ScheduledDay</th>\n",
       "      <th></th>\n",
       "    </tr>\n",
       "  </thead>\n",
       "  <tbody>\n",
       "    <tr>\n",
       "      <th>2016-05-12T15:34:47Z</th>\n",
       "      <td>1.0</td>\n",
       "    </tr>\n",
       "    <tr>\n",
       "      <th>2016-04-27T10:15:42Z</th>\n",
       "      <td>1.0</td>\n",
       "    </tr>\n",
       "    <tr>\n",
       "      <th>2016-04-27T10:01:20Z</th>\n",
       "      <td>1.0</td>\n",
       "    </tr>\n",
       "    <tr>\n",
       "      <th>2016-05-31T14:04:59Z</th>\n",
       "      <td>1.0</td>\n",
       "    </tr>\n",
       "    <tr>\n",
       "      <th>2016-04-27T10:00:07Z</th>\n",
       "      <td>1.0</td>\n",
       "    </tr>\n",
       "    <tr>\n",
       "      <th>...</th>\n",
       "      <td>...</td>\n",
       "    </tr>\n",
       "    <tr>\n",
       "      <th>2016-05-05T11:38:37Z</th>\n",
       "      <td>0.0</td>\n",
       "    </tr>\n",
       "    <tr>\n",
       "      <th>2016-05-05T11:38:41Z</th>\n",
       "      <td>0.0</td>\n",
       "    </tr>\n",
       "    <tr>\n",
       "      <th>2016-05-05T11:38:58Z</th>\n",
       "      <td>0.0</td>\n",
       "    </tr>\n",
       "    <tr>\n",
       "      <th>2016-05-05T11:39:01Z</th>\n",
       "      <td>0.0</td>\n",
       "    </tr>\n",
       "    <tr>\n",
       "      <th>2016-06-08T19:58:52Z</th>\n",
       "      <td>0.0</td>\n",
       "    </tr>\n",
       "  </tbody>\n",
       "</table>\n",
       "<p>83840 rows × 1 columns</p>\n",
       "</div>"
      ],
      "text/plain": [
       "                      No-show\n",
       "ScheduledDay                 \n",
       "2016-05-12T15:34:47Z      1.0\n",
       "2016-04-27T10:15:42Z      1.0\n",
       "2016-04-27T10:01:20Z      1.0\n",
       "2016-05-31T14:04:59Z      1.0\n",
       "2016-04-27T10:00:07Z      1.0\n",
       "...                       ...\n",
       "2016-05-05T11:38:37Z      0.0\n",
       "2016-05-05T11:38:41Z      0.0\n",
       "2016-05-05T11:38:58Z      0.0\n",
       "2016-05-05T11:39:01Z      0.0\n",
       "2016-06-08T19:58:52Z      0.0\n",
       "\n",
       "[83840 rows x 1 columns]"
      ]
     },
     "execution_count": 160,
     "metadata": {},
     "output_type": "execute_result"
    },
    {
     "data": {
      "image/png": "[encoded data removed]",
      "text/plain": [
       "<Figure size 864x288 with 2 Axes>"
      ]
     },
     "metadata": {
      "needs_background": "light"
     },
     "output_type": "display_data"
    }
   ],
   "source": [
    "fig, ax = plt.subplots(1, 2, figsize=(12, 4))\n",
    "\n",
    "sns.countplot(x='ScheduledDay', hue='No-show', data=app_edit_daydiff, ax=ax[0])\n",
    "app_edit[['ScheduledDay', 'No-show']].groupby(['ScheduledDay']).count().sort_values(by='No-show', ascending=False)\n",
    "\n",
    "sns.barplot(x='ScheduledDay', y='No-show', data=app_edit_daydiff, ax=ax[1])\n",
    "app_edit[['ScheduledDay', 'No-show']].groupby(['ScheduledDay']).mean().sort_values(by='No-show', ascending=False)"
   ]
  },
  {
   "cell_type": "markdown",
   "metadata": {},
   "source": [
    "### Scholarship\n",
    "\n",
    "Ci sono pochi dati per chi ha una scolarship, anche se conviene mantenere la feature poiché c'è una lieve differenza di probabilità. Si potrebbe anche provare a fare un drop."
   ]
  },
  {
   "cell_type": "code",
   "execution_count": 52,
   "metadata": {},
   "outputs": [
    {
     "data": {
      "text/html": [
       "<div>\n",
       "<style scoped>\n",
       "    .dataframe tbody tr th:only-of-type {\n",
       "        vertical-align: middle;\n",
       "    }\n",
       "\n",
       "    .dataframe tbody tr th {\n",
       "        vertical-align: top;\n",
       "    }\n",
       "\n",
       "    .dataframe thead th {\n",
       "        text-align: right;\n",
       "    }\n",
       "</style>\n",
       "<table border=\"1\" class=\"dataframe\">\n",
       "  <thead>\n",
       "    <tr style=\"text-align: right;\">\n",
       "      <th></th>\n",
       "      <th>No-show</th>\n",
       "    </tr>\n",
       "    <tr>\n",
       "      <th>Scholarship</th>\n",
       "      <th></th>\n",
       "    </tr>\n",
       "  </thead>\n",
       "  <tbody>\n",
       "    <tr>\n",
       "      <th>1</th>\n",
       "      <td>0.238318</td>\n",
       "    </tr>\n",
       "    <tr>\n",
       "      <th>0</th>\n",
       "      <td>0.198262</td>\n",
       "    </tr>\n",
       "  </tbody>\n",
       "</table>\n",
       "</div>"
      ],
      "text/plain": [
       "              No-show\n",
       "Scholarship          \n",
       "1            0.238318\n",
       "0            0.198262"
      ]
     },
     "execution_count": 52,
     "metadata": {},
     "output_type": "execute_result"
    },
    {
     "data": {
      "image/png": "[encoded data removed]",
      "text/plain": [
       "<Figure size 864x288 with 2 Axes>"
      ]
     },
     "metadata": {
      "needs_background": "light"
     },
     "output_type": "display_data"
    }
   ],
   "source": [
    "fig, ax = plt.subplots(1, 2, figsize=(12, 4))\n",
    "\n",
    "sns.countplot(x='Scholarship', hue='No-show', data=app_edit, ax=ax[0])\n",
    "app_edit[['Scholarship', 'No-show']].groupby(['Scholarship']).count().sort_values(by='No-show', ascending=False)\n",
    "\n",
    "sns.barplot(x='Scholarship', y='No-show', data=app_edit, ax=ax[1])\n",
    "app_edit[['Scholarship', 'No-show']].groupby(['Scholarship']).mean().sort_values(by='No-show', ascending=False)"
   ]
  },
  {
   "cell_type": "markdown",
   "metadata": {},
   "source": [
    "### Hipertension\n",
    "\n",
    "."
   ]
  },
  {
   "cell_type": "code",
   "execution_count": 53,
   "metadata": {},
   "outputs": [
    {
     "data": {
      "text/html": [
       "<div>\n",
       "<style scoped>\n",
       "    .dataframe tbody tr th:only-of-type {\n",
       "        vertical-align: middle;\n",
       "    }\n",
       "\n",
       "    .dataframe tbody tr th {\n",
       "        vertical-align: top;\n",
       "    }\n",
       "\n",
       "    .dataframe thead th {\n",
       "        text-align: right;\n",
       "    }\n",
       "</style>\n",
       "<table border=\"1\" class=\"dataframe\">\n",
       "  <thead>\n",
       "    <tr style=\"text-align: right;\">\n",
       "      <th></th>\n",
       "      <th>No-show</th>\n",
       "    </tr>\n",
       "    <tr>\n",
       "      <th>Hipertension</th>\n",
       "      <th></th>\n",
       "    </tr>\n",
       "  </thead>\n",
       "  <tbody>\n",
       "    <tr>\n",
       "      <th>0</th>\n",
       "      <td>0.209144</td>\n",
       "    </tr>\n",
       "    <tr>\n",
       "      <th>1</th>\n",
       "      <td>0.174271</td>\n",
       "    </tr>\n",
       "  </tbody>\n",
       "</table>\n",
       "</div>"
      ],
      "text/plain": [
       "               No-show\n",
       "Hipertension          \n",
       "0             0.209144\n",
       "1             0.174271"
      ]
     },
     "execution_count": 53,
     "metadata": {},
     "output_type": "execute_result"
    },
    {
     "data": {
      "image/png": "[encoded data removed]",
      "text/plain": [
       "<Figure size 864x288 with 2 Axes>"
      ]
     },
     "metadata": {
      "needs_background": "light"
     },
     "output_type": "display_data"
    }
   ],
   "source": [
    "fig, ax = plt.subplots(1, 2, figsize=(12, 4))\n",
    "\n",
    "sns.countplot(x='Hipertension', hue='No-show', data=app_edit, ax=ax[0])\n",
    "app_edit[['Hipertension', 'No-show']].groupby(['Hipertension']).count().sort_values(by='No-show', ascending=False)\n",
    "\n",
    "sns.barplot(x='Hipertension', y='No-show', data=app_edit, ax=ax[1])\n",
    "app_edit[['Hipertension', 'No-show']].groupby(['Hipertension']).mean().sort_values(by='No-show', ascending=False)"
   ]
  },
  {
   "cell_type": "markdown",
   "metadata": {},
   "source": [
    "### Diabetes\n",
    "\n",
    "."
   ]
  },
  {
   "cell_type": "code",
   "execution_count": 54,
   "metadata": {},
   "outputs": [
    {
     "data": {
      "text/html": [
       "<div>\n",
       "<style scoped>\n",
       "    .dataframe tbody tr th:only-of-type {\n",
       "        vertical-align: middle;\n",
       "    }\n",
       "\n",
       "    .dataframe tbody tr th {\n",
       "        vertical-align: top;\n",
       "    }\n",
       "\n",
       "    .dataframe thead th {\n",
       "        text-align: right;\n",
       "    }\n",
       "</style>\n",
       "<table border=\"1\" class=\"dataframe\">\n",
       "  <thead>\n",
       "    <tr style=\"text-align: right;\">\n",
       "      <th></th>\n",
       "      <th>No-show</th>\n",
       "    </tr>\n",
       "    <tr>\n",
       "      <th>Diabetes</th>\n",
       "      <th></th>\n",
       "    </tr>\n",
       "  </thead>\n",
       "  <tbody>\n",
       "    <tr>\n",
       "      <th>0</th>\n",
       "      <td>0.204191</td>\n",
       "    </tr>\n",
       "    <tr>\n",
       "      <th>1</th>\n",
       "      <td>0.177170</td>\n",
       "    </tr>\n",
       "  </tbody>\n",
       "</table>\n",
       "</div>"
      ],
      "text/plain": [
       "           No-show\n",
       "Diabetes          \n",
       "0         0.204191\n",
       "1         0.177170"
      ]
     },
     "execution_count": 54,
     "metadata": {},
     "output_type": "execute_result"
    },
    {
     "data": {
      "image/png": "[encoded data removed]",
      "text/plain": [
       "<Figure size 864x288 with 2 Axes>"
      ]
     },
     "metadata": {
      "needs_background": "light"
     },
     "output_type": "display_data"
    }
   ],
   "source": [
    "fig, ax = plt.subplots(1, 2, figsize=(12, 4))\n",
    "\n",
    "sns.countplot(x='Diabetes', hue='No-show', data=app_edit, ax=ax[0])\n",
    "app_edit[['Diabetes', 'No-show']].groupby(['Diabetes']).count().sort_values(by='No-show', ascending=False)\n",
    "\n",
    "sns.barplot(x='Diabetes', y='No-show', data=app_edit, ax=ax[1])\n",
    "app_edit[['Diabetes', 'No-show']].groupby(['Diabetes']).mean().sort_values(by='No-show', ascending=False)"
   ]
  },
  {
   "cell_type": "markdown",
   "metadata": {},
   "source": [
    "### Alcoholism\n",
    "\n",
    "Ci sono pochi dati per chi dichiara di avere problemi di alcolismo (forse è difficile che venga dichiarato), e le probabilità sono molto simili tra loro. Ha senso fare un drop."
   ]
  },
  {
   "cell_type": "code",
   "execution_count": 55,
   "metadata": {},
   "outputs": [
    {
     "data": {
      "text/html": [
       "<div>\n",
       "<style scoped>\n",
       "    .dataframe tbody tr th:only-of-type {\n",
       "        vertical-align: middle;\n",
       "    }\n",
       "\n",
       "    .dataframe tbody tr th {\n",
       "        vertical-align: top;\n",
       "    }\n",
       "\n",
       "    .dataframe thead th {\n",
       "        text-align: right;\n",
       "    }\n",
       "</style>\n",
       "<table border=\"1\" class=\"dataframe\">\n",
       "  <thead>\n",
       "    <tr style=\"text-align: right;\">\n",
       "      <th></th>\n",
       "      <th>No-show</th>\n",
       "    </tr>\n",
       "    <tr>\n",
       "      <th>Alcoholism</th>\n",
       "      <th></th>\n",
       "    </tr>\n",
       "  </thead>\n",
       "  <tbody>\n",
       "    <tr>\n",
       "      <th>0</th>\n",
       "      <td>0.202410</td>\n",
       "    </tr>\n",
       "    <tr>\n",
       "      <th>1</th>\n",
       "      <td>0.196752</td>\n",
       "    </tr>\n",
       "  </tbody>\n",
       "</table>\n",
       "</div>"
      ],
      "text/plain": [
       "             No-show\n",
       "Alcoholism          \n",
       "0           0.202410\n",
       "1           0.196752"
      ]
     },
     "execution_count": 55,
     "metadata": {},
     "output_type": "execute_result"
    },
    {
     "data": {
      "image/png": "[encoded data removed]",
      "text/plain": [
       "<Figure size 864x288 with 2 Axes>"
      ]
     },
     "metadata": {
      "needs_background": "light"
     },
     "output_type": "display_data"
    }
   ],
   "source": [
    "fig, ax = plt.subplots(1, 2, figsize=(12, 4))\n",
    "\n",
    "sns.countplot(x='Alcoholism', hue='No-show', data=app_edit, ax=ax[0])\n",
    "app_edit[['Alcoholism', 'No-show']].groupby(['Alcoholism']).count().sort_values(by='No-show', ascending=False)\n",
    "\n",
    "sns.barplot(x='Alcoholism', y='No-show', data=app_edit, ax=ax[1])\n",
    "app_edit[['Alcoholism', 'No-show']].groupby(['Alcoholism']).mean().sort_values(by='No-show', ascending=False)"
   ]
  },
  {
   "cell_type": "markdown",
   "metadata": {},
   "source": [
    "### Handicap\n",
    "\n",
    "Ci sono pochissimi pazienti con handicap (1+). Intanto conviene raggrupparli in una classe singola, quindi specificando Yes/No binario, e ricontrollare le probabilità.\n",
    "\n",
    "A seguito dell'aggregazione delle classi con 1+ handicap si nota una probabilità simile per yes/no di No-show, tuttavia non rilevante perché le osservazioni sono quasi la totalità relative a handicap 0. Da droppare."
   ]
  },
  {
   "cell_type": "code",
   "execution_count": 56,
   "metadata": {},
   "outputs": [
    {
     "data": {
      "text/html": [
       "<div>\n",
       "<style scoped>\n",
       "    .dataframe tbody tr th:only-of-type {\n",
       "        vertical-align: middle;\n",
       "    }\n",
       "\n",
       "    .dataframe tbody tr th {\n",
       "        vertical-align: top;\n",
       "    }\n",
       "\n",
       "    .dataframe thead th {\n",
       "        text-align: right;\n",
       "    }\n",
       "</style>\n",
       "<table border=\"1\" class=\"dataframe\">\n",
       "  <thead>\n",
       "    <tr style=\"text-align: right;\">\n",
       "      <th></th>\n",
       "      <th>No-show</th>\n",
       "    </tr>\n",
       "    <tr>\n",
       "      <th>Handcap</th>\n",
       "      <th></th>\n",
       "    </tr>\n",
       "  </thead>\n",
       "  <tbody>\n",
       "    <tr>\n",
       "      <th>4</th>\n",
       "      <td>0.333333</td>\n",
       "    </tr>\n",
       "    <tr>\n",
       "      <th>2</th>\n",
       "      <td>0.234899</td>\n",
       "    </tr>\n",
       "    <tr>\n",
       "      <th>0</th>\n",
       "      <td>0.202618</td>\n",
       "    </tr>\n",
       "    <tr>\n",
       "      <th>3</th>\n",
       "      <td>0.181818</td>\n",
       "    </tr>\n",
       "    <tr>\n",
       "      <th>1</th>\n",
       "      <td>0.178986</td>\n",
       "    </tr>\n",
       "  </tbody>\n",
       "</table>\n",
       "</div>"
      ],
      "text/plain": [
       "          No-show\n",
       "Handcap          \n",
       "4        0.333333\n",
       "2        0.234899\n",
       "0        0.202618\n",
       "3        0.181818\n",
       "1        0.178986"
      ]
     },
     "execution_count": 56,
     "metadata": {},
     "output_type": "execute_result"
    },
    {
     "data": {
      "image/png": "[encoded data removed]",
      "text/plain": [
       "<Figure size 864x288 with 2 Axes>"
      ]
     },
     "metadata": {
      "needs_background": "light"
     },
     "output_type": "display_data"
    }
   ],
   "source": [
    "fig, ax = plt.subplots(1, 2, figsize=(12, 4))\n",
    "\n",
    "sns.countplot(x='Handcap', hue='No-show', data=app_edit, ax=ax[0])\n",
    "app_edit[['Handcap', 'No-show']].groupby(['Handcap']).count().sort_values(by='No-show', ascending=False)\n",
    "\n",
    "sns.barplot(x='Handcap', y='No-show', data=app_edit, ax=ax[1])\n",
    "app_edit[['Handcap', 'No-show']].groupby(['Handcap']).mean().sort_values(by='No-show', ascending=False)"
   ]
  },
  {
   "cell_type": "code",
   "execution_count": 57,
   "metadata": {},
   "outputs": [
    {
     "data": {
      "text/plain": [
       "0    86621\n",
       "1     1800\n",
       "Name: Handcap, dtype: int64"
      ]
     },
     "execution_count": 57,
     "metadata": {},
     "output_type": "execute_result"
    }
   ],
   "source": [
    "app_hcap = app_edit\n",
    "app_hcap['Handcap'] = app_edit['Handcap'].apply(lambda x: int(not (x==0)))\n",
    "app_hcap['Handcap'].value_counts()"
   ]
  },
  {
   "cell_type": "code",
   "execution_count": 58,
   "metadata": {},
   "outputs": [
    {
     "data": {
      "text/html": [
       "<div>\n",
       "<style scoped>\n",
       "    .dataframe tbody tr th:only-of-type {\n",
       "        vertical-align: middle;\n",
       "    }\n",
       "\n",
       "    .dataframe tbody tr th {\n",
       "        vertical-align: top;\n",
       "    }\n",
       "\n",
       "    .dataframe thead th {\n",
       "        text-align: right;\n",
       "    }\n",
       "</style>\n",
       "<table border=\"1\" class=\"dataframe\">\n",
       "  <thead>\n",
       "    <tr style=\"text-align: right;\">\n",
       "      <th></th>\n",
       "      <th>No-show</th>\n",
       "    </tr>\n",
       "    <tr>\n",
       "      <th>Handcap</th>\n",
       "      <th></th>\n",
       "    </tr>\n",
       "  </thead>\n",
       "  <tbody>\n",
       "    <tr>\n",
       "      <th>0</th>\n",
       "      <td>0.202618</td>\n",
       "    </tr>\n",
       "    <tr>\n",
       "      <th>1</th>\n",
       "      <td>0.183889</td>\n",
       "    </tr>\n",
       "  </tbody>\n",
       "</table>\n",
       "</div>"
      ],
      "text/plain": [
       "          No-show\n",
       "Handcap          \n",
       "0        0.202618\n",
       "1        0.183889"
      ]
     },
     "execution_count": 58,
     "metadata": {},
     "output_type": "execute_result"
    },
    {
     "data": {
      "image/png": "[encoded data removed]",
      "text/plain": [
       "<Figure size 864x288 with 2 Axes>"
      ]
     },
     "metadata": {
      "needs_background": "light"
     },
     "output_type": "display_data"
    }
   ],
   "source": [
    "fig, ax = plt.subplots(1, 2, figsize=(12, 4))\n",
    "\n",
    "sns.countplot(x='Handcap', hue='No-show', data=app_edit, ax=ax[0])\n",
    "app_edit[['Handcap', 'No-show']].groupby(['Handcap']).count().sort_values(by='No-show', ascending=False)\n",
    "\n",
    "sns.barplot(x='Handcap', y='No-show', data=app_edit, ax=ax[1])\n",
    "app_edit[['Handcap', 'No-show']].groupby(['Handcap']).mean().sort_values(by='No-show', ascending=False)"
   ]
  },
  {
   "cell_type": "markdown",
   "metadata": {},
   "source": [
    "### SMS_received\n",
    "\n",
    "C'è una lieve differenza di probabilità, ovvero chi ha ricevuto uno o più SMS ha più probabilità di No-show.\n",
    "\n",
    "Nelle istruzioni è specificato che questa feature può assumere valori anche maggiori di 1. Sarebbe opportuno mappare questi valori sempre ad 1."
   ]
  },
  {
   "cell_type": "code",
   "execution_count": 59,
   "metadata": {},
   "outputs": [
    {
     "data": {
      "text/html": [
       "<div>\n",
       "<style scoped>\n",
       "    .dataframe tbody tr th:only-of-type {\n",
       "        vertical-align: middle;\n",
       "    }\n",
       "\n",
       "    .dataframe tbody tr th {\n",
       "        vertical-align: top;\n",
       "    }\n",
       "\n",
       "    .dataframe thead th {\n",
       "        text-align: right;\n",
       "    }\n",
       "</style>\n",
       "<table border=\"1\" class=\"dataframe\">\n",
       "  <thead>\n",
       "    <tr style=\"text-align: right;\">\n",
       "      <th></th>\n",
       "      <th>No-show</th>\n",
       "    </tr>\n",
       "    <tr>\n",
       "      <th>SMS_received</th>\n",
       "      <th></th>\n",
       "    </tr>\n",
       "  </thead>\n",
       "  <tbody>\n",
       "    <tr>\n",
       "      <th>1</th>\n",
       "      <td>0.278032</td>\n",
       "    </tr>\n",
       "    <tr>\n",
       "      <th>0</th>\n",
       "      <td>0.166314</td>\n",
       "    </tr>\n",
       "  </tbody>\n",
       "</table>\n",
       "</div>"
      ],
      "text/plain": [
       "               No-show\n",
       "SMS_received          \n",
       "1             0.278032\n",
       "0             0.166314"
      ]
     },
     "execution_count": 59,
     "metadata": {},
     "output_type": "execute_result"
    },
    {
     "data": {
      "image/png": "[encoded data removed]",
      "text/plain": [
       "<Figure size 864x288 with 2 Axes>"
      ]
     },
     "metadata": {
      "needs_background": "light"
     },
     "output_type": "display_data"
    }
   ],
   "source": [
    "fig, ax = plt.subplots(1, 2, figsize=(12, 4))\n",
    "\n",
    "sns.countplot(x='SMS_received', hue='No-show', data=app_edit, ax=ax[0])\n",
    "app_edit[['SMS_received', 'No-show']].groupby(['SMS_received']).count().sort_values(by='No-show', ascending=False)\n",
    "\n",
    "sns.barplot(x='SMS_received', y='No-show', data=app_edit, ax=ax[1])\n",
    "app_edit[['SMS_received', 'No-show']].groupby(['SMS_received']).mean().sort_values(by='No-show', ascending=False)"
   ]
  },
  {
   "cell_type": "markdown",
   "metadata": {},
   "source": [
    "### Neighbourhood\n",
    "\n",
    "Alcuni hanno molti pazienti, altri pochi (con probabilità sballate). Conviene aggregarli in classi per i più rappresentati e scegliere una classe \"Other\" per quelli meno frequenti (o successivamente trovati nel train set come nuovi)"
   ]
  },
  {
   "cell_type": "code",
   "execution_count": 135,
   "metadata": {
    "scrolled": false
   },
   "outputs": [
    {
     "data": {
      "text/html": [
       "<div>\n",
       "<style scoped>\n",
       "    .dataframe tbody tr th:only-of-type {\n",
       "        vertical-align: middle;\n",
       "    }\n",
       "\n",
       "    .dataframe tbody tr th {\n",
       "        vertical-align: top;\n",
       "    }\n",
       "\n",
       "    .dataframe thead th {\n",
       "        text-align: right;\n",
       "    }\n",
       "</style>\n",
       "<table border=\"1\" class=\"dataframe\">\n",
       "  <thead>\n",
       "    <tr style=\"text-align: right;\">\n",
       "      <th></th>\n",
       "      <th>No-show</th>\n",
       "    </tr>\n",
       "    <tr>\n",
       "      <th>Neighbourhood</th>\n",
       "      <th></th>\n",
       "    </tr>\n",
       "  </thead>\n",
       "  <tbody>\n",
       "    <tr>\n",
       "      <th>Other</th>\n",
       "      <td>27467</td>\n",
       "    </tr>\n",
       "    <tr>\n",
       "      <th>JARDIM CAMBURI</th>\n",
       "      <td>6208</td>\n",
       "    </tr>\n",
       "    <tr>\n",
       "      <th>MARIA ORTIZ</th>\n",
       "      <td>4603</td>\n",
       "    </tr>\n",
       "    <tr>\n",
       "      <th>RESISTÊNCIA</th>\n",
       "      <td>3564</td>\n",
       "    </tr>\n",
       "    <tr>\n",
       "      <th>JARDIM DA PENHA</th>\n",
       "      <td>3093</td>\n",
       "    </tr>\n",
       "    <tr>\n",
       "      <th>ITARARÉ</th>\n",
       "      <td>2810</td>\n",
       "    </tr>\n",
       "    <tr>\n",
       "      <th>CENTRO</th>\n",
       "      <td>2666</td>\n",
       "    </tr>\n",
       "    <tr>\n",
       "      <th>SANTA MARTHA</th>\n",
       "      <td>2509</td>\n",
       "    </tr>\n",
       "    <tr>\n",
       "      <th>TABUAZEIRO</th>\n",
       "      <td>2505</td>\n",
       "    </tr>\n",
       "    <tr>\n",
       "      <th>JESUS DE NAZARETH</th>\n",
       "      <td>2259</td>\n",
       "    </tr>\n",
       "    <tr>\n",
       "      <th>BONFIM</th>\n",
       "      <td>2207</td>\n",
       "    </tr>\n",
       "    <tr>\n",
       "      <th>SANTO ANTÔNIO</th>\n",
       "      <td>2183</td>\n",
       "    </tr>\n",
       "    <tr>\n",
       "      <th>SANTO ANDRÉ</th>\n",
       "      <td>2056</td>\n",
       "    </tr>\n",
       "    <tr>\n",
       "      <th>CARATOÍRA</th>\n",
       "      <td>2039</td>\n",
       "    </tr>\n",
       "    <tr>\n",
       "      <th>JABOUR</th>\n",
       "      <td>2001</td>\n",
       "    </tr>\n",
       "    <tr>\n",
       "      <th>SÃO PEDRO</th>\n",
       "      <td>1999</td>\n",
       "    </tr>\n",
       "    <tr>\n",
       "      <th>ILHA DO PRÍNCIPE</th>\n",
       "      <td>1829</td>\n",
       "    </tr>\n",
       "    <tr>\n",
       "      <th>NOVA PALESTINA</th>\n",
       "      <td>1809</td>\n",
       "    </tr>\n",
       "    <tr>\n",
       "      <th>ROMÃO</th>\n",
       "      <td>1791</td>\n",
       "    </tr>\n",
       "    <tr>\n",
       "      <th>ANDORINHAS</th>\n",
       "      <td>1789</td>\n",
       "    </tr>\n",
       "    <tr>\n",
       "      <th>DA PENHA</th>\n",
       "      <td>1787</td>\n",
       "    </tr>\n",
       "    <tr>\n",
       "      <th>GURIGICA</th>\n",
       "      <td>1605</td>\n",
       "    </tr>\n",
       "    <tr>\n",
       "      <th>SÃO JOSÉ</th>\n",
       "      <td>1562</td>\n",
       "    </tr>\n",
       "    <tr>\n",
       "      <th>MARUÍPE</th>\n",
       "      <td>1532</td>\n",
       "    </tr>\n",
       "    <tr>\n",
       "      <th>FORTE SÃO JOÃO</th>\n",
       "      <td>1531</td>\n",
       "    </tr>\n",
       "    <tr>\n",
       "      <th>ILHA DE SANTA MARIA</th>\n",
       "      <td>1513</td>\n",
       "    </tr>\n",
       "    <tr>\n",
       "      <th>BELA VISTA</th>\n",
       "      <td>1504</td>\n",
       "    </tr>\n",
       "  </tbody>\n",
       "</table>\n",
       "</div>"
      ],
      "text/plain": [
       "                     No-show\n",
       "Neighbourhood               \n",
       "Other                  27467\n",
       "JARDIM CAMBURI          6208\n",
       "MARIA ORTIZ             4603\n",
       "RESISTÊNCIA             3564\n",
       "JARDIM DA PENHA         3093\n",
       "ITARARÉ                 2810\n",
       "CENTRO                  2666\n",
       "SANTA MARTHA            2509\n",
       "TABUAZEIRO              2505\n",
       "JESUS DE NAZARETH       2259\n",
       "BONFIM                  2207\n",
       "SANTO ANTÔNIO           2183\n",
       "SANTO ANDRÉ             2056\n",
       "CARATOÍRA               2039\n",
       "JABOUR                  2001\n",
       "SÃO PEDRO               1999\n",
       "ILHA DO PRÍNCIPE        1829\n",
       "NOVA PALESTINA          1809\n",
       "ROMÃO                   1791\n",
       "ANDORINHAS              1789\n",
       "DA PENHA                1787\n",
       "GURIGICA                1605\n",
       "SÃO JOSÉ                1562\n",
       "MARUÍPE                 1532\n",
       "FORTE SÃO JOÃO          1531\n",
       "ILHA DE SANTA MARIA     1513\n",
       "BELA VISTA              1504"
      ]
     },
     "execution_count": 135,
     "metadata": {},
     "output_type": "execute_result"
    },
    {
     "data": {
      "image/png": "[encoded data removed]",
      "text/plain": [
       "<Figure size 576x1152 with 1 Axes>"
      ]
     },
     "metadata": {
      "needs_background": "light"
     },
     "output_type": "display_data"
    }
   ],
   "source": [
    "fig = plt.subplots(figsize=(8,16))\n",
    "\n",
    "g = sns.countplot(y='Neighbourhood', hue='No-show', orient='h', data=app_edit, order = app_edit['Neighbourhood'].value_counts().index)\n",
    "g.set_xticklabels(g.get_xticklabels(), rotation=45)\n",
    "#plt.setp(g.get_xticklabels(), rotation=45)\n",
    "app_edit[['Neighbourhood', 'No-show']].groupby(['Neighbourhood']).count().sort_values(by='No-show', ascending=False)"
   ]
  },
  {
   "cell_type": "code",
   "execution_count": 134,
   "metadata": {
    "scrolled": false
   },
   "outputs": [
    {
     "data": {
      "text/plain": [
       "Other                  27467\n",
       "JARDIM CAMBURI          6208\n",
       "MARIA ORTIZ             4603\n",
       "RESISTÊNCIA             3564\n",
       "JARDIM DA PENHA         3093\n",
       "ITARARÉ                 2810\n",
       "CENTRO                  2666\n",
       "SANTA MARTHA            2509\n",
       "TABUAZEIRO              2505\n",
       "JESUS DE NAZARETH       2259\n",
       "BONFIM                  2207\n",
       "SANTO ANTÔNIO           2183\n",
       "SANTO ANDRÉ             2056\n",
       "CARATOÍRA               2039\n",
       "JABOUR                  2001\n",
       "SÃO PEDRO               1999\n",
       "ILHA DO PRÍNCIPE        1829\n",
       "NOVA PALESTINA          1809\n",
       "ROMÃO                   1791\n",
       "ANDORINHAS              1789\n",
       "DA PENHA                1787\n",
       "GURIGICA                1605\n",
       "SÃO JOSÉ                1562\n",
       "MARUÍPE                 1532\n",
       "FORTE SÃO JOÃO          1531\n",
       "ILHA DE SANTA MARIA     1513\n",
       "BELA VISTA              1504\n",
       "Name: Neighbourhood, dtype: int64"
      ]
     },
     "execution_count": 134,
     "metadata": {},
     "output_type": "execute_result"
    },
    {
     "data": {
      "image/png": "[encoded data removed]",
      "text/plain": [
       "<Figure size 576x1152 with 1 Axes>"
      ]
     },
     "metadata": {
      "needs_background": "light"
     },
     "output_type": "display_data"
    }
   ],
   "source": [
    "fig = plt.subplots(figsize=(8,16))\n",
    "\n",
    "g = sns.countplot(y='Neighbourhood', orient='h', data=app_edit, order = app_edit['Neighbourhood'].value_counts().index)\n",
    "g.set_title('Numero di pazienti per Neighbourhood, il dove fare la visita')\n",
    "app_edit['Neighbourhood'].value_counts()"
   ]
  },
  {
   "cell_type": "code",
   "execution_count": 133,
   "metadata": {
    "scrolled": false
   },
   "outputs": [
    {
     "data": {
      "text/html": [
       "<div>\n",
       "<style scoped>\n",
       "    .dataframe tbody tr th:only-of-type {\n",
       "        vertical-align: middle;\n",
       "    }\n",
       "\n",
       "    .dataframe tbody tr th {\n",
       "        vertical-align: top;\n",
       "    }\n",
       "\n",
       "    .dataframe thead th {\n",
       "        text-align: right;\n",
       "    }\n",
       "</style>\n",
       "<table border=\"1\" class=\"dataframe\">\n",
       "  <thead>\n",
       "    <tr style=\"text-align: right;\">\n",
       "      <th></th>\n",
       "      <th>No-show</th>\n",
       "    </tr>\n",
       "    <tr>\n",
       "      <th>Neighbourhood</th>\n",
       "      <th></th>\n",
       "    </tr>\n",
       "  </thead>\n",
       "  <tbody>\n",
       "    <tr>\n",
       "      <th>ITARARÉ</th>\n",
       "      <td>0.259786</td>\n",
       "    </tr>\n",
       "    <tr>\n",
       "      <th>JESUS DE NAZARETH</th>\n",
       "      <td>0.243028</td>\n",
       "    </tr>\n",
       "    <tr>\n",
       "      <th>ILHA DO PRÍNCIPE</th>\n",
       "      <td>0.239475</td>\n",
       "    </tr>\n",
       "    <tr>\n",
       "      <th>GURIGICA</th>\n",
       "      <td>0.226791</td>\n",
       "    </tr>\n",
       "    <tr>\n",
       "      <th>ANDORINHAS</th>\n",
       "      <td>0.226383</td>\n",
       "    </tr>\n",
       "    <tr>\n",
       "      <th>CARATOÍRA</th>\n",
       "      <td>0.224129</td>\n",
       "    </tr>\n",
       "    <tr>\n",
       "      <th>MARUÍPE</th>\n",
       "      <td>0.223890</td>\n",
       "    </tr>\n",
       "    <tr>\n",
       "      <th>SÃO JOSÉ</th>\n",
       "      <td>0.220871</td>\n",
       "    </tr>\n",
       "    <tr>\n",
       "      <th>ROMÃO</th>\n",
       "      <td>0.217197</td>\n",
       "    </tr>\n",
       "    <tr>\n",
       "      <th>CENTRO</th>\n",
       "      <td>0.213803</td>\n",
       "    </tr>\n",
       "    <tr>\n",
       "      <th>MARIA ORTIZ</th>\n",
       "      <td>0.210298</td>\n",
       "    </tr>\n",
       "    <tr>\n",
       "      <th>SÃO PEDRO</th>\n",
       "      <td>0.209605</td>\n",
       "    </tr>\n",
       "    <tr>\n",
       "      <th>RESISTÊNCIA</th>\n",
       "      <td>0.209315</td>\n",
       "    </tr>\n",
       "    <tr>\n",
       "      <th>BELA VISTA</th>\n",
       "      <td>0.202128</td>\n",
       "    </tr>\n",
       "    <tr>\n",
       "      <th>SANTO ANDRÉ</th>\n",
       "      <td>0.199903</td>\n",
       "    </tr>\n",
       "    <tr>\n",
       "      <th>Other</th>\n",
       "      <td>0.199512</td>\n",
       "    </tr>\n",
       "    <tr>\n",
       "      <th>BONFIM</th>\n",
       "      <td>0.197100</td>\n",
       "    </tr>\n",
       "    <tr>\n",
       "      <th>DA PENHA</th>\n",
       "      <td>0.195299</td>\n",
       "    </tr>\n",
       "    <tr>\n",
       "      <th>JARDIM CAMBURI</th>\n",
       "      <td>0.191849</td>\n",
       "    </tr>\n",
       "    <tr>\n",
       "      <th>ILHA DE SANTA MARIA</th>\n",
       "      <td>0.185063</td>\n",
       "    </tr>\n",
       "    <tr>\n",
       "      <th>FORTE SÃO JOÃO</th>\n",
       "      <td>0.184847</td>\n",
       "    </tr>\n",
       "    <tr>\n",
       "      <th>TABUAZEIRO</th>\n",
       "      <td>0.183234</td>\n",
       "    </tr>\n",
       "    <tr>\n",
       "      <th>JABOUR</th>\n",
       "      <td>0.178911</td>\n",
       "    </tr>\n",
       "    <tr>\n",
       "      <th>NOVA PALESTINA</th>\n",
       "      <td>0.176893</td>\n",
       "    </tr>\n",
       "    <tr>\n",
       "      <th>SANTO ANTÔNIO</th>\n",
       "      <td>0.170866</td>\n",
       "    </tr>\n",
       "    <tr>\n",
       "      <th>JARDIM DA PENHA</th>\n",
       "      <td>0.166828</td>\n",
       "    </tr>\n",
       "    <tr>\n",
       "      <th>SANTA MARTHA</th>\n",
       "      <td>0.159426</td>\n",
       "    </tr>\n",
       "  </tbody>\n",
       "</table>\n",
       "</div>"
      ],
      "text/plain": [
       "                      No-show\n",
       "Neighbourhood                \n",
       "ITARARÉ              0.259786\n",
       "JESUS DE NAZARETH    0.243028\n",
       "ILHA DO PRÍNCIPE     0.239475\n",
       "GURIGICA             0.226791\n",
       "ANDORINHAS           0.226383\n",
       "CARATOÍRA            0.224129\n",
       "MARUÍPE              0.223890\n",
       "SÃO JOSÉ             0.220871\n",
       "ROMÃO                0.217197\n",
       "CENTRO               0.213803\n",
       "MARIA ORTIZ          0.210298\n",
       "SÃO PEDRO            0.209605\n",
       "RESISTÊNCIA          0.209315\n",
       "BELA VISTA           0.202128\n",
       "SANTO ANDRÉ          0.199903\n",
       "Other                0.199512\n",
       "BONFIM               0.197100\n",
       "DA PENHA             0.195299\n",
       "JARDIM CAMBURI       0.191849\n",
       "ILHA DE SANTA MARIA  0.185063\n",
       "FORTE SÃO JOÃO       0.184847\n",
       "TABUAZEIRO           0.183234\n",
       "JABOUR               0.178911\n",
       "NOVA PALESTINA       0.176893\n",
       "SANTO ANTÔNIO        0.170866\n",
       "JARDIM DA PENHA      0.166828\n",
       "SANTA MARTHA         0.159426"
      ]
     },
     "execution_count": 133,
     "metadata": {},
     "output_type": "execute_result"
    },
    {
     "data": {
      "image/png": "[encoded data removed]",
      "text/plain": [
       "<Figure size 576x1152 with 1 Axes>"
      ]
     },
     "metadata": {
      "needs_background": "light"
     },
     "output_type": "display_data"
    }
   ],
   "source": [
    "fig = plt.figure(figsize=(8,16))\n",
    "\n",
    "ordered = app_edit[['Neighbourhood', 'No-show']].groupby(['Neighbourhood']).mean().sort_values(by='No-show', ascending=False)\n",
    "\n",
    "g = sns.barplot(y='Neighbourhood', x='No-show', data=app_edit, order=ordered.index)\n",
    "g.set_xticklabels(g.get_xticklabels(), rotation=45)\n",
    "g.set_title('Probabilità di No-show per Neighbourhood')\n",
    "\n",
    "ordered"
   ]
  },
  {
   "cell_type": "markdown",
   "metadata": {},
   "source": [
    "La funzione, mediante un threshold, riduce i possibili valori di neighbourhood trasformando quelli con meno frequenza (o mai apparsi) in 'Other'"
   ]
  },
  {
   "cell_type": "code",
   "execution_count": 127,
   "metadata": {},
   "outputs": [],
   "source": [
    "neighbour_count = app_edit['Neighbourhood'].value_counts()\n",
    "\n",
    "def neighbour_bin(name):\n",
    "    if (not name in neighbour_count.index):\n",
    "        return 'Other'\n",
    "    elif (neighbour_count[name]) < 1500:\n",
    "        return 'Other'\n",
    "    else:\n",
    "        return name\n",
    "\n",
    "neighbour_bins = app_edit\n",
    "neighbour_bins['Neighbour_bin'] = neighbour_bins['Neighbourhood'].apply(lambda n: neighbour_bin(n))"
   ]
  },
  {
   "cell_type": "code",
   "execution_count": 131,
   "metadata": {},
   "outputs": [
    {
     "data": {
      "text/plain": [
       "'Other'"
      ]
     },
     "execution_count": 131,
     "metadata": {},
     "output_type": "execute_result"
    }
   ],
   "source": [
    "neighbour_bin('not_labeled')"
   ]
  },
  {
   "cell_type": "code",
   "execution_count": 132,
   "metadata": {},
   "outputs": [],
   "source": [
    "app_edit['Neighbourhood'] = neighbour_bins['Neighbour_bin']"
   ]
  },
  {
   "cell_type": "markdown",
   "metadata": {},
   "source": [
    "### Provo a fare un label encoding (ordinale) dei neighbourhood"
   ]
  },
  {
   "cell_type": "code",
   "execution_count": 80,
   "metadata": {},
   "outputs": [
    {
     "data": {
      "text/html": [
       "<div>\n",
       "<style scoped>\n",
       "    .dataframe tbody tr th:only-of-type {\n",
       "        vertical-align: middle;\n",
       "    }\n",
       "\n",
       "    .dataframe tbody tr th {\n",
       "        vertical-align: top;\n",
       "    }\n",
       "\n",
       "    .dataframe thead th {\n",
       "        text-align: right;\n",
       "    }\n",
       "</style>\n",
       "<table border=\"1\" class=\"dataframe\">\n",
       "  <thead>\n",
       "    <tr style=\"text-align: right;\">\n",
       "      <th></th>\n",
       "      <th>No-show</th>\n",
       "    </tr>\n",
       "    <tr>\n",
       "      <th>Neighbourhood</th>\n",
       "      <th></th>\n",
       "    </tr>\n",
       "  </thead>\n",
       "  <tbody>\n",
       "    <tr>\n",
       "      <th>ITARARÉ</th>\n",
       "      <td>0.259786</td>\n",
       "    </tr>\n",
       "    <tr>\n",
       "      <th>JESUS DE NAZARETH</th>\n",
       "      <td>0.243028</td>\n",
       "    </tr>\n",
       "    <tr>\n",
       "      <th>ILHA DO PRÍNCIPE</th>\n",
       "      <td>0.239475</td>\n",
       "    </tr>\n",
       "    <tr>\n",
       "      <th>GURIGICA</th>\n",
       "      <td>0.226791</td>\n",
       "    </tr>\n",
       "    <tr>\n",
       "      <th>ANDORINHAS</th>\n",
       "      <td>0.226383</td>\n",
       "    </tr>\n",
       "    <tr>\n",
       "      <th>CARATOÍRA</th>\n",
       "      <td>0.224129</td>\n",
       "    </tr>\n",
       "    <tr>\n",
       "      <th>MARUÍPE</th>\n",
       "      <td>0.223890</td>\n",
       "    </tr>\n",
       "    <tr>\n",
       "      <th>SÃO JOSÉ</th>\n",
       "      <td>0.220871</td>\n",
       "    </tr>\n",
       "    <tr>\n",
       "      <th>ROMÃO</th>\n",
       "      <td>0.217197</td>\n",
       "    </tr>\n",
       "    <tr>\n",
       "      <th>CENTRO</th>\n",
       "      <td>0.213803</td>\n",
       "    </tr>\n",
       "    <tr>\n",
       "      <th>MARIA ORTIZ</th>\n",
       "      <td>0.210298</td>\n",
       "    </tr>\n",
       "    <tr>\n",
       "      <th>SÃO PEDRO</th>\n",
       "      <td>0.209605</td>\n",
       "    </tr>\n",
       "    <tr>\n",
       "      <th>RESISTÊNCIA</th>\n",
       "      <td>0.209315</td>\n",
       "    </tr>\n",
       "    <tr>\n",
       "      <th>BELA VISTA</th>\n",
       "      <td>0.202128</td>\n",
       "    </tr>\n",
       "    <tr>\n",
       "      <th>SANTO ANDRÉ</th>\n",
       "      <td>0.199903</td>\n",
       "    </tr>\n",
       "    <tr>\n",
       "      <th>Other</th>\n",
       "      <td>0.199512</td>\n",
       "    </tr>\n",
       "    <tr>\n",
       "      <th>BONFIM</th>\n",
       "      <td>0.197100</td>\n",
       "    </tr>\n",
       "    <tr>\n",
       "      <th>DA PENHA</th>\n",
       "      <td>0.195299</td>\n",
       "    </tr>\n",
       "    <tr>\n",
       "      <th>JARDIM CAMBURI</th>\n",
       "      <td>0.191849</td>\n",
       "    </tr>\n",
       "    <tr>\n",
       "      <th>ILHA DE SANTA MARIA</th>\n",
       "      <td>0.185063</td>\n",
       "    </tr>\n",
       "    <tr>\n",
       "      <th>FORTE SÃO JOÃO</th>\n",
       "      <td>0.184847</td>\n",
       "    </tr>\n",
       "    <tr>\n",
       "      <th>TABUAZEIRO</th>\n",
       "      <td>0.183234</td>\n",
       "    </tr>\n",
       "    <tr>\n",
       "      <th>JABOUR</th>\n",
       "      <td>0.178911</td>\n",
       "    </tr>\n",
       "    <tr>\n",
       "      <th>NOVA PALESTINA</th>\n",
       "      <td>0.176893</td>\n",
       "    </tr>\n",
       "    <tr>\n",
       "      <th>SANTO ANTÔNIO</th>\n",
       "      <td>0.170866</td>\n",
       "    </tr>\n",
       "    <tr>\n",
       "      <th>JARDIM DA PENHA</th>\n",
       "      <td>0.166828</td>\n",
       "    </tr>\n",
       "    <tr>\n",
       "      <th>SANTA MARTHA</th>\n",
       "      <td>0.159426</td>\n",
       "    </tr>\n",
       "  </tbody>\n",
       "</table>\n",
       "</div>"
      ],
      "text/plain": [
       "                      No-show\n",
       "Neighbourhood                \n",
       "ITARARÉ              0.259786\n",
       "JESUS DE NAZARETH    0.243028\n",
       "ILHA DO PRÍNCIPE     0.239475\n",
       "GURIGICA             0.226791\n",
       "ANDORINHAS           0.226383\n",
       "CARATOÍRA            0.224129\n",
       "MARUÍPE              0.223890\n",
       "SÃO JOSÉ             0.220871\n",
       "ROMÃO                0.217197\n",
       "CENTRO               0.213803\n",
       "MARIA ORTIZ          0.210298\n",
       "SÃO PEDRO            0.209605\n",
       "RESISTÊNCIA          0.209315\n",
       "BELA VISTA           0.202128\n",
       "SANTO ANDRÉ          0.199903\n",
       "Other                0.199512\n",
       "BONFIM               0.197100\n",
       "DA PENHA             0.195299\n",
       "JARDIM CAMBURI       0.191849\n",
       "ILHA DE SANTA MARIA  0.185063\n",
       "FORTE SÃO JOÃO       0.184847\n",
       "TABUAZEIRO           0.183234\n",
       "JABOUR               0.178911\n",
       "NOVA PALESTINA       0.176893\n",
       "SANTO ANTÔNIO        0.170866\n",
       "JARDIM DA PENHA      0.166828\n",
       "SANTA MARTHA         0.159426"
      ]
     },
     "execution_count": 80,
     "metadata": {},
     "output_type": "execute_result"
    }
   ],
   "source": [
    "ordered"
   ]
  },
  {
   "cell_type": "code",
   "execution_count": 92,
   "metadata": {},
   "outputs": [
    {
     "data": {
      "text/html": [
       "<div>\n",
       "<style scoped>\n",
       "    .dataframe tbody tr th:only-of-type {\n",
       "        vertical-align: middle;\n",
       "    }\n",
       "\n",
       "    .dataframe tbody tr th {\n",
       "        vertical-align: top;\n",
       "    }\n",
       "\n",
       "    .dataframe thead th {\n",
       "        text-align: right;\n",
       "    }\n",
       "</style>\n",
       "<table border=\"1\" class=\"dataframe\">\n",
       "  <thead>\n",
       "    <tr style=\"text-align: right;\">\n",
       "      <th></th>\n",
       "      <th>Neighbourhood</th>\n",
       "      <th>No-show</th>\n",
       "    </tr>\n",
       "  </thead>\n",
       "  <tbody>\n",
       "    <tr>\n",
       "      <th>0</th>\n",
       "      <td>ITARARÉ</td>\n",
       "      <td>0.259786</td>\n",
       "    </tr>\n",
       "    <tr>\n",
       "      <th>1</th>\n",
       "      <td>JESUS DE NAZARETH</td>\n",
       "      <td>0.243028</td>\n",
       "    </tr>\n",
       "    <tr>\n",
       "      <th>2</th>\n",
       "      <td>ILHA DO PRÍNCIPE</td>\n",
       "      <td>0.239475</td>\n",
       "    </tr>\n",
       "    <tr>\n",
       "      <th>3</th>\n",
       "      <td>GURIGICA</td>\n",
       "      <td>0.226791</td>\n",
       "    </tr>\n",
       "    <tr>\n",
       "      <th>4</th>\n",
       "      <td>ANDORINHAS</td>\n",
       "      <td>0.226383</td>\n",
       "    </tr>\n",
       "    <tr>\n",
       "      <th>5</th>\n",
       "      <td>CARATOÍRA</td>\n",
       "      <td>0.224129</td>\n",
       "    </tr>\n",
       "    <tr>\n",
       "      <th>6</th>\n",
       "      <td>MARUÍPE</td>\n",
       "      <td>0.223890</td>\n",
       "    </tr>\n",
       "    <tr>\n",
       "      <th>7</th>\n",
       "      <td>SÃO JOSÉ</td>\n",
       "      <td>0.220871</td>\n",
       "    </tr>\n",
       "    <tr>\n",
       "      <th>8</th>\n",
       "      <td>ROMÃO</td>\n",
       "      <td>0.217197</td>\n",
       "    </tr>\n",
       "    <tr>\n",
       "      <th>9</th>\n",
       "      <td>CENTRO</td>\n",
       "      <td>0.213803</td>\n",
       "    </tr>\n",
       "    <tr>\n",
       "      <th>10</th>\n",
       "      <td>MARIA ORTIZ</td>\n",
       "      <td>0.210298</td>\n",
       "    </tr>\n",
       "    <tr>\n",
       "      <th>11</th>\n",
       "      <td>SÃO PEDRO</td>\n",
       "      <td>0.209605</td>\n",
       "    </tr>\n",
       "    <tr>\n",
       "      <th>12</th>\n",
       "      <td>RESISTÊNCIA</td>\n",
       "      <td>0.209315</td>\n",
       "    </tr>\n",
       "    <tr>\n",
       "      <th>13</th>\n",
       "      <td>BELA VISTA</td>\n",
       "      <td>0.202128</td>\n",
       "    </tr>\n",
       "    <tr>\n",
       "      <th>14</th>\n",
       "      <td>SANTO ANDRÉ</td>\n",
       "      <td>0.199903</td>\n",
       "    </tr>\n",
       "    <tr>\n",
       "      <th>15</th>\n",
       "      <td>Other</td>\n",
       "      <td>0.199512</td>\n",
       "    </tr>\n",
       "    <tr>\n",
       "      <th>16</th>\n",
       "      <td>BONFIM</td>\n",
       "      <td>0.197100</td>\n",
       "    </tr>\n",
       "    <tr>\n",
       "      <th>17</th>\n",
       "      <td>DA PENHA</td>\n",
       "      <td>0.195299</td>\n",
       "    </tr>\n",
       "    <tr>\n",
       "      <th>18</th>\n",
       "      <td>JARDIM CAMBURI</td>\n",
       "      <td>0.191849</td>\n",
       "    </tr>\n",
       "    <tr>\n",
       "      <th>19</th>\n",
       "      <td>ILHA DE SANTA MARIA</td>\n",
       "      <td>0.185063</td>\n",
       "    </tr>\n",
       "    <tr>\n",
       "      <th>20</th>\n",
       "      <td>FORTE SÃO JOÃO</td>\n",
       "      <td>0.184847</td>\n",
       "    </tr>\n",
       "    <tr>\n",
       "      <th>21</th>\n",
       "      <td>TABUAZEIRO</td>\n",
       "      <td>0.183234</td>\n",
       "    </tr>\n",
       "    <tr>\n",
       "      <th>22</th>\n",
       "      <td>JABOUR</td>\n",
       "      <td>0.178911</td>\n",
       "    </tr>\n",
       "    <tr>\n",
       "      <th>23</th>\n",
       "      <td>NOVA PALESTINA</td>\n",
       "      <td>0.176893</td>\n",
       "    </tr>\n",
       "    <tr>\n",
       "      <th>24</th>\n",
       "      <td>SANTO ANTÔNIO</td>\n",
       "      <td>0.170866</td>\n",
       "    </tr>\n",
       "    <tr>\n",
       "      <th>25</th>\n",
       "      <td>JARDIM DA PENHA</td>\n",
       "      <td>0.166828</td>\n",
       "    </tr>\n",
       "    <tr>\n",
       "      <th>26</th>\n",
       "      <td>SANTA MARTHA</td>\n",
       "      <td>0.159426</td>\n",
       "    </tr>\n",
       "  </tbody>\n",
       "</table>\n",
       "</div>"
      ],
      "text/plain": [
       "          Neighbourhood   No-show\n",
       "0               ITARARÉ  0.259786\n",
       "1     JESUS DE NAZARETH  0.243028\n",
       "2      ILHA DO PRÍNCIPE  0.239475\n",
       "3              GURIGICA  0.226791\n",
       "4            ANDORINHAS  0.226383\n",
       "5             CARATOÍRA  0.224129\n",
       "6               MARUÍPE  0.223890\n",
       "7              SÃO JOSÉ  0.220871\n",
       "8                 ROMÃO  0.217197\n",
       "9                CENTRO  0.213803\n",
       "10          MARIA ORTIZ  0.210298\n",
       "11            SÃO PEDRO  0.209605\n",
       "12          RESISTÊNCIA  0.209315\n",
       "13           BELA VISTA  0.202128\n",
       "14          SANTO ANDRÉ  0.199903\n",
       "15                Other  0.199512\n",
       "16               BONFIM  0.197100\n",
       "17             DA PENHA  0.195299\n",
       "18       JARDIM CAMBURI  0.191849\n",
       "19  ILHA DE SANTA MARIA  0.185063\n",
       "20       FORTE SÃO JOÃO  0.184847\n",
       "21           TABUAZEIRO  0.183234\n",
       "22               JABOUR  0.178911\n",
       "23       NOVA PALESTINA  0.176893\n",
       "24        SANTO ANTÔNIO  0.170866\n",
       "25      JARDIM DA PENHA  0.166828\n",
       "26         SANTA MARTHA  0.159426"
      ]
     },
     "execution_count": 92,
     "metadata": {},
     "output_type": "execute_result"
    }
   ],
   "source": [
    "df_ordered = pd.DataFrame(data=ordered)\n",
    "df_ordered = df_ordered.reset_index()\n",
    "\n",
    "df_ordered"
   ]
  },
  {
   "cell_type": "code",
   "execution_count": 108,
   "metadata": {},
   "outputs": [
    {
     "data": {
      "text/plain": [
       "22"
      ]
     },
     "execution_count": 108,
     "metadata": {},
     "output_type": "execute_result"
    }
   ],
   "source": [
    "df_ordered[df_ordered['Neighbourhood'] == 'JABOUR'].index[0]"
   ]
  },
  {
   "cell_type": "markdown",
   "metadata": {},
   "source": [
    "Funzione utile per generare una colonna con i label ordinati per probabilità di No-show (decrescente)"
   ]
  },
  {
   "cell_type": "code",
   "execution_count": 109,
   "metadata": {},
   "outputs": [
    {
     "data": {
      "text/plain": [
       "0        15\n",
       "1        15\n",
       "2        18\n",
       "3        10\n",
       "4         6\n",
       "         ..\n",
       "88416    11\n",
       "88417    10\n",
       "88418     4\n",
       "88419     6\n",
       "88420     2\n",
       "Name: Neighbourhood, Length: 88421, dtype: int64"
      ]
     },
     "execution_count": 109,
     "metadata": {},
     "output_type": "execute_result"
    }
   ],
   "source": [
    "def lookup_neighbour_order(name):\n",
    "    return df_ordered[df_ordered['Neighbourhood'] == name].index[0]\n",
    "\n",
    "neighbour_labeled = app_edit\n",
    "series_labeled = neighbour_labeled['Neighbourhood'].apply(lambda n: lookup_neighbour_order(n))\n",
    "\n",
    "series_labeled"
   ]
  },
  {
   "cell_type": "code",
   "execution_count": 112,
   "metadata": {},
   "outputs": [
    {
     "data": {
      "text/plain": [
       "array([15, 18, 10,  6, 21, 22, 12, 20,  9,  7,  1,  3, 26, 11, 25, 23, 24,\n",
       "        0,  5, 19,  8, 17, 13,  2, 16, 14,  4], dtype=int64)"
      ]
     },
     "execution_count": 112,
     "metadata": {},
     "output_type": "execute_result"
    }
   ],
   "source": [
    "series_labeled.unique()"
   ]
  },
  {
   "cell_type": "code",
   "execution_count": null,
   "metadata": {},
   "outputs": [],
   "source": []
  }
 ],
 "metadata": {
  "kernelspec": {
   "display_name": "Python 3",
   "language": "python",
   "name": "python3"
  },
  "language_info": {
   "codemirror_mode": {
    "name": "ipython",
    "version": 3
   },
   "file_extension": ".py",
   "mimetype": "text/x-python",
   "name": "python",
   "nbconvert_exporter": "python",
   "pygments_lexer": "ipython3",
   "version": "3.7.0"
  }
 },
 "nbformat": 4,
 "nbformat_minor": 4
}
