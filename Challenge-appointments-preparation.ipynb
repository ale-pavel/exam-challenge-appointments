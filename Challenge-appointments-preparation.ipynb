{
 "cells": [
  {
   "cell_type": "code",
   "execution_count": null,
   "metadata": {},
   "outputs": [],
   "source": [
    "#!pip install -r requirements.txt"
   ]
  },
  {
   "cell_type": "code",
   "execution_count": 3,
   "metadata": {},
   "outputs": [],
   "source": [
    "import pandas as pd\n",
    "import numpy as np\n",
    "\n",
    "import seaborn as sns\n",
    "%matplotlib inline\n",
    "import matplotlib.pyplot as plt"
   ]
  },
  {
   "cell_type": "code",
   "execution_count": 8,
   "metadata": {},
   "outputs": [],
   "source": [
    "appointments = pd.read_csv('appointment_data.csv')\n",
    "#appointments = pd.read_csv('appointment_data.csv', na_values=['', ' '])\n",
    "#appointments = appointments.replace(['', ' '], [np.nan, np.nan])"
   ]
  },
  {
   "cell_type": "code",
   "execution_count": 9,
   "metadata": {},
   "outputs": [
    {
     "data": {
      "text/plain": [
       "(88421, 14)"
      ]
     },
     "execution_count": 9,
     "metadata": {},
     "output_type": "execute_result"
    }
   ],
   "source": [
    "appointments.shape"
   ]
  },
  {
   "cell_type": "code",
   "execution_count": 10,
   "metadata": {},
   "outputs": [
    {
     "name": "stdout",
     "output_type": "stream",
     "text": [
      "<class 'pandas.core.frame.DataFrame'>\n",
      "RangeIndex: 88421 entries, 0 to 88420\n",
      "Data columns (total 14 columns):\n",
      " #   Column          Non-Null Count  Dtype  \n",
      "---  ------          --------------  -----  \n",
      " 0   No-show         88421 non-null  object \n",
      " 1   PatientId       88421 non-null  float64\n",
      " 2   AppointmentID   88421 non-null  int64  \n",
      " 3   Gender          88421 non-null  object \n",
      " 4   ScheduledDay    88421 non-null  object \n",
      " 5   AppointmentDay  88421 non-null  object \n",
      " 6   Age             88421 non-null  int64  \n",
      " 7   Neighbourhood   88421 non-null  object \n",
      " 8   Scholarship     88421 non-null  int64  \n",
      " 9   Hipertension    88421 non-null  int64  \n",
      " 10  Diabetes        88421 non-null  int64  \n",
      " 11  Alcoholism      88421 non-null  int64  \n",
      " 12  Handcap         88421 non-null  int64  \n",
      " 13  SMS_received    88421 non-null  int64  \n",
      "dtypes: float64(1), int64(8), object(5)\n",
      "memory usage: 9.4+ MB\n"
     ]
    }
   ],
   "source": [
    "appointments.info()"
   ]
  },
  {
   "cell_type": "code",
   "execution_count": 11,
   "metadata": {},
   "outputs": [
    {
     "data": {
      "text/html": [
       "<div>\n",
       "<style scoped>\n",
       "    .dataframe tbody tr th:only-of-type {\n",
       "        vertical-align: middle;\n",
       "    }\n",
       "\n",
       "    .dataframe tbody tr th {\n",
       "        vertical-align: top;\n",
       "    }\n",
       "\n",
       "    .dataframe thead th {\n",
       "        text-align: right;\n",
       "    }\n",
       "</style>\n",
       "<table border=\"1\" class=\"dataframe\">\n",
       "  <thead>\n",
       "    <tr style=\"text-align: right;\">\n",
       "      <th></th>\n",
       "      <th>PatientId</th>\n",
       "      <th>AppointmentID</th>\n",
       "      <th>Age</th>\n",
       "      <th>Scholarship</th>\n",
       "      <th>Hipertension</th>\n",
       "      <th>Diabetes</th>\n",
       "      <th>Alcoholism</th>\n",
       "      <th>Handcap</th>\n",
       "      <th>SMS_received</th>\n",
       "    </tr>\n",
       "  </thead>\n",
       "  <tbody>\n",
       "    <tr>\n",
       "      <th>count</th>\n",
       "      <td>8.842100e+04</td>\n",
       "      <td>8.842100e+04</td>\n",
       "      <td>88421.000000</td>\n",
       "      <td>88421.000000</td>\n",
       "      <td>88421.000000</td>\n",
       "      <td>88421.000000</td>\n",
       "      <td>88421.000000</td>\n",
       "      <td>88421.000000</td>\n",
       "      <td>88421.000000</td>\n",
       "    </tr>\n",
       "    <tr>\n",
       "      <th>mean</th>\n",
       "      <td>1.484798e+14</td>\n",
       "      <td>5.675391e+06</td>\n",
       "      <td>37.124631</td>\n",
       "      <td>0.099230</td>\n",
       "      <td>0.198064</td>\n",
       "      <td>0.072324</td>\n",
       "      <td>0.030638</td>\n",
       "      <td>0.022393</td>\n",
       "      <td>0.321553</td>\n",
       "    </tr>\n",
       "    <tr>\n",
       "      <th>std</th>\n",
       "      <td>2.570830e+14</td>\n",
       "      <td>7.133018e+04</td>\n",
       "      <td>23.104321</td>\n",
       "      <td>0.298972</td>\n",
       "      <td>0.398543</td>\n",
       "      <td>0.259026</td>\n",
       "      <td>0.172335</td>\n",
       "      <td>0.162529</td>\n",
       "      <td>0.467075</td>\n",
       "    </tr>\n",
       "    <tr>\n",
       "      <th>min</th>\n",
       "      <td>3.921784e+04</td>\n",
       "      <td>5.030230e+06</td>\n",
       "      <td>0.000000</td>\n",
       "      <td>0.000000</td>\n",
       "      <td>0.000000</td>\n",
       "      <td>0.000000</td>\n",
       "      <td>0.000000</td>\n",
       "      <td>0.000000</td>\n",
       "      <td>0.000000</td>\n",
       "    </tr>\n",
       "    <tr>\n",
       "      <th>25%</th>\n",
       "      <td>4.166843e+12</td>\n",
       "      <td>5.640477e+06</td>\n",
       "      <td>18.000000</td>\n",
       "      <td>0.000000</td>\n",
       "      <td>0.000000</td>\n",
       "      <td>0.000000</td>\n",
       "      <td>0.000000</td>\n",
       "      <td>0.000000</td>\n",
       "      <td>0.000000</td>\n",
       "    </tr>\n",
       "    <tr>\n",
       "      <th>50%</th>\n",
       "      <td>3.212196e+13</td>\n",
       "      <td>5.680756e+06</td>\n",
       "      <td>37.000000</td>\n",
       "      <td>0.000000</td>\n",
       "      <td>0.000000</td>\n",
       "      <td>0.000000</td>\n",
       "      <td>0.000000</td>\n",
       "      <td>0.000000</td>\n",
       "      <td>0.000000</td>\n",
       "    </tr>\n",
       "    <tr>\n",
       "      <th>75%</th>\n",
       "      <td>9.464814e+13</td>\n",
       "      <td>5.725565e+06</td>\n",
       "      <td>55.000000</td>\n",
       "      <td>0.000000</td>\n",
       "      <td>0.000000</td>\n",
       "      <td>0.000000</td>\n",
       "      <td>0.000000</td>\n",
       "      <td>0.000000</td>\n",
       "      <td>1.000000</td>\n",
       "    </tr>\n",
       "    <tr>\n",
       "      <th>max</th>\n",
       "      <td>9.999816e+14</td>\n",
       "      <td>5.790481e+06</td>\n",
       "      <td>115.000000</td>\n",
       "      <td>1.000000</td>\n",
       "      <td>1.000000</td>\n",
       "      <td>1.000000</td>\n",
       "      <td>1.000000</td>\n",
       "      <td>4.000000</td>\n",
       "      <td>1.000000</td>\n",
       "    </tr>\n",
       "  </tbody>\n",
       "</table>\n",
       "</div>"
      ],
      "text/plain": [
       "          PatientId  AppointmentID           Age   Scholarship  Hipertension  \\\n",
       "count  8.842100e+04   8.842100e+04  88421.000000  88421.000000  88421.000000   \n",
       "mean   1.484798e+14   5.675391e+06     37.124631      0.099230      0.198064   \n",
       "std    2.570830e+14   7.133018e+04     23.104321      0.298972      0.398543   \n",
       "min    3.921784e+04   5.030230e+06      0.000000      0.000000      0.000000   \n",
       "25%    4.166843e+12   5.640477e+06     18.000000      0.000000      0.000000   \n",
       "50%    3.212196e+13   5.680756e+06     37.000000      0.000000      0.000000   \n",
       "75%    9.464814e+13   5.725565e+06     55.000000      0.000000      0.000000   \n",
       "max    9.999816e+14   5.790481e+06    115.000000      1.000000      1.000000   \n",
       "\n",
       "           Diabetes    Alcoholism       Handcap  SMS_received  \n",
       "count  88421.000000  88421.000000  88421.000000  88421.000000  \n",
       "mean       0.072324      0.030638      0.022393      0.321553  \n",
       "std        0.259026      0.172335      0.162529      0.467075  \n",
       "min        0.000000      0.000000      0.000000      0.000000  \n",
       "25%        0.000000      0.000000      0.000000      0.000000  \n",
       "50%        0.000000      0.000000      0.000000      0.000000  \n",
       "75%        0.000000      0.000000      0.000000      1.000000  \n",
       "max        1.000000      1.000000      4.000000      1.000000  "
      ]
     },
     "execution_count": 11,
     "metadata": {},
     "output_type": "execute_result"
    }
   ],
   "source": [
    "appointments.describe()"
   ]
  },
  {
   "cell_type": "code",
   "execution_count": 12,
   "metadata": {},
   "outputs": [
    {
     "data": {
      "text/html": [
       "<div>\n",
       "<style scoped>\n",
       "    .dataframe tbody tr th:only-of-type {\n",
       "        vertical-align: middle;\n",
       "    }\n",
       "\n",
       "    .dataframe tbody tr th {\n",
       "        vertical-align: top;\n",
       "    }\n",
       "\n",
       "    .dataframe thead th {\n",
       "        text-align: right;\n",
       "    }\n",
       "</style>\n",
       "<table border=\"1\" class=\"dataframe\">\n",
       "  <thead>\n",
       "    <tr style=\"text-align: right;\">\n",
       "      <th></th>\n",
       "      <th>No-show</th>\n",
       "      <th>PatientId</th>\n",
       "      <th>AppointmentID</th>\n",
       "      <th>Gender</th>\n",
       "      <th>ScheduledDay</th>\n",
       "      <th>AppointmentDay</th>\n",
       "      <th>Age</th>\n",
       "      <th>Neighbourhood</th>\n",
       "      <th>Scholarship</th>\n",
       "      <th>Hipertension</th>\n",
       "      <th>Diabetes</th>\n",
       "      <th>Alcoholism</th>\n",
       "      <th>Handcap</th>\n",
       "      <th>SMS_received</th>\n",
       "    </tr>\n",
       "  </thead>\n",
       "  <tbody>\n",
       "    <tr>\n",
       "      <th>0</th>\n",
       "      <td>No</td>\n",
       "      <td>1.328492e+12</td>\n",
       "      <td>5687610</td>\n",
       "      <td>F</td>\n",
       "      <td>2016-05-11T16:00:16Z</td>\n",
       "      <td>2016-05-19T00:00:00Z</td>\n",
       "      <td>25</td>\n",
       "      <td>MATA DA PRAIA</td>\n",
       "      <td>0</td>\n",
       "      <td>0</td>\n",
       "      <td>0</td>\n",
       "      <td>0</td>\n",
       "      <td>0</td>\n",
       "      <td>0</td>\n",
       "    </tr>\n",
       "    <tr>\n",
       "      <th>1</th>\n",
       "      <td>No</td>\n",
       "      <td>3.881869e+14</td>\n",
       "      <td>5694484</td>\n",
       "      <td>M</td>\n",
       "      <td>2016-05-13T08:41:27Z</td>\n",
       "      <td>2016-05-17T00:00:00Z</td>\n",
       "      <td>62</td>\n",
       "      <td>FRADINHOS</td>\n",
       "      <td>0</td>\n",
       "      <td>0</td>\n",
       "      <td>0</td>\n",
       "      <td>0</td>\n",
       "      <td>0</td>\n",
       "      <td>0</td>\n",
       "    </tr>\n",
       "    <tr>\n",
       "      <th>2</th>\n",
       "      <td>Yes</td>\n",
       "      <td>9.118992e+12</td>\n",
       "      <td>5500939</td>\n",
       "      <td>F</td>\n",
       "      <td>2016-03-22T11:09:38Z</td>\n",
       "      <td>2016-05-09T00:00:00Z</td>\n",
       "      <td>65</td>\n",
       "      <td>JARDIM CAMBURI</td>\n",
       "      <td>0</td>\n",
       "      <td>0</td>\n",
       "      <td>0</td>\n",
       "      <td>0</td>\n",
       "      <td>0</td>\n",
       "      <td>0</td>\n",
       "    </tr>\n",
       "    <tr>\n",
       "      <th>3</th>\n",
       "      <td>No</td>\n",
       "      <td>1.843618e+14</td>\n",
       "      <td>5639080</td>\n",
       "      <td>M</td>\n",
       "      <td>2016-04-29T08:42:15Z</td>\n",
       "      <td>2016-04-29T00:00:00Z</td>\n",
       "      <td>41</td>\n",
       "      <td>MARIA ORTIZ</td>\n",
       "      <td>0</td>\n",
       "      <td>0</td>\n",
       "      <td>0</td>\n",
       "      <td>0</td>\n",
       "      <td>0</td>\n",
       "      <td>0</td>\n",
       "    </tr>\n",
       "    <tr>\n",
       "      <th>4</th>\n",
       "      <td>No</td>\n",
       "      <td>5.783198e+13</td>\n",
       "      <td>5671566</td>\n",
       "      <td>M</td>\n",
       "      <td>2016-05-06T18:47:52Z</td>\n",
       "      <td>2016-05-09T00:00:00Z</td>\n",
       "      <td>61</td>\n",
       "      <td>MARUÍPE</td>\n",
       "      <td>0</td>\n",
       "      <td>1</td>\n",
       "      <td>0</td>\n",
       "      <td>1</td>\n",
       "      <td>0</td>\n",
       "      <td>0</td>\n",
       "    </tr>\n",
       "    <tr>\n",
       "      <th>5</th>\n",
       "      <td>No</td>\n",
       "      <td>6.516246e+13</td>\n",
       "      <td>5600056</td>\n",
       "      <td>F</td>\n",
       "      <td>2016-04-19T09:52:22Z</td>\n",
       "      <td>2016-05-16T00:00:00Z</td>\n",
       "      <td>11</td>\n",
       "      <td>DO QUADRO</td>\n",
       "      <td>1</td>\n",
       "      <td>0</td>\n",
       "      <td>0</td>\n",
       "      <td>0</td>\n",
       "      <td>0</td>\n",
       "      <td>0</td>\n",
       "    </tr>\n",
       "    <tr>\n",
       "      <th>6</th>\n",
       "      <td>No</td>\n",
       "      <td>6.559800e+12</td>\n",
       "      <td>5640931</td>\n",
       "      <td>M</td>\n",
       "      <td>2016-04-29T11:44:39Z</td>\n",
       "      <td>2016-05-04T00:00:00Z</td>\n",
       "      <td>45</td>\n",
       "      <td>CRUZAMENTO</td>\n",
       "      <td>0</td>\n",
       "      <td>0</td>\n",
       "      <td>0</td>\n",
       "      <td>0</td>\n",
       "      <td>0</td>\n",
       "      <td>1</td>\n",
       "    </tr>\n",
       "    <tr>\n",
       "      <th>7</th>\n",
       "      <td>No</td>\n",
       "      <td>1.432925e+12</td>\n",
       "      <td>5730450</td>\n",
       "      <td>M</td>\n",
       "      <td>2016-05-24T08:37:44Z</td>\n",
       "      <td>2016-06-07T00:00:00Z</td>\n",
       "      <td>9</td>\n",
       "      <td>MÁRIO CYPRESTE</td>\n",
       "      <td>0</td>\n",
       "      <td>0</td>\n",
       "      <td>0</td>\n",
       "      <td>0</td>\n",
       "      <td>0</td>\n",
       "      <td>1</td>\n",
       "    </tr>\n",
       "    <tr>\n",
       "      <th>8</th>\n",
       "      <td>No</td>\n",
       "      <td>9.741488e+14</td>\n",
       "      <td>5771325</td>\n",
       "      <td>M</td>\n",
       "      <td>2016-06-03T12:24:24Z</td>\n",
       "      <td>2016-06-03T00:00:00Z</td>\n",
       "      <td>79</td>\n",
       "      <td>SOLON BORGES</td>\n",
       "      <td>0</td>\n",
       "      <td>0</td>\n",
       "      <td>0</td>\n",
       "      <td>0</td>\n",
       "      <td>0</td>\n",
       "      <td>0</td>\n",
       "    </tr>\n",
       "    <tr>\n",
       "      <th>9</th>\n",
       "      <td>No</td>\n",
       "      <td>5.458152e+12</td>\n",
       "      <td>5671279</td>\n",
       "      <td>M</td>\n",
       "      <td>2016-05-06T16:09:35Z</td>\n",
       "      <td>2016-05-10T00:00:00Z</td>\n",
       "      <td>60</td>\n",
       "      <td>TABUAZEIRO</td>\n",
       "      <td>0</td>\n",
       "      <td>1</td>\n",
       "      <td>0</td>\n",
       "      <td>0</td>\n",
       "      <td>0</td>\n",
       "      <td>1</td>\n",
       "    </tr>\n",
       "  </tbody>\n",
       "</table>\n",
       "</div>"
      ],
      "text/plain": [
       "  No-show     PatientId  AppointmentID Gender          ScheduledDay  \\\n",
       "0      No  1.328492e+12        5687610      F  2016-05-11T16:00:16Z   \n",
       "1      No  3.881869e+14        5694484      M  2016-05-13T08:41:27Z   \n",
       "2     Yes  9.118992e+12        5500939      F  2016-03-22T11:09:38Z   \n",
       "3      No  1.843618e+14        5639080      M  2016-04-29T08:42:15Z   \n",
       "4      No  5.783198e+13        5671566      M  2016-05-06T18:47:52Z   \n",
       "5      No  6.516246e+13        5600056      F  2016-04-19T09:52:22Z   \n",
       "6      No  6.559800e+12        5640931      M  2016-04-29T11:44:39Z   \n",
       "7      No  1.432925e+12        5730450      M  2016-05-24T08:37:44Z   \n",
       "8      No  9.741488e+14        5771325      M  2016-06-03T12:24:24Z   \n",
       "9      No  5.458152e+12        5671279      M  2016-05-06T16:09:35Z   \n",
       "\n",
       "         AppointmentDay  Age   Neighbourhood  Scholarship  Hipertension  \\\n",
       "0  2016-05-19T00:00:00Z   25   MATA DA PRAIA            0             0   \n",
       "1  2016-05-17T00:00:00Z   62       FRADINHOS            0             0   \n",
       "2  2016-05-09T00:00:00Z   65  JARDIM CAMBURI            0             0   \n",
       "3  2016-04-29T00:00:00Z   41     MARIA ORTIZ            0             0   \n",
       "4  2016-05-09T00:00:00Z   61         MARUÍPE            0             1   \n",
       "5  2016-05-16T00:00:00Z   11       DO QUADRO            1             0   \n",
       "6  2016-05-04T00:00:00Z   45      CRUZAMENTO            0             0   \n",
       "7  2016-06-07T00:00:00Z    9  MÁRIO CYPRESTE            0             0   \n",
       "8  2016-06-03T00:00:00Z   79    SOLON BORGES            0             0   \n",
       "9  2016-05-10T00:00:00Z   60      TABUAZEIRO            0             1   \n",
       "\n",
       "   Diabetes  Alcoholism  Handcap  SMS_received  \n",
       "0         0           0        0             0  \n",
       "1         0           0        0             0  \n",
       "2         0           0        0             0  \n",
       "3         0           0        0             0  \n",
       "4         0           1        0             0  \n",
       "5         0           0        0             0  \n",
       "6         0           0        0             1  \n",
       "7         0           0        0             1  \n",
       "8         0           0        0             0  \n",
       "9         0           0        0             1  "
      ]
     },
     "execution_count": 12,
     "metadata": {},
     "output_type": "execute_result"
    }
   ],
   "source": [
    "appointments.head(10)"
   ]
  },
  {
   "cell_type": "markdown",
   "metadata": {},
   "source": [
    "Ci sono molti più pazienti che non si presentano all'appuntamento"
   ]
  },
  {
   "cell_type": "code",
   "execution_count": 15,
   "metadata": {},
   "outputs": [
    {
     "data": {
      "text/plain": [
       "Text(0.5, 1.0, 'showed up patients')"
      ]
     },
     "execution_count": 15,
     "metadata": {},
     "output_type": "execute_result"
    },
    {
     "data": {
      "image/png": "[encoded data removed]",
      "text/plain": [
       "<Figure size 432x288 with 1 Axes>"
      ]
     },
     "metadata": {
      "needs_background": "light"
     },
     "output_type": "display_data"
    }
   ],
   "source": [
    "appointments['No-show'].value_counts().plot(kind='bar').set_title('showed up patients')"
   ]
  },
  {
   "cell_type": "markdown",
   "metadata": {},
   "source": [
    "Controllo i possibili valori assunti dalle feature, ricordando lo shape del dataset"
   ]
  },
  {
   "cell_type": "code",
   "execution_count": 21,
   "metadata": {},
   "outputs": [
    {
     "data": {
      "text/plain": [
       "(88421, 14)"
      ]
     },
     "execution_count": 21,
     "metadata": {},
     "output_type": "execute_result"
    }
   ],
   "source": [
    "appointments.shape"
   ]
  },
  {
   "cell_type": "code",
   "execution_count": 20,
   "metadata": {},
   "outputs": [
    {
     "data": {
      "text/plain": [
       "No-show               2\n",
       "PatientId         54105\n",
       "AppointmentID     88421\n",
       "Gender                2\n",
       "ScheduledDay      83840\n",
       "AppointmentDay       27\n",
       "Age                 103\n",
       "Neighbourhood        81\n",
       "Scholarship           2\n",
       "Hipertension          2\n",
       "Diabetes              2\n",
       "Alcoholism            2\n",
       "Handcap               5\n",
       "SMS_received          2\n",
       "dtype: int64"
      ]
     },
     "execution_count": 20,
     "metadata": {},
     "output_type": "execute_result"
    }
   ],
   "source": [
    "appointments.nunique()"
   ]
  },
  {
   "cell_type": "markdown",
   "metadata": {},
   "source": [
    "Gli ID dei pazienti non sono univoci. E' tuttavia consentito che un paziente prenoti più visite"
   ]
  },
  {
   "cell_type": "code",
   "execution_count": 18,
   "metadata": {},
   "outputs": [
    {
     "data": {
      "text/plain": [
       "<matplotlib.axes._subplots.AxesSubplot at 0x13a23c3e2b0>"
      ]
     },
     "execution_count": 18,
     "metadata": {},
     "output_type": "execute_result"
    },
    {
     "data": {
      "image/png": "[encoded data removed]",
      "text/plain": [
       "<Figure size 432x288 with 1 Axes>"
      ]
     },
     "metadata": {
      "needs_background": "light"
     },
     "output_type": "display_data"
    }
   ],
   "source": [
    "sns.distplot(appointments.PatientId.value_counts())"
   ]
  },
  {
   "cell_type": "code",
   "execution_count": 19,
   "metadata": {},
   "outputs": [
    {
     "data": {
      "text/plain": [
       "8.221459e+14    71\n",
       "9.963767e+10    67\n",
       "2.688613e+13    61\n",
       "3.353478e+13    53\n",
       "6.264199e+12    53\n",
       "                ..\n",
       "2.944721e+13     1\n",
       "1.228648e+13     1\n",
       "5.176346e+14     1\n",
       "4.549555e+14     1\n",
       "9.917836e+12     1\n",
       "Name: PatientId, Length: 54105, dtype: int64"
      ]
     },
     "execution_count": 19,
     "metadata": {},
     "output_type": "execute_result"
    }
   ],
   "source": [
    "appointments.PatientId.value_counts()"
   ]
  },
  {
   "cell_type": "markdown",
   "metadata": {},
   "source": [
    "Ci sono alcuni ID dei pazienti che non sono formattati correttamente (5 rows)"
   ]
  },
  {
   "cell_type": "code",
   "execution_count": 26,
   "metadata": {},
   "outputs": [
    {
     "data": {
      "text/plain": [
       "88416"
      ]
     },
     "execution_count": 26,
     "metadata": {},
     "output_type": "execute_result"
    }
   ],
   "source": [
    "appointments.PatientId.apply(float.is_integer).sum()"
   ]
  },
  {
   "cell_type": "code",
   "execution_count": 27,
   "metadata": {},
   "outputs": [
    {
     "data": {
      "text/html": [
       "<div>\n",
       "<style scoped>\n",
       "    .dataframe tbody tr th:only-of-type {\n",
       "        vertical-align: middle;\n",
       "    }\n",
       "\n",
       "    .dataframe tbody tr th {\n",
       "        vertical-align: top;\n",
       "    }\n",
       "\n",
       "    .dataframe thead th {\n",
       "        text-align: right;\n",
       "    }\n",
       "</style>\n",
       "<table border=\"1\" class=\"dataframe\">\n",
       "  <thead>\n",
       "    <tr style=\"text-align: right;\">\n",
       "      <th></th>\n",
       "      <th>No-show</th>\n",
       "      <th>PatientId</th>\n",
       "      <th>AppointmentID</th>\n",
       "      <th>Gender</th>\n",
       "      <th>ScheduledDay</th>\n",
       "      <th>AppointmentDay</th>\n",
       "      <th>Age</th>\n",
       "      <th>Neighbourhood</th>\n",
       "      <th>Scholarship</th>\n",
       "      <th>Hipertension</th>\n",
       "      <th>Diabetes</th>\n",
       "      <th>Alcoholism</th>\n",
       "      <th>Handcap</th>\n",
       "      <th>SMS_received</th>\n",
       "    </tr>\n",
       "  </thead>\n",
       "  <tbody>\n",
       "    <tr>\n",
       "      <th>29449</th>\n",
       "      <td>No</td>\n",
       "      <td>39217.84439</td>\n",
       "      <td>5751990</td>\n",
       "      <td>F</td>\n",
       "      <td>2016-05-31T10:56:41Z</td>\n",
       "      <td>2016-06-03T00:00:00Z</td>\n",
       "      <td>44</td>\n",
       "      <td>PRAIA DO SUÁ</td>\n",
       "      <td>0</td>\n",
       "      <td>0</td>\n",
       "      <td>0</td>\n",
       "      <td>0</td>\n",
       "      <td>0</td>\n",
       "      <td>0</td>\n",
       "    </tr>\n",
       "    <tr>\n",
       "      <th>49021</th>\n",
       "      <td>No</td>\n",
       "      <td>141724.16655</td>\n",
       "      <td>5637648</td>\n",
       "      <td>M</td>\n",
       "      <td>2016-04-29T07:13:36Z</td>\n",
       "      <td>2016-05-02T00:00:00Z</td>\n",
       "      <td>12</td>\n",
       "      <td>FORTE SÃO JOÃO</td>\n",
       "      <td>0</td>\n",
       "      <td>0</td>\n",
       "      <td>0</td>\n",
       "      <td>0</td>\n",
       "      <td>0</td>\n",
       "      <td>0</td>\n",
       "    </tr>\n",
       "    <tr>\n",
       "      <th>52650</th>\n",
       "      <td>No</td>\n",
       "      <td>93779.52927</td>\n",
       "      <td>5712759</td>\n",
       "      <td>F</td>\n",
       "      <td>2016-05-18T09:12:29Z</td>\n",
       "      <td>2016-05-18T00:00:00Z</td>\n",
       "      <td>33</td>\n",
       "      <td>CENTRO</td>\n",
       "      <td>0</td>\n",
       "      <td>0</td>\n",
       "      <td>0</td>\n",
       "      <td>0</td>\n",
       "      <td>0</td>\n",
       "      <td>0</td>\n",
       "    </tr>\n",
       "    <tr>\n",
       "      <th>75314</th>\n",
       "      <td>No</td>\n",
       "      <td>537615.28476</td>\n",
       "      <td>5637728</td>\n",
       "      <td>F</td>\n",
       "      <td>2016-04-29T07:19:57Z</td>\n",
       "      <td>2016-05-06T00:00:00Z</td>\n",
       "      <td>14</td>\n",
       "      <td>FORTE SÃO JOÃO</td>\n",
       "      <td>0</td>\n",
       "      <td>0</td>\n",
       "      <td>0</td>\n",
       "      <td>0</td>\n",
       "      <td>0</td>\n",
       "      <td>1</td>\n",
       "    </tr>\n",
       "    <tr>\n",
       "      <th>79477</th>\n",
       "      <td>No</td>\n",
       "      <td>43741.75652</td>\n",
       "      <td>5760144</td>\n",
       "      <td>M</td>\n",
       "      <td>2016-06-01T14:22:58Z</td>\n",
       "      <td>2016-06-01T00:00:00Z</td>\n",
       "      <td>39</td>\n",
       "      <td>MARIA ORTIZ</td>\n",
       "      <td>0</td>\n",
       "      <td>0</td>\n",
       "      <td>1</td>\n",
       "      <td>0</td>\n",
       "      <td>0</td>\n",
       "      <td>0</td>\n",
       "    </tr>\n",
       "  </tbody>\n",
       "</table>\n",
       "</div>"
      ],
      "text/plain": [
       "      No-show     PatientId  AppointmentID Gender          ScheduledDay  \\\n",
       "29449      No   39217.84439        5751990      F  2016-05-31T10:56:41Z   \n",
       "49021      No  141724.16655        5637648      M  2016-04-29T07:13:36Z   \n",
       "52650      No   93779.52927        5712759      F  2016-05-18T09:12:29Z   \n",
       "75314      No  537615.28476        5637728      F  2016-04-29T07:19:57Z   \n",
       "79477      No   43741.75652        5760144      M  2016-06-01T14:22:58Z   \n",
       "\n",
       "             AppointmentDay  Age   Neighbourhood  Scholarship  Hipertension  \\\n",
       "29449  2016-06-03T00:00:00Z   44    PRAIA DO SUÁ            0             0   \n",
       "49021  2016-05-02T00:00:00Z   12  FORTE SÃO JOÃO            0             0   \n",
       "52650  2016-05-18T00:00:00Z   33          CENTRO            0             0   \n",
       "75314  2016-05-06T00:00:00Z   14  FORTE SÃO JOÃO            0             0   \n",
       "79477  2016-06-01T00:00:00Z   39     MARIA ORTIZ            0             0   \n",
       "\n",
       "       Diabetes  Alcoholism  Handcap  SMS_received  \n",
       "29449         0           0        0             0  \n",
       "49021         0           0        0             0  \n",
       "52650         0           0        0             0  \n",
       "75314         0           0        0             1  \n",
       "79477         1           0        0             0  "
      ]
     },
     "execution_count": 27,
     "metadata": {},
     "output_type": "execute_result"
    }
   ],
   "source": [
    "appointments[appointments.PatientId.apply(float.is_integer) == False]"
   ]
  },
  {
   "cell_type": "code",
   "execution_count": null,
   "metadata": {},
   "outputs": [],
   "source": []
  }
 ],
 "metadata": {
  "kernelspec": {
   "display_name": "Python 3",
   "language": "python",
   "name": "python3"
  },
  "language_info": {
   "codemirror_mode": {
    "name": "ipython",
    "version": 3
   },
   "file_extension": ".py",
   "mimetype": "text/x-python",
   "name": "python",
   "nbconvert_exporter": "python",
   "pygments_lexer": "ipython3",
   "version": "3.7.0"
  }
 },
 "nbformat": 4,
 "nbformat_minor": 4
}
